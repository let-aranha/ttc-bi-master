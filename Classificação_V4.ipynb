{
  "nbformat": 4,
  "nbformat_minor": 0,
  "metadata": {
    "colab": {
      "name": "Classificação_V4.ipynb",
      "provenance": [],
      "collapsed_sections": [],
      "include_colab_link": true
    },
    "kernelspec": {
      "name": "python3",
      "display_name": "Python 3"
    }
  },
  "cells": [
    {
      "cell_type": "markdown",
      "metadata": {
        "id": "view-in-github",
        "colab_type": "text"
      },
      "source": [
        "<a href=\"https://colab.research.google.com/github/let-aranha/ttc-bi-master/blob/main/Classifica%C3%A7%C3%A3o_V4.ipynb\" target=\"_parent\"><img src=\"https://colab.research.google.com/assets/colab-badge.svg\" alt=\"Open In Colab\"/></a>"
      ]
    },
    {
      "cell_type": "code",
      "metadata": {
        "id": "DFRb3MR-gA4n",
        "colab": {
          "base_uri": "https://localhost:8080/"
        },
        "outputId": "74641f88-c385-4892-fe21-6e871f8ba02e"
      },
      "source": [
        "from google.colab import drive\n",
        "drive.mount('/content/drive')\n",
        "import os\n",
        "workdir_path = '/content/drive/My Drive/TCC/Data'\n",
        "os.chdir(workdir_path)"
      ],
      "execution_count": 1,
      "outputs": [
        {
          "output_type": "stream",
          "text": [
            "Mounted at /content/drive\n"
          ],
          "name": "stdout"
        }
      ]
    },
    {
      "cell_type": "code",
      "metadata": {
        "id": "0owC8eL-pd1l"
      },
      "source": [
        "#Importando bibliotecas\n",
        "\n",
        "# Lib JSON\n",
        "import json \n",
        "import pandas as pd\n",
        "import numpy as np\n",
        "\n",
        "# Lib dados em formato data\n",
        "from datetime import datetime\n",
        "\n",
        "# Lib para criação e gráficos\n",
        "import random\n",
        "import matplotlib.pyplot as plt\n",
        "import seaborn as sns\n",
        "%matplotlib inline\n",
        "\n",
        "# Lib para divisão base treino e teste\n",
        "from sklearn.model_selection import train_test_split\n",
        "\n",
        "# Lib para visualização de missing values\n",
        "import missingno as msno\n"
      ],
      "execution_count": 53,
      "outputs": []
    },
    {
      "cell_type": "code",
      "metadata": {
        "id": "YOcSoXLKt-Us"
      },
      "source": [
        "# Importando json file direto para o notebook\n",
        "\n",
        "# import json \n",
        "# import pandas as pd\n",
        "# import numpy as np\n",
        "\n",
        "# Opening JSON file \n",
        "f = open('tickets_anonymized_Rev2.json', encoding='utf-8') \n",
        "\n",
        "# returns JSON object as \n",
        "# a dictionary \n",
        "data = json.load(f) \n",
        "\n",
        "# Iterating through the json \n",
        "# list \n",
        "# for i in data: \n",
        "# \tprint(i) \n",
        "\n",
        "# Closing file \n",
        "f.close() "
      ],
      "execution_count": 54,
      "outputs": []
    },
    {
      "cell_type": "code",
      "metadata": {
        "colab": {
          "base_uri": "https://localhost:8080/",
          "height": 309
        },
        "id": "v11fBYnUumev",
        "outputId": "74b78b0f-819c-4c5a-9244-e989a8577c11"
      },
      "source": [
        "# Convertendo dados em DataFrame\n",
        "\n",
        "tickets = pd.DataFrame(data)\n",
        "tickets.head()"
      ],
      "execution_count": 55,
      "outputs": [
        {
          "output_type": "execute_result",
          "data": {
            "text/html": [
              "<div>\n",
              "<style scoped>\n",
              "    .dataframe tbody tr th:only-of-type {\n",
              "        vertical-align: middle;\n",
              "    }\n",
              "\n",
              "    .dataframe tbody tr th {\n",
              "        vertical-align: top;\n",
              "    }\n",
              "\n",
              "    .dataframe thead th {\n",
              "        text-align: right;\n",
              "    }\n",
              "</style>\n",
              "<table border=\"1\" class=\"dataframe\">\n",
              "  <thead>\n",
              "    <tr style=\"text-align: right;\">\n",
              "      <th></th>\n",
              "      <th>id</th>\n",
              "      <th>created_at</th>\n",
              "      <th>type</th>\n",
              "      <th>priority</th>\n",
              "      <th>status</th>\n",
              "      <th>is_public</th>\n",
              "      <th>brand_id</th>\n",
              "      <th>submitter_id</th>\n",
              "      <th>group_id</th>\n",
              "      <th>organization_id</th>\n",
              "      <th>has_partner</th>\n",
              "      <th>has_success_manager</th>\n",
              "      <th>requester_id</th>\n",
              "      <th>requester_created_at</th>\n",
              "      <th>requester_nps</th>\n",
              "      <th>requester_platform_skills</th>\n",
              "      <th>complexity</th>\n",
              "      <th>is_operating</th>\n",
              "    </tr>\n",
              "  </thead>\n",
              "  <tbody>\n",
              "    <tr>\n",
              "      <th>0</th>\n",
              "      <td>162875</td>\n",
              "      <td>2019-05-29T11:47:31.000Z</td>\n",
              "      <td>incident</td>\n",
              "      <td>high</td>\n",
              "      <td>hold</td>\n",
              "      <td>True</td>\n",
              "      <td>144968</td>\n",
              "      <td>8958433768</td>\n",
              "      <td>3.600088e+11</td>\n",
              "      <td>3.601459e+11</td>\n",
              "      <td>False</td>\n",
              "      <td>False</td>\n",
              "      <td>8958433768</td>\n",
              "      <td>2016-08-03T15:18:13.000Z</td>\n",
              "      <td>nps-detractor</td>\n",
              "      <td>platform-skills-advanced</td>\n",
              "      <td>high</td>\n",
              "      <td>None</td>\n",
              "    </tr>\n",
              "    <tr>\n",
              "      <th>1</th>\n",
              "      <td>166035</td>\n",
              "      <td>2019-06-12T15:23:14.000Z</td>\n",
              "      <td>incident</td>\n",
              "      <td>high</td>\n",
              "      <td>open</td>\n",
              "      <td>True</td>\n",
              "      <td>144968</td>\n",
              "      <td>8958433768</td>\n",
              "      <td>3.600139e+11</td>\n",
              "      <td>3.601459e+11</td>\n",
              "      <td>False</td>\n",
              "      <td>False</td>\n",
              "      <td>8958433768</td>\n",
              "      <td>2016-08-03T15:18:13.000Z</td>\n",
              "      <td>nps-detractor</td>\n",
              "      <td>platform-skills-advanced</td>\n",
              "      <td>very_high</td>\n",
              "      <td>None</td>\n",
              "    </tr>\n",
              "    <tr>\n",
              "      <th>2</th>\n",
              "      <td>182449</td>\n",
              "      <td>2019-08-23T21:13:47.000Z</td>\n",
              "      <td>question</td>\n",
              "      <td>normal</td>\n",
              "      <td>hold</td>\n",
              "      <td>True</td>\n",
              "      <td>144968</td>\n",
              "      <td>379450971772</td>\n",
              "      <td>3.600155e+11</td>\n",
              "      <td>2.559354e+08</td>\n",
              "      <td>False</td>\n",
              "      <td>False</td>\n",
              "      <td>379450971772</td>\n",
              "      <td>2019-04-04T13:34:21.000Z</td>\n",
              "      <td>None</td>\n",
              "      <td>platform-skills-advanced</td>\n",
              "      <td>very_high</td>\n",
              "      <td>None</td>\n",
              "    </tr>\n",
              "    <tr>\n",
              "      <th>3</th>\n",
              "      <td>189041</td>\n",
              "      <td>2019-09-20T16:33:59.000Z</td>\n",
              "      <td>incident</td>\n",
              "      <td>normal</td>\n",
              "      <td>solved</td>\n",
              "      <td>True</td>\n",
              "      <td>144968</td>\n",
              "      <td>378569033032</td>\n",
              "      <td>3.600120e+11</td>\n",
              "      <td>1.403345e+08</td>\n",
              "      <td>True</td>\n",
              "      <td>False</td>\n",
              "      <td>378569033032</td>\n",
              "      <td>2019-03-18T20:21:53.000Z</td>\n",
              "      <td>None</td>\n",
              "      <td>platform-skills-intermediate</td>\n",
              "      <td>moderate</td>\n",
              "      <td>None</td>\n",
              "    </tr>\n",
              "    <tr>\n",
              "      <th>4</th>\n",
              "      <td>207873</td>\n",
              "      <td>2019-12-09T13:54:47.000Z</td>\n",
              "      <td>None</td>\n",
              "      <td>normal</td>\n",
              "      <td>open</td>\n",
              "      <td>True</td>\n",
              "      <td>144968</td>\n",
              "      <td>367450009112</td>\n",
              "      <td>3.600124e+11</td>\n",
              "      <td>3.600242e+11</td>\n",
              "      <td>False</td>\n",
              "      <td>False</td>\n",
              "      <td>367450009112</td>\n",
              "      <td>2018-07-25T06:41:31.000Z</td>\n",
              "      <td>None</td>\n",
              "      <td>platform-skills-advanced</td>\n",
              "      <td>None</td>\n",
              "      <td>None</td>\n",
              "    </tr>\n",
              "  </tbody>\n",
              "</table>\n",
              "</div>"
            ],
            "text/plain": [
              "       id                created_at  ... complexity is_operating\n",
              "0  162875  2019-05-29T11:47:31.000Z  ...       high         None\n",
              "1  166035  2019-06-12T15:23:14.000Z  ...  very_high         None\n",
              "2  182449  2019-08-23T21:13:47.000Z  ...  very_high         None\n",
              "3  189041  2019-09-20T16:33:59.000Z  ...   moderate         None\n",
              "4  207873  2019-12-09T13:54:47.000Z  ...       None         None\n",
              "\n",
              "[5 rows x 18 columns]"
            ]
          },
          "metadata": {
            "tags": []
          },
          "execution_count": 55
        }
      ]
    },
    {
      "cell_type": "code",
      "metadata": {
        "colab": {
          "base_uri": "https://localhost:8080/"
        },
        "id": "RAG-1LMCOmA6",
        "outputId": "7a20d278-4244-4bfe-9b98-fae66060c7fc"
      },
      "source": [
        "tickets.shape"
      ],
      "execution_count": 56,
      "outputs": [
        {
          "output_type": "execute_result",
          "data": {
            "text/plain": [
              "(22653, 18)"
            ]
          },
          "metadata": {
            "tags": []
          },
          "execution_count": 56
        }
      ]
    },
    {
      "cell_type": "code",
      "metadata": {
        "colab": {
          "base_uri": "https://localhost:8080/",
          "height": 195
        },
        "id": "PVVTZ-xeu7GF",
        "outputId": "dfd8bb41-712e-431c-9fe0-136f16d1fd30"
      },
      "source": [
        "tickets.set_index('id', inplace = True)\n",
        "tickets.head(2)"
      ],
      "execution_count": 57,
      "outputs": [
        {
          "output_type": "execute_result",
          "data": {
            "text/html": [
              "<div>\n",
              "<style scoped>\n",
              "    .dataframe tbody tr th:only-of-type {\n",
              "        vertical-align: middle;\n",
              "    }\n",
              "\n",
              "    .dataframe tbody tr th {\n",
              "        vertical-align: top;\n",
              "    }\n",
              "\n",
              "    .dataframe thead th {\n",
              "        text-align: right;\n",
              "    }\n",
              "</style>\n",
              "<table border=\"1\" class=\"dataframe\">\n",
              "  <thead>\n",
              "    <tr style=\"text-align: right;\">\n",
              "      <th></th>\n",
              "      <th>created_at</th>\n",
              "      <th>type</th>\n",
              "      <th>priority</th>\n",
              "      <th>status</th>\n",
              "      <th>is_public</th>\n",
              "      <th>brand_id</th>\n",
              "      <th>submitter_id</th>\n",
              "      <th>group_id</th>\n",
              "      <th>organization_id</th>\n",
              "      <th>has_partner</th>\n",
              "      <th>has_success_manager</th>\n",
              "      <th>requester_id</th>\n",
              "      <th>requester_created_at</th>\n",
              "      <th>requester_nps</th>\n",
              "      <th>requester_platform_skills</th>\n",
              "      <th>complexity</th>\n",
              "      <th>is_operating</th>\n",
              "    </tr>\n",
              "    <tr>\n",
              "      <th>id</th>\n",
              "      <th></th>\n",
              "      <th></th>\n",
              "      <th></th>\n",
              "      <th></th>\n",
              "      <th></th>\n",
              "      <th></th>\n",
              "      <th></th>\n",
              "      <th></th>\n",
              "      <th></th>\n",
              "      <th></th>\n",
              "      <th></th>\n",
              "      <th></th>\n",
              "      <th></th>\n",
              "      <th></th>\n",
              "      <th></th>\n",
              "      <th></th>\n",
              "      <th></th>\n",
              "    </tr>\n",
              "  </thead>\n",
              "  <tbody>\n",
              "    <tr>\n",
              "      <th>162875</th>\n",
              "      <td>2019-05-29T11:47:31.000Z</td>\n",
              "      <td>incident</td>\n",
              "      <td>high</td>\n",
              "      <td>hold</td>\n",
              "      <td>True</td>\n",
              "      <td>144968</td>\n",
              "      <td>8958433768</td>\n",
              "      <td>3.600088e+11</td>\n",
              "      <td>3.601459e+11</td>\n",
              "      <td>False</td>\n",
              "      <td>False</td>\n",
              "      <td>8958433768</td>\n",
              "      <td>2016-08-03T15:18:13.000Z</td>\n",
              "      <td>nps-detractor</td>\n",
              "      <td>platform-skills-advanced</td>\n",
              "      <td>high</td>\n",
              "      <td>None</td>\n",
              "    </tr>\n",
              "    <tr>\n",
              "      <th>166035</th>\n",
              "      <td>2019-06-12T15:23:14.000Z</td>\n",
              "      <td>incident</td>\n",
              "      <td>high</td>\n",
              "      <td>open</td>\n",
              "      <td>True</td>\n",
              "      <td>144968</td>\n",
              "      <td>8958433768</td>\n",
              "      <td>3.600139e+11</td>\n",
              "      <td>3.601459e+11</td>\n",
              "      <td>False</td>\n",
              "      <td>False</td>\n",
              "      <td>8958433768</td>\n",
              "      <td>2016-08-03T15:18:13.000Z</td>\n",
              "      <td>nps-detractor</td>\n",
              "      <td>platform-skills-advanced</td>\n",
              "      <td>very_high</td>\n",
              "      <td>None</td>\n",
              "    </tr>\n",
              "  </tbody>\n",
              "</table>\n",
              "</div>"
            ],
            "text/plain": [
              "                      created_at      type  ... complexity is_operating\n",
              "id                                          ...                        \n",
              "162875  2019-05-29T11:47:31.000Z  incident  ...       high         None\n",
              "166035  2019-06-12T15:23:14.000Z  incident  ...  very_high         None\n",
              "\n",
              "[2 rows x 17 columns]"
            ]
          },
          "metadata": {
            "tags": []
          },
          "execution_count": 57
        }
      ]
    },
    {
      "cell_type": "markdown",
      "metadata": {
        "id": "qhTzG4MJfRV9"
      },
      "source": [
        "# ETL"
      ]
    },
    {
      "cell_type": "markdown",
      "metadata": {
        "id": "9lpj7d4fQOLG"
      },
      "source": [
        "#### 'created_at'"
      ]
    },
    {
      "cell_type": "code",
      "metadata": {
        "id": "HyZtjSPlAHHC",
        "colab": {
          "base_uri": "https://localhost:8080/",
          "height": 339
        },
        "outputId": "e12a2610-f3d0-4c9a-bf8a-a71504af5a58"
      },
      "source": [
        "# Criando variável para dia da semana\n",
        "# Onde 0 é segunda-feira e 6 é domingo\n",
        "\n",
        "weekday = []\n",
        "\n",
        "for i in tickets['created_at']:\n",
        "  weekday.append((datetime.strptime(i, '%Y-%m-%dT%H:%M:%S.000Z').date()).weekday())\n",
        "\n",
        "tickets['weekday'] = weekday\n",
        "tickets.head()"
      ],
      "execution_count": 58,
      "outputs": [
        {
          "output_type": "execute_result",
          "data": {
            "text/html": [
              "<div>\n",
              "<style scoped>\n",
              "    .dataframe tbody tr th:only-of-type {\n",
              "        vertical-align: middle;\n",
              "    }\n",
              "\n",
              "    .dataframe tbody tr th {\n",
              "        vertical-align: top;\n",
              "    }\n",
              "\n",
              "    .dataframe thead th {\n",
              "        text-align: right;\n",
              "    }\n",
              "</style>\n",
              "<table border=\"1\" class=\"dataframe\">\n",
              "  <thead>\n",
              "    <tr style=\"text-align: right;\">\n",
              "      <th></th>\n",
              "      <th>created_at</th>\n",
              "      <th>type</th>\n",
              "      <th>priority</th>\n",
              "      <th>status</th>\n",
              "      <th>is_public</th>\n",
              "      <th>brand_id</th>\n",
              "      <th>submitter_id</th>\n",
              "      <th>group_id</th>\n",
              "      <th>organization_id</th>\n",
              "      <th>has_partner</th>\n",
              "      <th>has_success_manager</th>\n",
              "      <th>requester_id</th>\n",
              "      <th>requester_created_at</th>\n",
              "      <th>requester_nps</th>\n",
              "      <th>requester_platform_skills</th>\n",
              "      <th>complexity</th>\n",
              "      <th>is_operating</th>\n",
              "      <th>weekday</th>\n",
              "    </tr>\n",
              "    <tr>\n",
              "      <th>id</th>\n",
              "      <th></th>\n",
              "      <th></th>\n",
              "      <th></th>\n",
              "      <th></th>\n",
              "      <th></th>\n",
              "      <th></th>\n",
              "      <th></th>\n",
              "      <th></th>\n",
              "      <th></th>\n",
              "      <th></th>\n",
              "      <th></th>\n",
              "      <th></th>\n",
              "      <th></th>\n",
              "      <th></th>\n",
              "      <th></th>\n",
              "      <th></th>\n",
              "      <th></th>\n",
              "      <th></th>\n",
              "    </tr>\n",
              "  </thead>\n",
              "  <tbody>\n",
              "    <tr>\n",
              "      <th>162875</th>\n",
              "      <td>2019-05-29T11:47:31.000Z</td>\n",
              "      <td>incident</td>\n",
              "      <td>high</td>\n",
              "      <td>hold</td>\n",
              "      <td>True</td>\n",
              "      <td>144968</td>\n",
              "      <td>8958433768</td>\n",
              "      <td>3.600088e+11</td>\n",
              "      <td>3.601459e+11</td>\n",
              "      <td>False</td>\n",
              "      <td>False</td>\n",
              "      <td>8958433768</td>\n",
              "      <td>2016-08-03T15:18:13.000Z</td>\n",
              "      <td>nps-detractor</td>\n",
              "      <td>platform-skills-advanced</td>\n",
              "      <td>high</td>\n",
              "      <td>None</td>\n",
              "      <td>2</td>\n",
              "    </tr>\n",
              "    <tr>\n",
              "      <th>166035</th>\n",
              "      <td>2019-06-12T15:23:14.000Z</td>\n",
              "      <td>incident</td>\n",
              "      <td>high</td>\n",
              "      <td>open</td>\n",
              "      <td>True</td>\n",
              "      <td>144968</td>\n",
              "      <td>8958433768</td>\n",
              "      <td>3.600139e+11</td>\n",
              "      <td>3.601459e+11</td>\n",
              "      <td>False</td>\n",
              "      <td>False</td>\n",
              "      <td>8958433768</td>\n",
              "      <td>2016-08-03T15:18:13.000Z</td>\n",
              "      <td>nps-detractor</td>\n",
              "      <td>platform-skills-advanced</td>\n",
              "      <td>very_high</td>\n",
              "      <td>None</td>\n",
              "      <td>2</td>\n",
              "    </tr>\n",
              "    <tr>\n",
              "      <th>182449</th>\n",
              "      <td>2019-08-23T21:13:47.000Z</td>\n",
              "      <td>question</td>\n",
              "      <td>normal</td>\n",
              "      <td>hold</td>\n",
              "      <td>True</td>\n",
              "      <td>144968</td>\n",
              "      <td>379450971772</td>\n",
              "      <td>3.600155e+11</td>\n",
              "      <td>2.559354e+08</td>\n",
              "      <td>False</td>\n",
              "      <td>False</td>\n",
              "      <td>379450971772</td>\n",
              "      <td>2019-04-04T13:34:21.000Z</td>\n",
              "      <td>None</td>\n",
              "      <td>platform-skills-advanced</td>\n",
              "      <td>very_high</td>\n",
              "      <td>None</td>\n",
              "      <td>4</td>\n",
              "    </tr>\n",
              "    <tr>\n",
              "      <th>189041</th>\n",
              "      <td>2019-09-20T16:33:59.000Z</td>\n",
              "      <td>incident</td>\n",
              "      <td>normal</td>\n",
              "      <td>solved</td>\n",
              "      <td>True</td>\n",
              "      <td>144968</td>\n",
              "      <td>378569033032</td>\n",
              "      <td>3.600120e+11</td>\n",
              "      <td>1.403345e+08</td>\n",
              "      <td>True</td>\n",
              "      <td>False</td>\n",
              "      <td>378569033032</td>\n",
              "      <td>2019-03-18T20:21:53.000Z</td>\n",
              "      <td>None</td>\n",
              "      <td>platform-skills-intermediate</td>\n",
              "      <td>moderate</td>\n",
              "      <td>None</td>\n",
              "      <td>4</td>\n",
              "    </tr>\n",
              "    <tr>\n",
              "      <th>207873</th>\n",
              "      <td>2019-12-09T13:54:47.000Z</td>\n",
              "      <td>None</td>\n",
              "      <td>normal</td>\n",
              "      <td>open</td>\n",
              "      <td>True</td>\n",
              "      <td>144968</td>\n",
              "      <td>367450009112</td>\n",
              "      <td>3.600124e+11</td>\n",
              "      <td>3.600242e+11</td>\n",
              "      <td>False</td>\n",
              "      <td>False</td>\n",
              "      <td>367450009112</td>\n",
              "      <td>2018-07-25T06:41:31.000Z</td>\n",
              "      <td>None</td>\n",
              "      <td>platform-skills-advanced</td>\n",
              "      <td>None</td>\n",
              "      <td>None</td>\n",
              "      <td>0</td>\n",
              "    </tr>\n",
              "  </tbody>\n",
              "</table>\n",
              "</div>"
            ],
            "text/plain": [
              "                      created_at      type  ... is_operating weekday\n",
              "id                                          ...                     \n",
              "162875  2019-05-29T11:47:31.000Z  incident  ...         None       2\n",
              "166035  2019-06-12T15:23:14.000Z  incident  ...         None       2\n",
              "182449  2019-08-23T21:13:47.000Z  question  ...         None       4\n",
              "189041  2019-09-20T16:33:59.000Z  incident  ...         None       4\n",
              "207873  2019-12-09T13:54:47.000Z      None  ...         None       0\n",
              "\n",
              "[5 rows x 18 columns]"
            ]
          },
          "metadata": {
            "tags": []
          },
          "execution_count": 58
        }
      ]
    },
    {
      "cell_type": "markdown",
      "metadata": {
        "id": "D02XzJoTQUvv"
      },
      "source": [
        "#### 'type' e 'priority'"
      ]
    },
    {
      "cell_type": "code",
      "metadata": {
        "id": "nNUnc3rFtvw-",
        "colab": {
          "base_uri": "https://localhost:8080/"
        },
        "outputId": "0a0e795d-c5ed-419f-cb00-d7d94dc34e3a"
      },
      "source": [
        "# Valores únicos em variável type\n",
        "\n",
        "tickets['type'].unique()"
      ],
      "execution_count": 59,
      "outputs": [
        {
          "output_type": "execute_result",
          "data": {
            "text/plain": [
              "array(['incident', 'question', None, 'task', 'problem'], dtype=object)"
            ]
          },
          "metadata": {
            "tags": []
          },
          "execution_count": 59
        }
      ]
    },
    {
      "cell_type": "code",
      "metadata": {
        "id": "JkAjcCyStvuj",
        "colab": {
          "base_uri": "https://localhost:8080/",
          "height": 233
        },
        "outputId": "43d90b63-3c6f-4aea-dba0-29cd91c0c536"
      },
      "source": [
        "# Transformando variável categórica com One Hot Encoding\n",
        "types = pd.get_dummies(tickets.type, prefix = 'type', drop_first = False)\n",
        "types.head()\n",
        "\n",
        "# OBS: Não descarta a primeira em função dos Nones"
      ],
      "execution_count": 60,
      "outputs": [
        {
          "output_type": "execute_result",
          "data": {
            "text/html": [
              "<div>\n",
              "<style scoped>\n",
              "    .dataframe tbody tr th:only-of-type {\n",
              "        vertical-align: middle;\n",
              "    }\n",
              "\n",
              "    .dataframe tbody tr th {\n",
              "        vertical-align: top;\n",
              "    }\n",
              "\n",
              "    .dataframe thead th {\n",
              "        text-align: right;\n",
              "    }\n",
              "</style>\n",
              "<table border=\"1\" class=\"dataframe\">\n",
              "  <thead>\n",
              "    <tr style=\"text-align: right;\">\n",
              "      <th></th>\n",
              "      <th>type_incident</th>\n",
              "      <th>type_problem</th>\n",
              "      <th>type_question</th>\n",
              "      <th>type_task</th>\n",
              "    </tr>\n",
              "    <tr>\n",
              "      <th>id</th>\n",
              "      <th></th>\n",
              "      <th></th>\n",
              "      <th></th>\n",
              "      <th></th>\n",
              "    </tr>\n",
              "  </thead>\n",
              "  <tbody>\n",
              "    <tr>\n",
              "      <th>162875</th>\n",
              "      <td>1</td>\n",
              "      <td>0</td>\n",
              "      <td>0</td>\n",
              "      <td>0</td>\n",
              "    </tr>\n",
              "    <tr>\n",
              "      <th>166035</th>\n",
              "      <td>1</td>\n",
              "      <td>0</td>\n",
              "      <td>0</td>\n",
              "      <td>0</td>\n",
              "    </tr>\n",
              "    <tr>\n",
              "      <th>182449</th>\n",
              "      <td>0</td>\n",
              "      <td>0</td>\n",
              "      <td>1</td>\n",
              "      <td>0</td>\n",
              "    </tr>\n",
              "    <tr>\n",
              "      <th>189041</th>\n",
              "      <td>1</td>\n",
              "      <td>0</td>\n",
              "      <td>0</td>\n",
              "      <td>0</td>\n",
              "    </tr>\n",
              "    <tr>\n",
              "      <th>207873</th>\n",
              "      <td>0</td>\n",
              "      <td>0</td>\n",
              "      <td>0</td>\n",
              "      <td>0</td>\n",
              "    </tr>\n",
              "  </tbody>\n",
              "</table>\n",
              "</div>"
            ],
            "text/plain": [
              "        type_incident  type_problem  type_question  type_task\n",
              "id                                                           \n",
              "162875              1             0              0          0\n",
              "166035              1             0              0          0\n",
              "182449              0             0              1          0\n",
              "189041              1             0              0          0\n",
              "207873              0             0              0          0"
            ]
          },
          "metadata": {
            "tags": []
          },
          "execution_count": 60
        }
      ]
    },
    {
      "cell_type": "code",
      "metadata": {
        "id": "QNA9GKSMtvrw",
        "colab": {
          "base_uri": "https://localhost:8080/"
        },
        "outputId": "b49b13cb-259c-468a-ff7b-07b02536dadc"
      },
      "source": [
        "# Valores únicos em variável priority\n",
        "\n",
        "tickets.priority.unique()"
      ],
      "execution_count": 61,
      "outputs": [
        {
          "output_type": "execute_result",
          "data": {
            "text/plain": [
              "array(['high', 'normal', 'urgent', 'low'], dtype=object)"
            ]
          },
          "metadata": {
            "tags": []
          },
          "execution_count": 61
        }
      ]
    },
    {
      "cell_type": "code",
      "metadata": {
        "id": "gB_7AVWTtvo5",
        "colab": {
          "base_uri": "https://localhost:8080/",
          "height": 233
        },
        "outputId": "d8f0cc13-2d6c-4b79-94c0-a187796fcd75"
      },
      "source": [
        "# Transformando variável categórica com One Hot Encoding\n",
        "priorities = pd.get_dummies(tickets.priority, prefix = 'priority', drop_first = True)\n",
        "priorities.head()"
      ],
      "execution_count": 62,
      "outputs": [
        {
          "output_type": "execute_result",
          "data": {
            "text/html": [
              "<div>\n",
              "<style scoped>\n",
              "    .dataframe tbody tr th:only-of-type {\n",
              "        vertical-align: middle;\n",
              "    }\n",
              "\n",
              "    .dataframe tbody tr th {\n",
              "        vertical-align: top;\n",
              "    }\n",
              "\n",
              "    .dataframe thead th {\n",
              "        text-align: right;\n",
              "    }\n",
              "</style>\n",
              "<table border=\"1\" class=\"dataframe\">\n",
              "  <thead>\n",
              "    <tr style=\"text-align: right;\">\n",
              "      <th></th>\n",
              "      <th>priority_low</th>\n",
              "      <th>priority_normal</th>\n",
              "      <th>priority_urgent</th>\n",
              "    </tr>\n",
              "    <tr>\n",
              "      <th>id</th>\n",
              "      <th></th>\n",
              "      <th></th>\n",
              "      <th></th>\n",
              "    </tr>\n",
              "  </thead>\n",
              "  <tbody>\n",
              "    <tr>\n",
              "      <th>162875</th>\n",
              "      <td>0</td>\n",
              "      <td>0</td>\n",
              "      <td>0</td>\n",
              "    </tr>\n",
              "    <tr>\n",
              "      <th>166035</th>\n",
              "      <td>0</td>\n",
              "      <td>0</td>\n",
              "      <td>0</td>\n",
              "    </tr>\n",
              "    <tr>\n",
              "      <th>182449</th>\n",
              "      <td>0</td>\n",
              "      <td>1</td>\n",
              "      <td>0</td>\n",
              "    </tr>\n",
              "    <tr>\n",
              "      <th>189041</th>\n",
              "      <td>0</td>\n",
              "      <td>1</td>\n",
              "      <td>0</td>\n",
              "    </tr>\n",
              "    <tr>\n",
              "      <th>207873</th>\n",
              "      <td>0</td>\n",
              "      <td>1</td>\n",
              "      <td>0</td>\n",
              "    </tr>\n",
              "  </tbody>\n",
              "</table>\n",
              "</div>"
            ],
            "text/plain": [
              "        priority_low  priority_normal  priority_urgent\n",
              "id                                                    \n",
              "162875             0                0                0\n",
              "166035             0                0                0\n",
              "182449             0                1                0\n",
              "189041             0                1                0\n",
              "207873             0                1                0"
            ]
          },
          "metadata": {
            "tags": []
          },
          "execution_count": 62
        }
      ]
    },
    {
      "cell_type": "code",
      "metadata": {
        "id": "fyLX03thxZ4x",
        "colab": {
          "base_uri": "https://localhost:8080/",
          "height": 339
        },
        "outputId": "0bad0bbf-60f2-407e-fbc5-2a7f894a4b13"
      },
      "source": [
        "# Dando merge nos DataFrames e excluindo as variáveis originais\n",
        "frames = [tickets,types,priorities]\n",
        "tickets = pd.concat(frames,axis=1)\n",
        "tickets = tickets.drop(['priority','type'], axis=1)\n",
        "tickets.head()"
      ],
      "execution_count": 63,
      "outputs": [
        {
          "output_type": "execute_result",
          "data": {
            "text/html": [
              "<div>\n",
              "<style scoped>\n",
              "    .dataframe tbody tr th:only-of-type {\n",
              "        vertical-align: middle;\n",
              "    }\n",
              "\n",
              "    .dataframe tbody tr th {\n",
              "        vertical-align: top;\n",
              "    }\n",
              "\n",
              "    .dataframe thead th {\n",
              "        text-align: right;\n",
              "    }\n",
              "</style>\n",
              "<table border=\"1\" class=\"dataframe\">\n",
              "  <thead>\n",
              "    <tr style=\"text-align: right;\">\n",
              "      <th></th>\n",
              "      <th>created_at</th>\n",
              "      <th>status</th>\n",
              "      <th>is_public</th>\n",
              "      <th>brand_id</th>\n",
              "      <th>submitter_id</th>\n",
              "      <th>group_id</th>\n",
              "      <th>organization_id</th>\n",
              "      <th>has_partner</th>\n",
              "      <th>has_success_manager</th>\n",
              "      <th>requester_id</th>\n",
              "      <th>requester_created_at</th>\n",
              "      <th>requester_nps</th>\n",
              "      <th>requester_platform_skills</th>\n",
              "      <th>complexity</th>\n",
              "      <th>is_operating</th>\n",
              "      <th>weekday</th>\n",
              "      <th>type_incident</th>\n",
              "      <th>type_problem</th>\n",
              "      <th>type_question</th>\n",
              "      <th>type_task</th>\n",
              "      <th>priority_low</th>\n",
              "      <th>priority_normal</th>\n",
              "      <th>priority_urgent</th>\n",
              "    </tr>\n",
              "    <tr>\n",
              "      <th>id</th>\n",
              "      <th></th>\n",
              "      <th></th>\n",
              "      <th></th>\n",
              "      <th></th>\n",
              "      <th></th>\n",
              "      <th></th>\n",
              "      <th></th>\n",
              "      <th></th>\n",
              "      <th></th>\n",
              "      <th></th>\n",
              "      <th></th>\n",
              "      <th></th>\n",
              "      <th></th>\n",
              "      <th></th>\n",
              "      <th></th>\n",
              "      <th></th>\n",
              "      <th></th>\n",
              "      <th></th>\n",
              "      <th></th>\n",
              "      <th></th>\n",
              "      <th></th>\n",
              "      <th></th>\n",
              "      <th></th>\n",
              "    </tr>\n",
              "  </thead>\n",
              "  <tbody>\n",
              "    <tr>\n",
              "      <th>162875</th>\n",
              "      <td>2019-05-29T11:47:31.000Z</td>\n",
              "      <td>hold</td>\n",
              "      <td>True</td>\n",
              "      <td>144968</td>\n",
              "      <td>8958433768</td>\n",
              "      <td>3.600088e+11</td>\n",
              "      <td>3.601459e+11</td>\n",
              "      <td>False</td>\n",
              "      <td>False</td>\n",
              "      <td>8958433768</td>\n",
              "      <td>2016-08-03T15:18:13.000Z</td>\n",
              "      <td>nps-detractor</td>\n",
              "      <td>platform-skills-advanced</td>\n",
              "      <td>high</td>\n",
              "      <td>None</td>\n",
              "      <td>2</td>\n",
              "      <td>1</td>\n",
              "      <td>0</td>\n",
              "      <td>0</td>\n",
              "      <td>0</td>\n",
              "      <td>0</td>\n",
              "      <td>0</td>\n",
              "      <td>0</td>\n",
              "    </tr>\n",
              "    <tr>\n",
              "      <th>166035</th>\n",
              "      <td>2019-06-12T15:23:14.000Z</td>\n",
              "      <td>open</td>\n",
              "      <td>True</td>\n",
              "      <td>144968</td>\n",
              "      <td>8958433768</td>\n",
              "      <td>3.600139e+11</td>\n",
              "      <td>3.601459e+11</td>\n",
              "      <td>False</td>\n",
              "      <td>False</td>\n",
              "      <td>8958433768</td>\n",
              "      <td>2016-08-03T15:18:13.000Z</td>\n",
              "      <td>nps-detractor</td>\n",
              "      <td>platform-skills-advanced</td>\n",
              "      <td>very_high</td>\n",
              "      <td>None</td>\n",
              "      <td>2</td>\n",
              "      <td>1</td>\n",
              "      <td>0</td>\n",
              "      <td>0</td>\n",
              "      <td>0</td>\n",
              "      <td>0</td>\n",
              "      <td>0</td>\n",
              "      <td>0</td>\n",
              "    </tr>\n",
              "    <tr>\n",
              "      <th>182449</th>\n",
              "      <td>2019-08-23T21:13:47.000Z</td>\n",
              "      <td>hold</td>\n",
              "      <td>True</td>\n",
              "      <td>144968</td>\n",
              "      <td>379450971772</td>\n",
              "      <td>3.600155e+11</td>\n",
              "      <td>2.559354e+08</td>\n",
              "      <td>False</td>\n",
              "      <td>False</td>\n",
              "      <td>379450971772</td>\n",
              "      <td>2019-04-04T13:34:21.000Z</td>\n",
              "      <td>None</td>\n",
              "      <td>platform-skills-advanced</td>\n",
              "      <td>very_high</td>\n",
              "      <td>None</td>\n",
              "      <td>4</td>\n",
              "      <td>0</td>\n",
              "      <td>0</td>\n",
              "      <td>1</td>\n",
              "      <td>0</td>\n",
              "      <td>0</td>\n",
              "      <td>1</td>\n",
              "      <td>0</td>\n",
              "    </tr>\n",
              "    <tr>\n",
              "      <th>189041</th>\n",
              "      <td>2019-09-20T16:33:59.000Z</td>\n",
              "      <td>solved</td>\n",
              "      <td>True</td>\n",
              "      <td>144968</td>\n",
              "      <td>378569033032</td>\n",
              "      <td>3.600120e+11</td>\n",
              "      <td>1.403345e+08</td>\n",
              "      <td>True</td>\n",
              "      <td>False</td>\n",
              "      <td>378569033032</td>\n",
              "      <td>2019-03-18T20:21:53.000Z</td>\n",
              "      <td>None</td>\n",
              "      <td>platform-skills-intermediate</td>\n",
              "      <td>moderate</td>\n",
              "      <td>None</td>\n",
              "      <td>4</td>\n",
              "      <td>1</td>\n",
              "      <td>0</td>\n",
              "      <td>0</td>\n",
              "      <td>0</td>\n",
              "      <td>0</td>\n",
              "      <td>1</td>\n",
              "      <td>0</td>\n",
              "    </tr>\n",
              "    <tr>\n",
              "      <th>207873</th>\n",
              "      <td>2019-12-09T13:54:47.000Z</td>\n",
              "      <td>open</td>\n",
              "      <td>True</td>\n",
              "      <td>144968</td>\n",
              "      <td>367450009112</td>\n",
              "      <td>3.600124e+11</td>\n",
              "      <td>3.600242e+11</td>\n",
              "      <td>False</td>\n",
              "      <td>False</td>\n",
              "      <td>367450009112</td>\n",
              "      <td>2018-07-25T06:41:31.000Z</td>\n",
              "      <td>None</td>\n",
              "      <td>platform-skills-advanced</td>\n",
              "      <td>None</td>\n",
              "      <td>None</td>\n",
              "      <td>0</td>\n",
              "      <td>0</td>\n",
              "      <td>0</td>\n",
              "      <td>0</td>\n",
              "      <td>0</td>\n",
              "      <td>0</td>\n",
              "      <td>1</td>\n",
              "      <td>0</td>\n",
              "    </tr>\n",
              "  </tbody>\n",
              "</table>\n",
              "</div>"
            ],
            "text/plain": [
              "                      created_at  status  ...  priority_normal  priority_urgent\n",
              "id                                        ...                                  \n",
              "162875  2019-05-29T11:47:31.000Z    hold  ...                0                0\n",
              "166035  2019-06-12T15:23:14.000Z    open  ...                0                0\n",
              "182449  2019-08-23T21:13:47.000Z    hold  ...                1                0\n",
              "189041  2019-09-20T16:33:59.000Z  solved  ...                1                0\n",
              "207873  2019-12-09T13:54:47.000Z    open  ...                1                0\n",
              "\n",
              "[5 rows x 23 columns]"
            ]
          },
          "metadata": {
            "tags": []
          },
          "execution_count": 63
        }
      ]
    },
    {
      "cell_type": "markdown",
      "metadata": {
        "id": "YzrHG650Q6XX"
      },
      "source": [
        "#### 'status'"
      ]
    },
    {
      "cell_type": "code",
      "metadata": {
        "colab": {
          "base_uri": "https://localhost:8080/",
          "height": 339
        },
        "id": "THBCNzFnQ_-i",
        "outputId": "08065577-e390-46b3-b4d8-395fecf21c1d"
      },
      "source": [
        "# Em função do status ser uma condição do ticket que altere conforme existem as interações por parte dos agentes, e o algoritmo\n",
        "# atuará apenas nos tickets com status 'New', a coluna em questão será descartada.\n",
        "\n",
        "tickets = tickets.drop(['status'], axis=1)\n",
        "tickets.head()"
      ],
      "execution_count": 64,
      "outputs": [
        {
          "output_type": "execute_result",
          "data": {
            "text/html": [
              "<div>\n",
              "<style scoped>\n",
              "    .dataframe tbody tr th:only-of-type {\n",
              "        vertical-align: middle;\n",
              "    }\n",
              "\n",
              "    .dataframe tbody tr th {\n",
              "        vertical-align: top;\n",
              "    }\n",
              "\n",
              "    .dataframe thead th {\n",
              "        text-align: right;\n",
              "    }\n",
              "</style>\n",
              "<table border=\"1\" class=\"dataframe\">\n",
              "  <thead>\n",
              "    <tr style=\"text-align: right;\">\n",
              "      <th></th>\n",
              "      <th>created_at</th>\n",
              "      <th>is_public</th>\n",
              "      <th>brand_id</th>\n",
              "      <th>submitter_id</th>\n",
              "      <th>group_id</th>\n",
              "      <th>organization_id</th>\n",
              "      <th>has_partner</th>\n",
              "      <th>has_success_manager</th>\n",
              "      <th>requester_id</th>\n",
              "      <th>requester_created_at</th>\n",
              "      <th>requester_nps</th>\n",
              "      <th>requester_platform_skills</th>\n",
              "      <th>complexity</th>\n",
              "      <th>is_operating</th>\n",
              "      <th>weekday</th>\n",
              "      <th>type_incident</th>\n",
              "      <th>type_problem</th>\n",
              "      <th>type_question</th>\n",
              "      <th>type_task</th>\n",
              "      <th>priority_low</th>\n",
              "      <th>priority_normal</th>\n",
              "      <th>priority_urgent</th>\n",
              "    </tr>\n",
              "    <tr>\n",
              "      <th>id</th>\n",
              "      <th></th>\n",
              "      <th></th>\n",
              "      <th></th>\n",
              "      <th></th>\n",
              "      <th></th>\n",
              "      <th></th>\n",
              "      <th></th>\n",
              "      <th></th>\n",
              "      <th></th>\n",
              "      <th></th>\n",
              "      <th></th>\n",
              "      <th></th>\n",
              "      <th></th>\n",
              "      <th></th>\n",
              "      <th></th>\n",
              "      <th></th>\n",
              "      <th></th>\n",
              "      <th></th>\n",
              "      <th></th>\n",
              "      <th></th>\n",
              "      <th></th>\n",
              "      <th></th>\n",
              "    </tr>\n",
              "  </thead>\n",
              "  <tbody>\n",
              "    <tr>\n",
              "      <th>162875</th>\n",
              "      <td>2019-05-29T11:47:31.000Z</td>\n",
              "      <td>True</td>\n",
              "      <td>144968</td>\n",
              "      <td>8958433768</td>\n",
              "      <td>3.600088e+11</td>\n",
              "      <td>3.601459e+11</td>\n",
              "      <td>False</td>\n",
              "      <td>False</td>\n",
              "      <td>8958433768</td>\n",
              "      <td>2016-08-03T15:18:13.000Z</td>\n",
              "      <td>nps-detractor</td>\n",
              "      <td>platform-skills-advanced</td>\n",
              "      <td>high</td>\n",
              "      <td>None</td>\n",
              "      <td>2</td>\n",
              "      <td>1</td>\n",
              "      <td>0</td>\n",
              "      <td>0</td>\n",
              "      <td>0</td>\n",
              "      <td>0</td>\n",
              "      <td>0</td>\n",
              "      <td>0</td>\n",
              "    </tr>\n",
              "    <tr>\n",
              "      <th>166035</th>\n",
              "      <td>2019-06-12T15:23:14.000Z</td>\n",
              "      <td>True</td>\n",
              "      <td>144968</td>\n",
              "      <td>8958433768</td>\n",
              "      <td>3.600139e+11</td>\n",
              "      <td>3.601459e+11</td>\n",
              "      <td>False</td>\n",
              "      <td>False</td>\n",
              "      <td>8958433768</td>\n",
              "      <td>2016-08-03T15:18:13.000Z</td>\n",
              "      <td>nps-detractor</td>\n",
              "      <td>platform-skills-advanced</td>\n",
              "      <td>very_high</td>\n",
              "      <td>None</td>\n",
              "      <td>2</td>\n",
              "      <td>1</td>\n",
              "      <td>0</td>\n",
              "      <td>0</td>\n",
              "      <td>0</td>\n",
              "      <td>0</td>\n",
              "      <td>0</td>\n",
              "      <td>0</td>\n",
              "    </tr>\n",
              "    <tr>\n",
              "      <th>182449</th>\n",
              "      <td>2019-08-23T21:13:47.000Z</td>\n",
              "      <td>True</td>\n",
              "      <td>144968</td>\n",
              "      <td>379450971772</td>\n",
              "      <td>3.600155e+11</td>\n",
              "      <td>2.559354e+08</td>\n",
              "      <td>False</td>\n",
              "      <td>False</td>\n",
              "      <td>379450971772</td>\n",
              "      <td>2019-04-04T13:34:21.000Z</td>\n",
              "      <td>None</td>\n",
              "      <td>platform-skills-advanced</td>\n",
              "      <td>very_high</td>\n",
              "      <td>None</td>\n",
              "      <td>4</td>\n",
              "      <td>0</td>\n",
              "      <td>0</td>\n",
              "      <td>1</td>\n",
              "      <td>0</td>\n",
              "      <td>0</td>\n",
              "      <td>1</td>\n",
              "      <td>0</td>\n",
              "    </tr>\n",
              "    <tr>\n",
              "      <th>189041</th>\n",
              "      <td>2019-09-20T16:33:59.000Z</td>\n",
              "      <td>True</td>\n",
              "      <td>144968</td>\n",
              "      <td>378569033032</td>\n",
              "      <td>3.600120e+11</td>\n",
              "      <td>1.403345e+08</td>\n",
              "      <td>True</td>\n",
              "      <td>False</td>\n",
              "      <td>378569033032</td>\n",
              "      <td>2019-03-18T20:21:53.000Z</td>\n",
              "      <td>None</td>\n",
              "      <td>platform-skills-intermediate</td>\n",
              "      <td>moderate</td>\n",
              "      <td>None</td>\n",
              "      <td>4</td>\n",
              "      <td>1</td>\n",
              "      <td>0</td>\n",
              "      <td>0</td>\n",
              "      <td>0</td>\n",
              "      <td>0</td>\n",
              "      <td>1</td>\n",
              "      <td>0</td>\n",
              "    </tr>\n",
              "    <tr>\n",
              "      <th>207873</th>\n",
              "      <td>2019-12-09T13:54:47.000Z</td>\n",
              "      <td>True</td>\n",
              "      <td>144968</td>\n",
              "      <td>367450009112</td>\n",
              "      <td>3.600124e+11</td>\n",
              "      <td>3.600242e+11</td>\n",
              "      <td>False</td>\n",
              "      <td>False</td>\n",
              "      <td>367450009112</td>\n",
              "      <td>2018-07-25T06:41:31.000Z</td>\n",
              "      <td>None</td>\n",
              "      <td>platform-skills-advanced</td>\n",
              "      <td>None</td>\n",
              "      <td>None</td>\n",
              "      <td>0</td>\n",
              "      <td>0</td>\n",
              "      <td>0</td>\n",
              "      <td>0</td>\n",
              "      <td>0</td>\n",
              "      <td>0</td>\n",
              "      <td>1</td>\n",
              "      <td>0</td>\n",
              "    </tr>\n",
              "  </tbody>\n",
              "</table>\n",
              "</div>"
            ],
            "text/plain": [
              "                      created_at  is_public  ...  priority_normal  priority_urgent\n",
              "id                                           ...                                  \n",
              "162875  2019-05-29T11:47:31.000Z       True  ...                0                0\n",
              "166035  2019-06-12T15:23:14.000Z       True  ...                0                0\n",
              "182449  2019-08-23T21:13:47.000Z       True  ...                1                0\n",
              "189041  2019-09-20T16:33:59.000Z       True  ...                1                0\n",
              "207873  2019-12-09T13:54:47.000Z       True  ...                1                0\n",
              "\n",
              "[5 rows x 22 columns]"
            ]
          },
          "metadata": {
            "tags": []
          },
          "execution_count": 64
        }
      ]
    },
    {
      "cell_type": "markdown",
      "metadata": {
        "id": "TPW27QA8Rq0S"
      },
      "source": [
        "#### 'is_public'"
      ]
    },
    {
      "cell_type": "code",
      "metadata": {
        "colab": {
          "base_uri": "https://localhost:8080/"
        },
        "id": "I9gNTf-rRye2",
        "outputId": "2cd56019-cff3-4213-fdf0-aa54d250f7ba"
      },
      "source": [
        "# Apenas tickets públicos são válidos para esse algoritmo\n",
        "\n",
        "unique, counts = np.unique(tickets['is_public'], return_counts=True)\n",
        "print(f'Total de {unique[0]}: {counts[0]}')\n",
        "print(f'Total de {unique[1]}: {counts[1]}')\n"
      ],
      "execution_count": 65,
      "outputs": [
        {
          "output_type": "stream",
          "text": [
            "Total de False: 3247\n",
            "Total de True: 19406\n"
          ],
          "name": "stdout"
        }
      ]
    },
    {
      "cell_type": "code",
      "metadata": {
        "id": "RkXwKvCnWjNO"
      },
      "source": [
        "# Descartando valores \"False\"\n",
        "\n",
        "tickets = tickets[tickets['is_public'] == True]"
      ],
      "execution_count": 66,
      "outputs": []
    },
    {
      "cell_type": "code",
      "metadata": {
        "colab": {
          "base_uri": "https://localhost:8080/"
        },
        "id": "k7Smkg2WWuY7",
        "outputId": "1cb99ef3-c68f-4069-ecb5-13048d25391e"
      },
      "source": [
        "tickets.shape"
      ],
      "execution_count": 67,
      "outputs": [
        {
          "output_type": "execute_result",
          "data": {
            "text/plain": [
              "(19406, 22)"
            ]
          },
          "metadata": {
            "tags": []
          },
          "execution_count": 67
        }
      ]
    },
    {
      "cell_type": "code",
      "metadata": {
        "colab": {
          "base_uri": "https://localhost:8080/",
          "height": 339
        },
        "id": "VeasZpn-q8Cz",
        "outputId": "411d3b82-718b-41bf-fb58-2984e01a5f17"
      },
      "source": [
        "# Descartando atributo\n",
        "\n",
        "tickets = tickets.drop(['is_public'], axis=1)\n",
        "tickets.head()"
      ],
      "execution_count": 68,
      "outputs": [
        {
          "output_type": "execute_result",
          "data": {
            "text/html": [
              "<div>\n",
              "<style scoped>\n",
              "    .dataframe tbody tr th:only-of-type {\n",
              "        vertical-align: middle;\n",
              "    }\n",
              "\n",
              "    .dataframe tbody tr th {\n",
              "        vertical-align: top;\n",
              "    }\n",
              "\n",
              "    .dataframe thead th {\n",
              "        text-align: right;\n",
              "    }\n",
              "</style>\n",
              "<table border=\"1\" class=\"dataframe\">\n",
              "  <thead>\n",
              "    <tr style=\"text-align: right;\">\n",
              "      <th></th>\n",
              "      <th>created_at</th>\n",
              "      <th>brand_id</th>\n",
              "      <th>submitter_id</th>\n",
              "      <th>group_id</th>\n",
              "      <th>organization_id</th>\n",
              "      <th>has_partner</th>\n",
              "      <th>has_success_manager</th>\n",
              "      <th>requester_id</th>\n",
              "      <th>requester_created_at</th>\n",
              "      <th>requester_nps</th>\n",
              "      <th>requester_platform_skills</th>\n",
              "      <th>complexity</th>\n",
              "      <th>is_operating</th>\n",
              "      <th>weekday</th>\n",
              "      <th>type_incident</th>\n",
              "      <th>type_problem</th>\n",
              "      <th>type_question</th>\n",
              "      <th>type_task</th>\n",
              "      <th>priority_low</th>\n",
              "      <th>priority_normal</th>\n",
              "      <th>priority_urgent</th>\n",
              "    </tr>\n",
              "    <tr>\n",
              "      <th>id</th>\n",
              "      <th></th>\n",
              "      <th></th>\n",
              "      <th></th>\n",
              "      <th></th>\n",
              "      <th></th>\n",
              "      <th></th>\n",
              "      <th></th>\n",
              "      <th></th>\n",
              "      <th></th>\n",
              "      <th></th>\n",
              "      <th></th>\n",
              "      <th></th>\n",
              "      <th></th>\n",
              "      <th></th>\n",
              "      <th></th>\n",
              "      <th></th>\n",
              "      <th></th>\n",
              "      <th></th>\n",
              "      <th></th>\n",
              "      <th></th>\n",
              "      <th></th>\n",
              "    </tr>\n",
              "  </thead>\n",
              "  <tbody>\n",
              "    <tr>\n",
              "      <th>162875</th>\n",
              "      <td>2019-05-29T11:47:31.000Z</td>\n",
              "      <td>144968</td>\n",
              "      <td>8958433768</td>\n",
              "      <td>3.600088e+11</td>\n",
              "      <td>3.601459e+11</td>\n",
              "      <td>False</td>\n",
              "      <td>False</td>\n",
              "      <td>8958433768</td>\n",
              "      <td>2016-08-03T15:18:13.000Z</td>\n",
              "      <td>nps-detractor</td>\n",
              "      <td>platform-skills-advanced</td>\n",
              "      <td>high</td>\n",
              "      <td>None</td>\n",
              "      <td>2</td>\n",
              "      <td>1</td>\n",
              "      <td>0</td>\n",
              "      <td>0</td>\n",
              "      <td>0</td>\n",
              "      <td>0</td>\n",
              "      <td>0</td>\n",
              "      <td>0</td>\n",
              "    </tr>\n",
              "    <tr>\n",
              "      <th>166035</th>\n",
              "      <td>2019-06-12T15:23:14.000Z</td>\n",
              "      <td>144968</td>\n",
              "      <td>8958433768</td>\n",
              "      <td>3.600139e+11</td>\n",
              "      <td>3.601459e+11</td>\n",
              "      <td>False</td>\n",
              "      <td>False</td>\n",
              "      <td>8958433768</td>\n",
              "      <td>2016-08-03T15:18:13.000Z</td>\n",
              "      <td>nps-detractor</td>\n",
              "      <td>platform-skills-advanced</td>\n",
              "      <td>very_high</td>\n",
              "      <td>None</td>\n",
              "      <td>2</td>\n",
              "      <td>1</td>\n",
              "      <td>0</td>\n",
              "      <td>0</td>\n",
              "      <td>0</td>\n",
              "      <td>0</td>\n",
              "      <td>0</td>\n",
              "      <td>0</td>\n",
              "    </tr>\n",
              "    <tr>\n",
              "      <th>182449</th>\n",
              "      <td>2019-08-23T21:13:47.000Z</td>\n",
              "      <td>144968</td>\n",
              "      <td>379450971772</td>\n",
              "      <td>3.600155e+11</td>\n",
              "      <td>2.559354e+08</td>\n",
              "      <td>False</td>\n",
              "      <td>False</td>\n",
              "      <td>379450971772</td>\n",
              "      <td>2019-04-04T13:34:21.000Z</td>\n",
              "      <td>None</td>\n",
              "      <td>platform-skills-advanced</td>\n",
              "      <td>very_high</td>\n",
              "      <td>None</td>\n",
              "      <td>4</td>\n",
              "      <td>0</td>\n",
              "      <td>0</td>\n",
              "      <td>1</td>\n",
              "      <td>0</td>\n",
              "      <td>0</td>\n",
              "      <td>1</td>\n",
              "      <td>0</td>\n",
              "    </tr>\n",
              "    <tr>\n",
              "      <th>189041</th>\n",
              "      <td>2019-09-20T16:33:59.000Z</td>\n",
              "      <td>144968</td>\n",
              "      <td>378569033032</td>\n",
              "      <td>3.600120e+11</td>\n",
              "      <td>1.403345e+08</td>\n",
              "      <td>True</td>\n",
              "      <td>False</td>\n",
              "      <td>378569033032</td>\n",
              "      <td>2019-03-18T20:21:53.000Z</td>\n",
              "      <td>None</td>\n",
              "      <td>platform-skills-intermediate</td>\n",
              "      <td>moderate</td>\n",
              "      <td>None</td>\n",
              "      <td>4</td>\n",
              "      <td>1</td>\n",
              "      <td>0</td>\n",
              "      <td>0</td>\n",
              "      <td>0</td>\n",
              "      <td>0</td>\n",
              "      <td>1</td>\n",
              "      <td>0</td>\n",
              "    </tr>\n",
              "    <tr>\n",
              "      <th>207873</th>\n",
              "      <td>2019-12-09T13:54:47.000Z</td>\n",
              "      <td>144968</td>\n",
              "      <td>367450009112</td>\n",
              "      <td>3.600124e+11</td>\n",
              "      <td>3.600242e+11</td>\n",
              "      <td>False</td>\n",
              "      <td>False</td>\n",
              "      <td>367450009112</td>\n",
              "      <td>2018-07-25T06:41:31.000Z</td>\n",
              "      <td>None</td>\n",
              "      <td>platform-skills-advanced</td>\n",
              "      <td>None</td>\n",
              "      <td>None</td>\n",
              "      <td>0</td>\n",
              "      <td>0</td>\n",
              "      <td>0</td>\n",
              "      <td>0</td>\n",
              "      <td>0</td>\n",
              "      <td>0</td>\n",
              "      <td>1</td>\n",
              "      <td>0</td>\n",
              "    </tr>\n",
              "  </tbody>\n",
              "</table>\n",
              "</div>"
            ],
            "text/plain": [
              "                      created_at  brand_id  ...  priority_normal  priority_urgent\n",
              "id                                          ...                                  \n",
              "162875  2019-05-29T11:47:31.000Z    144968  ...                0                0\n",
              "166035  2019-06-12T15:23:14.000Z    144968  ...                0                0\n",
              "182449  2019-08-23T21:13:47.000Z    144968  ...                1                0\n",
              "189041  2019-09-20T16:33:59.000Z    144968  ...                1                0\n",
              "207873  2019-12-09T13:54:47.000Z    144968  ...                1                0\n",
              "\n",
              "[5 rows x 21 columns]"
            ]
          },
          "metadata": {
            "tags": []
          },
          "execution_count": 68
        }
      ]
    },
    {
      "cell_type": "markdown",
      "metadata": {
        "id": "8XVW3BO9Xa5s"
      },
      "source": [
        "#### 'requester_id' igual à 'submitter_id'"
      ]
    },
    {
      "cell_type": "code",
      "metadata": {
        "id": "OZnSPp9dqFdV",
        "colab": {
          "base_uri": "https://localhost:8080/",
          "height": 339
        },
        "outputId": "7179b47e-15d7-46cc-d716-1d7dd05f5550"
      },
      "source": [
        "# Criar dado para 'requester_id' igual à 'submitter_id\"\n",
        "\n",
        "# Para quando o requester e o submitter são iguais, o valor é 0\n",
        "# Para quando o requester e o submiter são diferentes, o valor é 1\n",
        "\n",
        "data = []\n",
        "\n",
        "for i in tickets.index:\n",
        "  if tickets.loc[i,'requester_id'] == tickets.loc[i,'submitter_id']:\n",
        "    data.append(0)\n",
        "  else:\n",
        "    data.append(1)\n",
        "\n",
        "tickets['requester_equal_submitter'] = data\n",
        "tickets.head()"
      ],
      "execution_count": 69,
      "outputs": [
        {
          "output_type": "execute_result",
          "data": {
            "text/html": [
              "<div>\n",
              "<style scoped>\n",
              "    .dataframe tbody tr th:only-of-type {\n",
              "        vertical-align: middle;\n",
              "    }\n",
              "\n",
              "    .dataframe tbody tr th {\n",
              "        vertical-align: top;\n",
              "    }\n",
              "\n",
              "    .dataframe thead th {\n",
              "        text-align: right;\n",
              "    }\n",
              "</style>\n",
              "<table border=\"1\" class=\"dataframe\">\n",
              "  <thead>\n",
              "    <tr style=\"text-align: right;\">\n",
              "      <th></th>\n",
              "      <th>created_at</th>\n",
              "      <th>brand_id</th>\n",
              "      <th>submitter_id</th>\n",
              "      <th>group_id</th>\n",
              "      <th>organization_id</th>\n",
              "      <th>has_partner</th>\n",
              "      <th>has_success_manager</th>\n",
              "      <th>requester_id</th>\n",
              "      <th>requester_created_at</th>\n",
              "      <th>requester_nps</th>\n",
              "      <th>requester_platform_skills</th>\n",
              "      <th>complexity</th>\n",
              "      <th>is_operating</th>\n",
              "      <th>weekday</th>\n",
              "      <th>type_incident</th>\n",
              "      <th>type_problem</th>\n",
              "      <th>type_question</th>\n",
              "      <th>type_task</th>\n",
              "      <th>priority_low</th>\n",
              "      <th>priority_normal</th>\n",
              "      <th>priority_urgent</th>\n",
              "      <th>requester_equal_submitter</th>\n",
              "    </tr>\n",
              "    <tr>\n",
              "      <th>id</th>\n",
              "      <th></th>\n",
              "      <th></th>\n",
              "      <th></th>\n",
              "      <th></th>\n",
              "      <th></th>\n",
              "      <th></th>\n",
              "      <th></th>\n",
              "      <th></th>\n",
              "      <th></th>\n",
              "      <th></th>\n",
              "      <th></th>\n",
              "      <th></th>\n",
              "      <th></th>\n",
              "      <th></th>\n",
              "      <th></th>\n",
              "      <th></th>\n",
              "      <th></th>\n",
              "      <th></th>\n",
              "      <th></th>\n",
              "      <th></th>\n",
              "      <th></th>\n",
              "      <th></th>\n",
              "    </tr>\n",
              "  </thead>\n",
              "  <tbody>\n",
              "    <tr>\n",
              "      <th>162875</th>\n",
              "      <td>2019-05-29T11:47:31.000Z</td>\n",
              "      <td>144968</td>\n",
              "      <td>8958433768</td>\n",
              "      <td>3.600088e+11</td>\n",
              "      <td>3.601459e+11</td>\n",
              "      <td>False</td>\n",
              "      <td>False</td>\n",
              "      <td>8958433768</td>\n",
              "      <td>2016-08-03T15:18:13.000Z</td>\n",
              "      <td>nps-detractor</td>\n",
              "      <td>platform-skills-advanced</td>\n",
              "      <td>high</td>\n",
              "      <td>None</td>\n",
              "      <td>2</td>\n",
              "      <td>1</td>\n",
              "      <td>0</td>\n",
              "      <td>0</td>\n",
              "      <td>0</td>\n",
              "      <td>0</td>\n",
              "      <td>0</td>\n",
              "      <td>0</td>\n",
              "      <td>0</td>\n",
              "    </tr>\n",
              "    <tr>\n",
              "      <th>166035</th>\n",
              "      <td>2019-06-12T15:23:14.000Z</td>\n",
              "      <td>144968</td>\n",
              "      <td>8958433768</td>\n",
              "      <td>3.600139e+11</td>\n",
              "      <td>3.601459e+11</td>\n",
              "      <td>False</td>\n",
              "      <td>False</td>\n",
              "      <td>8958433768</td>\n",
              "      <td>2016-08-03T15:18:13.000Z</td>\n",
              "      <td>nps-detractor</td>\n",
              "      <td>platform-skills-advanced</td>\n",
              "      <td>very_high</td>\n",
              "      <td>None</td>\n",
              "      <td>2</td>\n",
              "      <td>1</td>\n",
              "      <td>0</td>\n",
              "      <td>0</td>\n",
              "      <td>0</td>\n",
              "      <td>0</td>\n",
              "      <td>0</td>\n",
              "      <td>0</td>\n",
              "      <td>0</td>\n",
              "    </tr>\n",
              "    <tr>\n",
              "      <th>182449</th>\n",
              "      <td>2019-08-23T21:13:47.000Z</td>\n",
              "      <td>144968</td>\n",
              "      <td>379450971772</td>\n",
              "      <td>3.600155e+11</td>\n",
              "      <td>2.559354e+08</td>\n",
              "      <td>False</td>\n",
              "      <td>False</td>\n",
              "      <td>379450971772</td>\n",
              "      <td>2019-04-04T13:34:21.000Z</td>\n",
              "      <td>None</td>\n",
              "      <td>platform-skills-advanced</td>\n",
              "      <td>very_high</td>\n",
              "      <td>None</td>\n",
              "      <td>4</td>\n",
              "      <td>0</td>\n",
              "      <td>0</td>\n",
              "      <td>1</td>\n",
              "      <td>0</td>\n",
              "      <td>0</td>\n",
              "      <td>1</td>\n",
              "      <td>0</td>\n",
              "      <td>0</td>\n",
              "    </tr>\n",
              "    <tr>\n",
              "      <th>189041</th>\n",
              "      <td>2019-09-20T16:33:59.000Z</td>\n",
              "      <td>144968</td>\n",
              "      <td>378569033032</td>\n",
              "      <td>3.600120e+11</td>\n",
              "      <td>1.403345e+08</td>\n",
              "      <td>True</td>\n",
              "      <td>False</td>\n",
              "      <td>378569033032</td>\n",
              "      <td>2019-03-18T20:21:53.000Z</td>\n",
              "      <td>None</td>\n",
              "      <td>platform-skills-intermediate</td>\n",
              "      <td>moderate</td>\n",
              "      <td>None</td>\n",
              "      <td>4</td>\n",
              "      <td>1</td>\n",
              "      <td>0</td>\n",
              "      <td>0</td>\n",
              "      <td>0</td>\n",
              "      <td>0</td>\n",
              "      <td>1</td>\n",
              "      <td>0</td>\n",
              "      <td>0</td>\n",
              "    </tr>\n",
              "    <tr>\n",
              "      <th>207873</th>\n",
              "      <td>2019-12-09T13:54:47.000Z</td>\n",
              "      <td>144968</td>\n",
              "      <td>367450009112</td>\n",
              "      <td>3.600124e+11</td>\n",
              "      <td>3.600242e+11</td>\n",
              "      <td>False</td>\n",
              "      <td>False</td>\n",
              "      <td>367450009112</td>\n",
              "      <td>2018-07-25T06:41:31.000Z</td>\n",
              "      <td>None</td>\n",
              "      <td>platform-skills-advanced</td>\n",
              "      <td>None</td>\n",
              "      <td>None</td>\n",
              "      <td>0</td>\n",
              "      <td>0</td>\n",
              "      <td>0</td>\n",
              "      <td>0</td>\n",
              "      <td>0</td>\n",
              "      <td>0</td>\n",
              "      <td>1</td>\n",
              "      <td>0</td>\n",
              "      <td>0</td>\n",
              "    </tr>\n",
              "  </tbody>\n",
              "</table>\n",
              "</div>"
            ],
            "text/plain": [
              "                      created_at  ...  requester_equal_submitter\n",
              "id                                ...                           \n",
              "162875  2019-05-29T11:47:31.000Z  ...                          0\n",
              "166035  2019-06-12T15:23:14.000Z  ...                          0\n",
              "182449  2019-08-23T21:13:47.000Z  ...                          0\n",
              "189041  2019-09-20T16:33:59.000Z  ...                          0\n",
              "207873  2019-12-09T13:54:47.000Z  ...                          0\n",
              "\n",
              "[5 rows x 22 columns]"
            ]
          },
          "metadata": {
            "tags": []
          },
          "execution_count": 69
        }
      ]
    },
    {
      "cell_type": "markdown",
      "metadata": {
        "id": "lSDAf3vWZSrr"
      },
      "source": [
        "#### 'has_partner' e 'has_success_manager'"
      ]
    },
    {
      "cell_type": "code",
      "metadata": {
        "id": "g1Wd4d8PZXF1"
      },
      "source": [
        "tickets['has_partner'] = tickets['has_partner'].replace({True: 1, False: 0})"
      ],
      "execution_count": 70,
      "outputs": []
    },
    {
      "cell_type": "code",
      "metadata": {
        "id": "A2LeOIF1Z_7q"
      },
      "source": [
        "tickets['has_success_manager'] = tickets['has_success_manager'].replace({True: 1, False: 0})"
      ],
      "execution_count": 71,
      "outputs": []
    },
    {
      "cell_type": "code",
      "metadata": {
        "colab": {
          "base_uri": "https://localhost:8080/",
          "height": 339
        },
        "id": "or2MoWg1Z3Nf",
        "outputId": "49933a0f-9f54-48dc-b28b-9dee98e8c137"
      },
      "source": [
        "tickets.head()"
      ],
      "execution_count": 72,
      "outputs": [
        {
          "output_type": "execute_result",
          "data": {
            "text/html": [
              "<div>\n",
              "<style scoped>\n",
              "    .dataframe tbody tr th:only-of-type {\n",
              "        vertical-align: middle;\n",
              "    }\n",
              "\n",
              "    .dataframe tbody tr th {\n",
              "        vertical-align: top;\n",
              "    }\n",
              "\n",
              "    .dataframe thead th {\n",
              "        text-align: right;\n",
              "    }\n",
              "</style>\n",
              "<table border=\"1\" class=\"dataframe\">\n",
              "  <thead>\n",
              "    <tr style=\"text-align: right;\">\n",
              "      <th></th>\n",
              "      <th>created_at</th>\n",
              "      <th>brand_id</th>\n",
              "      <th>submitter_id</th>\n",
              "      <th>group_id</th>\n",
              "      <th>organization_id</th>\n",
              "      <th>has_partner</th>\n",
              "      <th>has_success_manager</th>\n",
              "      <th>requester_id</th>\n",
              "      <th>requester_created_at</th>\n",
              "      <th>requester_nps</th>\n",
              "      <th>requester_platform_skills</th>\n",
              "      <th>complexity</th>\n",
              "      <th>is_operating</th>\n",
              "      <th>weekday</th>\n",
              "      <th>type_incident</th>\n",
              "      <th>type_problem</th>\n",
              "      <th>type_question</th>\n",
              "      <th>type_task</th>\n",
              "      <th>priority_low</th>\n",
              "      <th>priority_normal</th>\n",
              "      <th>priority_urgent</th>\n",
              "      <th>requester_equal_submitter</th>\n",
              "    </tr>\n",
              "    <tr>\n",
              "      <th>id</th>\n",
              "      <th></th>\n",
              "      <th></th>\n",
              "      <th></th>\n",
              "      <th></th>\n",
              "      <th></th>\n",
              "      <th></th>\n",
              "      <th></th>\n",
              "      <th></th>\n",
              "      <th></th>\n",
              "      <th></th>\n",
              "      <th></th>\n",
              "      <th></th>\n",
              "      <th></th>\n",
              "      <th></th>\n",
              "      <th></th>\n",
              "      <th></th>\n",
              "      <th></th>\n",
              "      <th></th>\n",
              "      <th></th>\n",
              "      <th></th>\n",
              "      <th></th>\n",
              "      <th></th>\n",
              "    </tr>\n",
              "  </thead>\n",
              "  <tbody>\n",
              "    <tr>\n",
              "      <th>162875</th>\n",
              "      <td>2019-05-29T11:47:31.000Z</td>\n",
              "      <td>144968</td>\n",
              "      <td>8958433768</td>\n",
              "      <td>3.600088e+11</td>\n",
              "      <td>3.601459e+11</td>\n",
              "      <td>0.0</td>\n",
              "      <td>0.0</td>\n",
              "      <td>8958433768</td>\n",
              "      <td>2016-08-03T15:18:13.000Z</td>\n",
              "      <td>nps-detractor</td>\n",
              "      <td>platform-skills-advanced</td>\n",
              "      <td>high</td>\n",
              "      <td>None</td>\n",
              "      <td>2</td>\n",
              "      <td>1</td>\n",
              "      <td>0</td>\n",
              "      <td>0</td>\n",
              "      <td>0</td>\n",
              "      <td>0</td>\n",
              "      <td>0</td>\n",
              "      <td>0</td>\n",
              "      <td>0</td>\n",
              "    </tr>\n",
              "    <tr>\n",
              "      <th>166035</th>\n",
              "      <td>2019-06-12T15:23:14.000Z</td>\n",
              "      <td>144968</td>\n",
              "      <td>8958433768</td>\n",
              "      <td>3.600139e+11</td>\n",
              "      <td>3.601459e+11</td>\n",
              "      <td>0.0</td>\n",
              "      <td>0.0</td>\n",
              "      <td>8958433768</td>\n",
              "      <td>2016-08-03T15:18:13.000Z</td>\n",
              "      <td>nps-detractor</td>\n",
              "      <td>platform-skills-advanced</td>\n",
              "      <td>very_high</td>\n",
              "      <td>None</td>\n",
              "      <td>2</td>\n",
              "      <td>1</td>\n",
              "      <td>0</td>\n",
              "      <td>0</td>\n",
              "      <td>0</td>\n",
              "      <td>0</td>\n",
              "      <td>0</td>\n",
              "      <td>0</td>\n",
              "      <td>0</td>\n",
              "    </tr>\n",
              "    <tr>\n",
              "      <th>182449</th>\n",
              "      <td>2019-08-23T21:13:47.000Z</td>\n",
              "      <td>144968</td>\n",
              "      <td>379450971772</td>\n",
              "      <td>3.600155e+11</td>\n",
              "      <td>2.559354e+08</td>\n",
              "      <td>0.0</td>\n",
              "      <td>0.0</td>\n",
              "      <td>379450971772</td>\n",
              "      <td>2019-04-04T13:34:21.000Z</td>\n",
              "      <td>None</td>\n",
              "      <td>platform-skills-advanced</td>\n",
              "      <td>very_high</td>\n",
              "      <td>None</td>\n",
              "      <td>4</td>\n",
              "      <td>0</td>\n",
              "      <td>0</td>\n",
              "      <td>1</td>\n",
              "      <td>0</td>\n",
              "      <td>0</td>\n",
              "      <td>1</td>\n",
              "      <td>0</td>\n",
              "      <td>0</td>\n",
              "    </tr>\n",
              "    <tr>\n",
              "      <th>189041</th>\n",
              "      <td>2019-09-20T16:33:59.000Z</td>\n",
              "      <td>144968</td>\n",
              "      <td>378569033032</td>\n",
              "      <td>3.600120e+11</td>\n",
              "      <td>1.403345e+08</td>\n",
              "      <td>1.0</td>\n",
              "      <td>0.0</td>\n",
              "      <td>378569033032</td>\n",
              "      <td>2019-03-18T20:21:53.000Z</td>\n",
              "      <td>None</td>\n",
              "      <td>platform-skills-intermediate</td>\n",
              "      <td>moderate</td>\n",
              "      <td>None</td>\n",
              "      <td>4</td>\n",
              "      <td>1</td>\n",
              "      <td>0</td>\n",
              "      <td>0</td>\n",
              "      <td>0</td>\n",
              "      <td>0</td>\n",
              "      <td>1</td>\n",
              "      <td>0</td>\n",
              "      <td>0</td>\n",
              "    </tr>\n",
              "    <tr>\n",
              "      <th>207873</th>\n",
              "      <td>2019-12-09T13:54:47.000Z</td>\n",
              "      <td>144968</td>\n",
              "      <td>367450009112</td>\n",
              "      <td>3.600124e+11</td>\n",
              "      <td>3.600242e+11</td>\n",
              "      <td>0.0</td>\n",
              "      <td>0.0</td>\n",
              "      <td>367450009112</td>\n",
              "      <td>2018-07-25T06:41:31.000Z</td>\n",
              "      <td>None</td>\n",
              "      <td>platform-skills-advanced</td>\n",
              "      <td>None</td>\n",
              "      <td>None</td>\n",
              "      <td>0</td>\n",
              "      <td>0</td>\n",
              "      <td>0</td>\n",
              "      <td>0</td>\n",
              "      <td>0</td>\n",
              "      <td>0</td>\n",
              "      <td>1</td>\n",
              "      <td>0</td>\n",
              "      <td>0</td>\n",
              "    </tr>\n",
              "  </tbody>\n",
              "</table>\n",
              "</div>"
            ],
            "text/plain": [
              "                      created_at  ...  requester_equal_submitter\n",
              "id                                ...                           \n",
              "162875  2019-05-29T11:47:31.000Z  ...                          0\n",
              "166035  2019-06-12T15:23:14.000Z  ...                          0\n",
              "182449  2019-08-23T21:13:47.000Z  ...                          0\n",
              "189041  2019-09-20T16:33:59.000Z  ...                          0\n",
              "207873  2019-12-09T13:54:47.000Z  ...                          0\n",
              "\n",
              "[5 rows x 22 columns]"
            ]
          },
          "metadata": {
            "tags": []
          },
          "execution_count": 72
        }
      ]
    },
    {
      "cell_type": "markdown",
      "metadata": {
        "id": "q0FrFw0faSdQ"
      },
      "source": [
        "#### 'requester_created_at'"
      ]
    },
    {
      "cell_type": "code",
      "metadata": {
        "colab": {
          "base_uri": "https://localhost:8080/",
          "height": 339
        },
        "id": "_-Wb0LUuaq1d",
        "outputId": "360b036a-4545-41a9-f7e9-9db959ee895b"
      },
      "source": [
        "# Calculando tempo de duração do requester com base na data de criação menos data de abertura do ticket\n",
        "\n",
        "\n",
        "creationUser = []\n",
        "for i in tickets['requester_created_at']:\n",
        "    creationUser.append(datetime.strptime(i, '%Y-%m-%dT%H:%M:%S.000Z').date())\n",
        "\n",
        "creationTicket = []\n",
        "for i in tickets['created_at']:\n",
        "    creationTicket.append(datetime.strptime(i, '%Y-%m-%dT%H:%M:%S.000Z').date())\n",
        "    \n",
        "duration_days = []\n",
        "for i in range(len(creationUser)):\n",
        "    duration_days.append((creationTicket[i]-creationUser[i]).days)\n",
        "\n",
        "# Incluindo nova coluna ao DataFrame com dados de duração dos tickets\n",
        "tickets['requester_duration_days'] = duration_days\n",
        "tickets.head()"
      ],
      "execution_count": 73,
      "outputs": [
        {
          "output_type": "execute_result",
          "data": {
            "text/html": [
              "<div>\n",
              "<style scoped>\n",
              "    .dataframe tbody tr th:only-of-type {\n",
              "        vertical-align: middle;\n",
              "    }\n",
              "\n",
              "    .dataframe tbody tr th {\n",
              "        vertical-align: top;\n",
              "    }\n",
              "\n",
              "    .dataframe thead th {\n",
              "        text-align: right;\n",
              "    }\n",
              "</style>\n",
              "<table border=\"1\" class=\"dataframe\">\n",
              "  <thead>\n",
              "    <tr style=\"text-align: right;\">\n",
              "      <th></th>\n",
              "      <th>created_at</th>\n",
              "      <th>brand_id</th>\n",
              "      <th>submitter_id</th>\n",
              "      <th>group_id</th>\n",
              "      <th>organization_id</th>\n",
              "      <th>has_partner</th>\n",
              "      <th>has_success_manager</th>\n",
              "      <th>requester_id</th>\n",
              "      <th>requester_created_at</th>\n",
              "      <th>requester_nps</th>\n",
              "      <th>requester_platform_skills</th>\n",
              "      <th>complexity</th>\n",
              "      <th>is_operating</th>\n",
              "      <th>weekday</th>\n",
              "      <th>type_incident</th>\n",
              "      <th>type_problem</th>\n",
              "      <th>type_question</th>\n",
              "      <th>type_task</th>\n",
              "      <th>priority_low</th>\n",
              "      <th>priority_normal</th>\n",
              "      <th>priority_urgent</th>\n",
              "      <th>requester_equal_submitter</th>\n",
              "      <th>requester_duration_days</th>\n",
              "    </tr>\n",
              "    <tr>\n",
              "      <th>id</th>\n",
              "      <th></th>\n",
              "      <th></th>\n",
              "      <th></th>\n",
              "      <th></th>\n",
              "      <th></th>\n",
              "      <th></th>\n",
              "      <th></th>\n",
              "      <th></th>\n",
              "      <th></th>\n",
              "      <th></th>\n",
              "      <th></th>\n",
              "      <th></th>\n",
              "      <th></th>\n",
              "      <th></th>\n",
              "      <th></th>\n",
              "      <th></th>\n",
              "      <th></th>\n",
              "      <th></th>\n",
              "      <th></th>\n",
              "      <th></th>\n",
              "      <th></th>\n",
              "      <th></th>\n",
              "      <th></th>\n",
              "    </tr>\n",
              "  </thead>\n",
              "  <tbody>\n",
              "    <tr>\n",
              "      <th>162875</th>\n",
              "      <td>2019-05-29T11:47:31.000Z</td>\n",
              "      <td>144968</td>\n",
              "      <td>8958433768</td>\n",
              "      <td>3.600088e+11</td>\n",
              "      <td>3.601459e+11</td>\n",
              "      <td>0.0</td>\n",
              "      <td>0.0</td>\n",
              "      <td>8958433768</td>\n",
              "      <td>2016-08-03T15:18:13.000Z</td>\n",
              "      <td>nps-detractor</td>\n",
              "      <td>platform-skills-advanced</td>\n",
              "      <td>high</td>\n",
              "      <td>None</td>\n",
              "      <td>2</td>\n",
              "      <td>1</td>\n",
              "      <td>0</td>\n",
              "      <td>0</td>\n",
              "      <td>0</td>\n",
              "      <td>0</td>\n",
              "      <td>0</td>\n",
              "      <td>0</td>\n",
              "      <td>0</td>\n",
              "      <td>1029</td>\n",
              "    </tr>\n",
              "    <tr>\n",
              "      <th>166035</th>\n",
              "      <td>2019-06-12T15:23:14.000Z</td>\n",
              "      <td>144968</td>\n",
              "      <td>8958433768</td>\n",
              "      <td>3.600139e+11</td>\n",
              "      <td>3.601459e+11</td>\n",
              "      <td>0.0</td>\n",
              "      <td>0.0</td>\n",
              "      <td>8958433768</td>\n",
              "      <td>2016-08-03T15:18:13.000Z</td>\n",
              "      <td>nps-detractor</td>\n",
              "      <td>platform-skills-advanced</td>\n",
              "      <td>very_high</td>\n",
              "      <td>None</td>\n",
              "      <td>2</td>\n",
              "      <td>1</td>\n",
              "      <td>0</td>\n",
              "      <td>0</td>\n",
              "      <td>0</td>\n",
              "      <td>0</td>\n",
              "      <td>0</td>\n",
              "      <td>0</td>\n",
              "      <td>0</td>\n",
              "      <td>1043</td>\n",
              "    </tr>\n",
              "    <tr>\n",
              "      <th>182449</th>\n",
              "      <td>2019-08-23T21:13:47.000Z</td>\n",
              "      <td>144968</td>\n",
              "      <td>379450971772</td>\n",
              "      <td>3.600155e+11</td>\n",
              "      <td>2.559354e+08</td>\n",
              "      <td>0.0</td>\n",
              "      <td>0.0</td>\n",
              "      <td>379450971772</td>\n",
              "      <td>2019-04-04T13:34:21.000Z</td>\n",
              "      <td>None</td>\n",
              "      <td>platform-skills-advanced</td>\n",
              "      <td>very_high</td>\n",
              "      <td>None</td>\n",
              "      <td>4</td>\n",
              "      <td>0</td>\n",
              "      <td>0</td>\n",
              "      <td>1</td>\n",
              "      <td>0</td>\n",
              "      <td>0</td>\n",
              "      <td>1</td>\n",
              "      <td>0</td>\n",
              "      <td>0</td>\n",
              "      <td>141</td>\n",
              "    </tr>\n",
              "    <tr>\n",
              "      <th>189041</th>\n",
              "      <td>2019-09-20T16:33:59.000Z</td>\n",
              "      <td>144968</td>\n",
              "      <td>378569033032</td>\n",
              "      <td>3.600120e+11</td>\n",
              "      <td>1.403345e+08</td>\n",
              "      <td>1.0</td>\n",
              "      <td>0.0</td>\n",
              "      <td>378569033032</td>\n",
              "      <td>2019-03-18T20:21:53.000Z</td>\n",
              "      <td>None</td>\n",
              "      <td>platform-skills-intermediate</td>\n",
              "      <td>moderate</td>\n",
              "      <td>None</td>\n",
              "      <td>4</td>\n",
              "      <td>1</td>\n",
              "      <td>0</td>\n",
              "      <td>0</td>\n",
              "      <td>0</td>\n",
              "      <td>0</td>\n",
              "      <td>1</td>\n",
              "      <td>0</td>\n",
              "      <td>0</td>\n",
              "      <td>186</td>\n",
              "    </tr>\n",
              "    <tr>\n",
              "      <th>207873</th>\n",
              "      <td>2019-12-09T13:54:47.000Z</td>\n",
              "      <td>144968</td>\n",
              "      <td>367450009112</td>\n",
              "      <td>3.600124e+11</td>\n",
              "      <td>3.600242e+11</td>\n",
              "      <td>0.0</td>\n",
              "      <td>0.0</td>\n",
              "      <td>367450009112</td>\n",
              "      <td>2018-07-25T06:41:31.000Z</td>\n",
              "      <td>None</td>\n",
              "      <td>platform-skills-advanced</td>\n",
              "      <td>None</td>\n",
              "      <td>None</td>\n",
              "      <td>0</td>\n",
              "      <td>0</td>\n",
              "      <td>0</td>\n",
              "      <td>0</td>\n",
              "      <td>0</td>\n",
              "      <td>0</td>\n",
              "      <td>1</td>\n",
              "      <td>0</td>\n",
              "      <td>0</td>\n",
              "      <td>502</td>\n",
              "    </tr>\n",
              "  </tbody>\n",
              "</table>\n",
              "</div>"
            ],
            "text/plain": [
              "                      created_at  ...  requester_duration_days\n",
              "id                                ...                         \n",
              "162875  2019-05-29T11:47:31.000Z  ...                     1029\n",
              "166035  2019-06-12T15:23:14.000Z  ...                     1043\n",
              "182449  2019-08-23T21:13:47.000Z  ...                      141\n",
              "189041  2019-09-20T16:33:59.000Z  ...                      186\n",
              "207873  2019-12-09T13:54:47.000Z  ...                      502\n",
              "\n",
              "[5 rows x 23 columns]"
            ]
          },
          "metadata": {
            "tags": []
          },
          "execution_count": 73
        }
      ]
    },
    {
      "cell_type": "markdown",
      "metadata": {
        "id": "RxdW0mogckRU"
      },
      "source": [
        "#### One Hot Encoding para variáveis 'requester_nps' e 'requester_platform_skills'"
      ]
    },
    {
      "cell_type": "code",
      "metadata": {
        "colab": {
          "base_uri": "https://localhost:8080/"
        },
        "id": "I-e5Z4Uac8Yz",
        "outputId": "7020e09e-f97e-45df-85a7-465083e51dc0"
      },
      "source": [
        "# Valores únicos em variáveis\n",
        "\n",
        "tickets['requester_nps'].unique()"
      ],
      "execution_count": 74,
      "outputs": [
        {
          "output_type": "execute_result",
          "data": {
            "text/plain": [
              "array(['nps-detractor', None, 'nps-promoter', 'nps-passive'], dtype=object)"
            ]
          },
          "metadata": {
            "tags": []
          },
          "execution_count": 74
        }
      ]
    },
    {
      "cell_type": "code",
      "metadata": {
        "colab": {
          "base_uri": "https://localhost:8080/"
        },
        "id": "gqhgpp4Tc8UI",
        "outputId": "884ca490-06df-439c-f469-eaa07b4a7720"
      },
      "source": [
        "tickets['requester_platform_skills'].unique()"
      ],
      "execution_count": 75,
      "outputs": [
        {
          "output_type": "execute_result",
          "data": {
            "text/plain": [
              "array(['platform-skills-advanced', 'platform-skills-intermediate',\n",
              "       'platform-skills-beginner', None], dtype=object)"
            ]
          },
          "metadata": {
            "tags": []
          },
          "execution_count": 75
        }
      ]
    },
    {
      "cell_type": "code",
      "metadata": {
        "colab": {
          "base_uri": "https://localhost:8080/",
          "height": 233
        },
        "id": "us76-KwDdYaa",
        "outputId": "b7d10124-e8e4-4517-e743-8e33ae7f32e9"
      },
      "source": [
        "# Transformando variável categórica com One Hot Encoding\n",
        "nps = pd.get_dummies(tickets.requester_nps, prefix = 'requester', drop_first = False)\n",
        "nps.head()"
      ],
      "execution_count": 76,
      "outputs": [
        {
          "output_type": "execute_result",
          "data": {
            "text/html": [
              "<div>\n",
              "<style scoped>\n",
              "    .dataframe tbody tr th:only-of-type {\n",
              "        vertical-align: middle;\n",
              "    }\n",
              "\n",
              "    .dataframe tbody tr th {\n",
              "        vertical-align: top;\n",
              "    }\n",
              "\n",
              "    .dataframe thead th {\n",
              "        text-align: right;\n",
              "    }\n",
              "</style>\n",
              "<table border=\"1\" class=\"dataframe\">\n",
              "  <thead>\n",
              "    <tr style=\"text-align: right;\">\n",
              "      <th></th>\n",
              "      <th>requester_nps-detractor</th>\n",
              "      <th>requester_nps-passive</th>\n",
              "      <th>requester_nps-promoter</th>\n",
              "    </tr>\n",
              "    <tr>\n",
              "      <th>id</th>\n",
              "      <th></th>\n",
              "      <th></th>\n",
              "      <th></th>\n",
              "    </tr>\n",
              "  </thead>\n",
              "  <tbody>\n",
              "    <tr>\n",
              "      <th>162875</th>\n",
              "      <td>1</td>\n",
              "      <td>0</td>\n",
              "      <td>0</td>\n",
              "    </tr>\n",
              "    <tr>\n",
              "      <th>166035</th>\n",
              "      <td>1</td>\n",
              "      <td>0</td>\n",
              "      <td>0</td>\n",
              "    </tr>\n",
              "    <tr>\n",
              "      <th>182449</th>\n",
              "      <td>0</td>\n",
              "      <td>0</td>\n",
              "      <td>0</td>\n",
              "    </tr>\n",
              "    <tr>\n",
              "      <th>189041</th>\n",
              "      <td>0</td>\n",
              "      <td>0</td>\n",
              "      <td>0</td>\n",
              "    </tr>\n",
              "    <tr>\n",
              "      <th>207873</th>\n",
              "      <td>0</td>\n",
              "      <td>0</td>\n",
              "      <td>0</td>\n",
              "    </tr>\n",
              "  </tbody>\n",
              "</table>\n",
              "</div>"
            ],
            "text/plain": [
              "        requester_nps-detractor  requester_nps-passive  requester_nps-promoter\n",
              "id                                                                            \n",
              "162875                        1                      0                       0\n",
              "166035                        1                      0                       0\n",
              "182449                        0                      0                       0\n",
              "189041                        0                      0                       0\n",
              "207873                        0                      0                       0"
            ]
          },
          "metadata": {
            "tags": []
          },
          "execution_count": 76
        }
      ]
    },
    {
      "cell_type": "code",
      "metadata": {
        "colab": {
          "base_uri": "https://localhost:8080/",
          "height": 233
        },
        "id": "kjTv0GlOd5E8",
        "outputId": "9e475bf2-3a26-4707-8d43-d0aaf62a98d5"
      },
      "source": [
        "plataformSkills = pd.get_dummies(tickets.requester_platform_skills, prefix = 'requester', drop_first = False)\n",
        "plataformSkills.head()"
      ],
      "execution_count": 77,
      "outputs": [
        {
          "output_type": "execute_result",
          "data": {
            "text/html": [
              "<div>\n",
              "<style scoped>\n",
              "    .dataframe tbody tr th:only-of-type {\n",
              "        vertical-align: middle;\n",
              "    }\n",
              "\n",
              "    .dataframe tbody tr th {\n",
              "        vertical-align: top;\n",
              "    }\n",
              "\n",
              "    .dataframe thead th {\n",
              "        text-align: right;\n",
              "    }\n",
              "</style>\n",
              "<table border=\"1\" class=\"dataframe\">\n",
              "  <thead>\n",
              "    <tr style=\"text-align: right;\">\n",
              "      <th></th>\n",
              "      <th>requester_platform-skills-advanced</th>\n",
              "      <th>requester_platform-skills-beginner</th>\n",
              "      <th>requester_platform-skills-intermediate</th>\n",
              "    </tr>\n",
              "    <tr>\n",
              "      <th>id</th>\n",
              "      <th></th>\n",
              "      <th></th>\n",
              "      <th></th>\n",
              "    </tr>\n",
              "  </thead>\n",
              "  <tbody>\n",
              "    <tr>\n",
              "      <th>162875</th>\n",
              "      <td>1</td>\n",
              "      <td>0</td>\n",
              "      <td>0</td>\n",
              "    </tr>\n",
              "    <tr>\n",
              "      <th>166035</th>\n",
              "      <td>1</td>\n",
              "      <td>0</td>\n",
              "      <td>0</td>\n",
              "    </tr>\n",
              "    <tr>\n",
              "      <th>182449</th>\n",
              "      <td>1</td>\n",
              "      <td>0</td>\n",
              "      <td>0</td>\n",
              "    </tr>\n",
              "    <tr>\n",
              "      <th>189041</th>\n",
              "      <td>0</td>\n",
              "      <td>0</td>\n",
              "      <td>1</td>\n",
              "    </tr>\n",
              "    <tr>\n",
              "      <th>207873</th>\n",
              "      <td>1</td>\n",
              "      <td>0</td>\n",
              "      <td>0</td>\n",
              "    </tr>\n",
              "  </tbody>\n",
              "</table>\n",
              "</div>"
            ],
            "text/plain": [
              "        requester_platform-skills-advanced  ...  requester_platform-skills-intermediate\n",
              "id                                          ...                                        \n",
              "162875                                   1  ...                                       0\n",
              "166035                                   1  ...                                       0\n",
              "182449                                   1  ...                                       0\n",
              "189041                                   0  ...                                       1\n",
              "207873                                   1  ...                                       0\n",
              "\n",
              "[5 rows x 3 columns]"
            ]
          },
          "metadata": {
            "tags": []
          },
          "execution_count": 77
        }
      ]
    },
    {
      "cell_type": "code",
      "metadata": {
        "colab": {
          "base_uri": "https://localhost:8080/",
          "height": 357
        },
        "id": "PjmXa6e5fhZG",
        "outputId": "9292460f-46d8-4061-9f21-9b22fd464d03"
      },
      "source": [
        "# Dando merge nos DataFrames e excluindo as variáveis originais\n",
        "frames = [tickets, nps, plataformSkills]\n",
        "tickets = pd.concat(frames,axis=1)\n",
        "tickets = tickets.drop(['requester_nps','requester_platform_skills'], axis=1)\n",
        "tickets.head()"
      ],
      "execution_count": 78,
      "outputs": [
        {
          "output_type": "execute_result",
          "data": {
            "text/html": [
              "<div>\n",
              "<style scoped>\n",
              "    .dataframe tbody tr th:only-of-type {\n",
              "        vertical-align: middle;\n",
              "    }\n",
              "\n",
              "    .dataframe tbody tr th {\n",
              "        vertical-align: top;\n",
              "    }\n",
              "\n",
              "    .dataframe thead th {\n",
              "        text-align: right;\n",
              "    }\n",
              "</style>\n",
              "<table border=\"1\" class=\"dataframe\">\n",
              "  <thead>\n",
              "    <tr style=\"text-align: right;\">\n",
              "      <th></th>\n",
              "      <th>created_at</th>\n",
              "      <th>brand_id</th>\n",
              "      <th>submitter_id</th>\n",
              "      <th>group_id</th>\n",
              "      <th>organization_id</th>\n",
              "      <th>has_partner</th>\n",
              "      <th>has_success_manager</th>\n",
              "      <th>requester_id</th>\n",
              "      <th>requester_created_at</th>\n",
              "      <th>complexity</th>\n",
              "      <th>is_operating</th>\n",
              "      <th>weekday</th>\n",
              "      <th>type_incident</th>\n",
              "      <th>type_problem</th>\n",
              "      <th>type_question</th>\n",
              "      <th>type_task</th>\n",
              "      <th>priority_low</th>\n",
              "      <th>priority_normal</th>\n",
              "      <th>priority_urgent</th>\n",
              "      <th>requester_equal_submitter</th>\n",
              "      <th>requester_duration_days</th>\n",
              "      <th>requester_nps-detractor</th>\n",
              "      <th>requester_nps-passive</th>\n",
              "      <th>requester_nps-promoter</th>\n",
              "      <th>requester_platform-skills-advanced</th>\n",
              "      <th>requester_platform-skills-beginner</th>\n",
              "      <th>requester_platform-skills-intermediate</th>\n",
              "    </tr>\n",
              "    <tr>\n",
              "      <th>id</th>\n",
              "      <th></th>\n",
              "      <th></th>\n",
              "      <th></th>\n",
              "      <th></th>\n",
              "      <th></th>\n",
              "      <th></th>\n",
              "      <th></th>\n",
              "      <th></th>\n",
              "      <th></th>\n",
              "      <th></th>\n",
              "      <th></th>\n",
              "      <th></th>\n",
              "      <th></th>\n",
              "      <th></th>\n",
              "      <th></th>\n",
              "      <th></th>\n",
              "      <th></th>\n",
              "      <th></th>\n",
              "      <th></th>\n",
              "      <th></th>\n",
              "      <th></th>\n",
              "      <th></th>\n",
              "      <th></th>\n",
              "      <th></th>\n",
              "      <th></th>\n",
              "      <th></th>\n",
              "      <th></th>\n",
              "    </tr>\n",
              "  </thead>\n",
              "  <tbody>\n",
              "    <tr>\n",
              "      <th>162875</th>\n",
              "      <td>2019-05-29T11:47:31.000Z</td>\n",
              "      <td>144968</td>\n",
              "      <td>8958433768</td>\n",
              "      <td>3.600088e+11</td>\n",
              "      <td>3.601459e+11</td>\n",
              "      <td>0.0</td>\n",
              "      <td>0.0</td>\n",
              "      <td>8958433768</td>\n",
              "      <td>2016-08-03T15:18:13.000Z</td>\n",
              "      <td>high</td>\n",
              "      <td>None</td>\n",
              "      <td>2</td>\n",
              "      <td>1</td>\n",
              "      <td>0</td>\n",
              "      <td>0</td>\n",
              "      <td>0</td>\n",
              "      <td>0</td>\n",
              "      <td>0</td>\n",
              "      <td>0</td>\n",
              "      <td>0</td>\n",
              "      <td>1029</td>\n",
              "      <td>1</td>\n",
              "      <td>0</td>\n",
              "      <td>0</td>\n",
              "      <td>1</td>\n",
              "      <td>0</td>\n",
              "      <td>0</td>\n",
              "    </tr>\n",
              "    <tr>\n",
              "      <th>166035</th>\n",
              "      <td>2019-06-12T15:23:14.000Z</td>\n",
              "      <td>144968</td>\n",
              "      <td>8958433768</td>\n",
              "      <td>3.600139e+11</td>\n",
              "      <td>3.601459e+11</td>\n",
              "      <td>0.0</td>\n",
              "      <td>0.0</td>\n",
              "      <td>8958433768</td>\n",
              "      <td>2016-08-03T15:18:13.000Z</td>\n",
              "      <td>very_high</td>\n",
              "      <td>None</td>\n",
              "      <td>2</td>\n",
              "      <td>1</td>\n",
              "      <td>0</td>\n",
              "      <td>0</td>\n",
              "      <td>0</td>\n",
              "      <td>0</td>\n",
              "      <td>0</td>\n",
              "      <td>0</td>\n",
              "      <td>0</td>\n",
              "      <td>1043</td>\n",
              "      <td>1</td>\n",
              "      <td>0</td>\n",
              "      <td>0</td>\n",
              "      <td>1</td>\n",
              "      <td>0</td>\n",
              "      <td>0</td>\n",
              "    </tr>\n",
              "    <tr>\n",
              "      <th>182449</th>\n",
              "      <td>2019-08-23T21:13:47.000Z</td>\n",
              "      <td>144968</td>\n",
              "      <td>379450971772</td>\n",
              "      <td>3.600155e+11</td>\n",
              "      <td>2.559354e+08</td>\n",
              "      <td>0.0</td>\n",
              "      <td>0.0</td>\n",
              "      <td>379450971772</td>\n",
              "      <td>2019-04-04T13:34:21.000Z</td>\n",
              "      <td>very_high</td>\n",
              "      <td>None</td>\n",
              "      <td>4</td>\n",
              "      <td>0</td>\n",
              "      <td>0</td>\n",
              "      <td>1</td>\n",
              "      <td>0</td>\n",
              "      <td>0</td>\n",
              "      <td>1</td>\n",
              "      <td>0</td>\n",
              "      <td>0</td>\n",
              "      <td>141</td>\n",
              "      <td>0</td>\n",
              "      <td>0</td>\n",
              "      <td>0</td>\n",
              "      <td>1</td>\n",
              "      <td>0</td>\n",
              "      <td>0</td>\n",
              "    </tr>\n",
              "    <tr>\n",
              "      <th>189041</th>\n",
              "      <td>2019-09-20T16:33:59.000Z</td>\n",
              "      <td>144968</td>\n",
              "      <td>378569033032</td>\n",
              "      <td>3.600120e+11</td>\n",
              "      <td>1.403345e+08</td>\n",
              "      <td>1.0</td>\n",
              "      <td>0.0</td>\n",
              "      <td>378569033032</td>\n",
              "      <td>2019-03-18T20:21:53.000Z</td>\n",
              "      <td>moderate</td>\n",
              "      <td>None</td>\n",
              "      <td>4</td>\n",
              "      <td>1</td>\n",
              "      <td>0</td>\n",
              "      <td>0</td>\n",
              "      <td>0</td>\n",
              "      <td>0</td>\n",
              "      <td>1</td>\n",
              "      <td>0</td>\n",
              "      <td>0</td>\n",
              "      <td>186</td>\n",
              "      <td>0</td>\n",
              "      <td>0</td>\n",
              "      <td>0</td>\n",
              "      <td>0</td>\n",
              "      <td>0</td>\n",
              "      <td>1</td>\n",
              "    </tr>\n",
              "    <tr>\n",
              "      <th>207873</th>\n",
              "      <td>2019-12-09T13:54:47.000Z</td>\n",
              "      <td>144968</td>\n",
              "      <td>367450009112</td>\n",
              "      <td>3.600124e+11</td>\n",
              "      <td>3.600242e+11</td>\n",
              "      <td>0.0</td>\n",
              "      <td>0.0</td>\n",
              "      <td>367450009112</td>\n",
              "      <td>2018-07-25T06:41:31.000Z</td>\n",
              "      <td>None</td>\n",
              "      <td>None</td>\n",
              "      <td>0</td>\n",
              "      <td>0</td>\n",
              "      <td>0</td>\n",
              "      <td>0</td>\n",
              "      <td>0</td>\n",
              "      <td>0</td>\n",
              "      <td>1</td>\n",
              "      <td>0</td>\n",
              "      <td>0</td>\n",
              "      <td>502</td>\n",
              "      <td>0</td>\n",
              "      <td>0</td>\n",
              "      <td>0</td>\n",
              "      <td>1</td>\n",
              "      <td>0</td>\n",
              "      <td>0</td>\n",
              "    </tr>\n",
              "  </tbody>\n",
              "</table>\n",
              "</div>"
            ],
            "text/plain": [
              "                      created_at  ...  requester_platform-skills-intermediate\n",
              "id                                ...                                        \n",
              "162875  2019-05-29T11:47:31.000Z  ...                                       0\n",
              "166035  2019-06-12T15:23:14.000Z  ...                                       0\n",
              "182449  2019-08-23T21:13:47.000Z  ...                                       0\n",
              "189041  2019-09-20T16:33:59.000Z  ...                                       1\n",
              "207873  2019-12-09T13:54:47.000Z  ...                                       0\n",
              "\n",
              "[5 rows x 27 columns]"
            ]
          },
          "metadata": {
            "tags": []
          },
          "execution_count": 78
        }
      ]
    },
    {
      "cell_type": "markdown",
      "metadata": {
        "id": "cnKXU2gPfX1M"
      },
      "source": [
        "#### 'is_operating'"
      ]
    },
    {
      "cell_type": "code",
      "metadata": {
        "colab": {
          "base_uri": "https://localhost:8080/"
        },
        "id": "_CRJufbQc8IP",
        "outputId": "3d47dd6c-a4da-4c0b-8540-f46d5437d848"
      },
      "source": [
        "tickets['is_operating'].unique()"
      ],
      "execution_count": 79,
      "outputs": [
        {
          "output_type": "execute_result",
          "data": {
            "text/plain": [
              "array([None, 'sf-account-isoperating-true',\n",
              "       'sf-account-isoperating-false'], dtype=object)"
            ]
          },
          "metadata": {
            "tags": []
          },
          "execution_count": 79
        }
      ]
    },
    {
      "cell_type": "code",
      "metadata": {
        "id": "sz0Z1vxpeluG"
      },
      "source": [
        "# Tratando valores em 'is_operating'\n",
        "\n",
        "tickets['is_operating'] = tickets['is_operating'].replace({'sf-account-isoperating-true': 1, 'sf-account-isoperating-false': 0})"
      ],
      "execution_count": 80,
      "outputs": []
    },
    {
      "cell_type": "code",
      "metadata": {
        "colab": {
          "base_uri": "https://localhost:8080/",
          "height": 357
        },
        "id": "6cptAxsSh30c",
        "outputId": "6bbff7d4-1414-4af0-843f-ab04a1238864"
      },
      "source": [
        "tickets.head()"
      ],
      "execution_count": 81,
      "outputs": [
        {
          "output_type": "execute_result",
          "data": {
            "text/html": [
              "<div>\n",
              "<style scoped>\n",
              "    .dataframe tbody tr th:only-of-type {\n",
              "        vertical-align: middle;\n",
              "    }\n",
              "\n",
              "    .dataframe tbody tr th {\n",
              "        vertical-align: top;\n",
              "    }\n",
              "\n",
              "    .dataframe thead th {\n",
              "        text-align: right;\n",
              "    }\n",
              "</style>\n",
              "<table border=\"1\" class=\"dataframe\">\n",
              "  <thead>\n",
              "    <tr style=\"text-align: right;\">\n",
              "      <th></th>\n",
              "      <th>created_at</th>\n",
              "      <th>brand_id</th>\n",
              "      <th>submitter_id</th>\n",
              "      <th>group_id</th>\n",
              "      <th>organization_id</th>\n",
              "      <th>has_partner</th>\n",
              "      <th>has_success_manager</th>\n",
              "      <th>requester_id</th>\n",
              "      <th>requester_created_at</th>\n",
              "      <th>complexity</th>\n",
              "      <th>is_operating</th>\n",
              "      <th>weekday</th>\n",
              "      <th>type_incident</th>\n",
              "      <th>type_problem</th>\n",
              "      <th>type_question</th>\n",
              "      <th>type_task</th>\n",
              "      <th>priority_low</th>\n",
              "      <th>priority_normal</th>\n",
              "      <th>priority_urgent</th>\n",
              "      <th>requester_equal_submitter</th>\n",
              "      <th>requester_duration_days</th>\n",
              "      <th>requester_nps-detractor</th>\n",
              "      <th>requester_nps-passive</th>\n",
              "      <th>requester_nps-promoter</th>\n",
              "      <th>requester_platform-skills-advanced</th>\n",
              "      <th>requester_platform-skills-beginner</th>\n",
              "      <th>requester_platform-skills-intermediate</th>\n",
              "    </tr>\n",
              "    <tr>\n",
              "      <th>id</th>\n",
              "      <th></th>\n",
              "      <th></th>\n",
              "      <th></th>\n",
              "      <th></th>\n",
              "      <th></th>\n",
              "      <th></th>\n",
              "      <th></th>\n",
              "      <th></th>\n",
              "      <th></th>\n",
              "      <th></th>\n",
              "      <th></th>\n",
              "      <th></th>\n",
              "      <th></th>\n",
              "      <th></th>\n",
              "      <th></th>\n",
              "      <th></th>\n",
              "      <th></th>\n",
              "      <th></th>\n",
              "      <th></th>\n",
              "      <th></th>\n",
              "      <th></th>\n",
              "      <th></th>\n",
              "      <th></th>\n",
              "      <th></th>\n",
              "      <th></th>\n",
              "      <th></th>\n",
              "      <th></th>\n",
              "    </tr>\n",
              "  </thead>\n",
              "  <tbody>\n",
              "    <tr>\n",
              "      <th>162875</th>\n",
              "      <td>2019-05-29T11:47:31.000Z</td>\n",
              "      <td>144968</td>\n",
              "      <td>8958433768</td>\n",
              "      <td>3.600088e+11</td>\n",
              "      <td>3.601459e+11</td>\n",
              "      <td>0.0</td>\n",
              "      <td>0.0</td>\n",
              "      <td>8958433768</td>\n",
              "      <td>2016-08-03T15:18:13.000Z</td>\n",
              "      <td>high</td>\n",
              "      <td>NaN</td>\n",
              "      <td>2</td>\n",
              "      <td>1</td>\n",
              "      <td>0</td>\n",
              "      <td>0</td>\n",
              "      <td>0</td>\n",
              "      <td>0</td>\n",
              "      <td>0</td>\n",
              "      <td>0</td>\n",
              "      <td>0</td>\n",
              "      <td>1029</td>\n",
              "      <td>1</td>\n",
              "      <td>0</td>\n",
              "      <td>0</td>\n",
              "      <td>1</td>\n",
              "      <td>0</td>\n",
              "      <td>0</td>\n",
              "    </tr>\n",
              "    <tr>\n",
              "      <th>166035</th>\n",
              "      <td>2019-06-12T15:23:14.000Z</td>\n",
              "      <td>144968</td>\n",
              "      <td>8958433768</td>\n",
              "      <td>3.600139e+11</td>\n",
              "      <td>3.601459e+11</td>\n",
              "      <td>0.0</td>\n",
              "      <td>0.0</td>\n",
              "      <td>8958433768</td>\n",
              "      <td>2016-08-03T15:18:13.000Z</td>\n",
              "      <td>very_high</td>\n",
              "      <td>NaN</td>\n",
              "      <td>2</td>\n",
              "      <td>1</td>\n",
              "      <td>0</td>\n",
              "      <td>0</td>\n",
              "      <td>0</td>\n",
              "      <td>0</td>\n",
              "      <td>0</td>\n",
              "      <td>0</td>\n",
              "      <td>0</td>\n",
              "      <td>1043</td>\n",
              "      <td>1</td>\n",
              "      <td>0</td>\n",
              "      <td>0</td>\n",
              "      <td>1</td>\n",
              "      <td>0</td>\n",
              "      <td>0</td>\n",
              "    </tr>\n",
              "    <tr>\n",
              "      <th>182449</th>\n",
              "      <td>2019-08-23T21:13:47.000Z</td>\n",
              "      <td>144968</td>\n",
              "      <td>379450971772</td>\n",
              "      <td>3.600155e+11</td>\n",
              "      <td>2.559354e+08</td>\n",
              "      <td>0.0</td>\n",
              "      <td>0.0</td>\n",
              "      <td>379450971772</td>\n",
              "      <td>2019-04-04T13:34:21.000Z</td>\n",
              "      <td>very_high</td>\n",
              "      <td>NaN</td>\n",
              "      <td>4</td>\n",
              "      <td>0</td>\n",
              "      <td>0</td>\n",
              "      <td>1</td>\n",
              "      <td>0</td>\n",
              "      <td>0</td>\n",
              "      <td>1</td>\n",
              "      <td>0</td>\n",
              "      <td>0</td>\n",
              "      <td>141</td>\n",
              "      <td>0</td>\n",
              "      <td>0</td>\n",
              "      <td>0</td>\n",
              "      <td>1</td>\n",
              "      <td>0</td>\n",
              "      <td>0</td>\n",
              "    </tr>\n",
              "    <tr>\n",
              "      <th>189041</th>\n",
              "      <td>2019-09-20T16:33:59.000Z</td>\n",
              "      <td>144968</td>\n",
              "      <td>378569033032</td>\n",
              "      <td>3.600120e+11</td>\n",
              "      <td>1.403345e+08</td>\n",
              "      <td>1.0</td>\n",
              "      <td>0.0</td>\n",
              "      <td>378569033032</td>\n",
              "      <td>2019-03-18T20:21:53.000Z</td>\n",
              "      <td>moderate</td>\n",
              "      <td>NaN</td>\n",
              "      <td>4</td>\n",
              "      <td>1</td>\n",
              "      <td>0</td>\n",
              "      <td>0</td>\n",
              "      <td>0</td>\n",
              "      <td>0</td>\n",
              "      <td>1</td>\n",
              "      <td>0</td>\n",
              "      <td>0</td>\n",
              "      <td>186</td>\n",
              "      <td>0</td>\n",
              "      <td>0</td>\n",
              "      <td>0</td>\n",
              "      <td>0</td>\n",
              "      <td>0</td>\n",
              "      <td>1</td>\n",
              "    </tr>\n",
              "    <tr>\n",
              "      <th>207873</th>\n",
              "      <td>2019-12-09T13:54:47.000Z</td>\n",
              "      <td>144968</td>\n",
              "      <td>367450009112</td>\n",
              "      <td>3.600124e+11</td>\n",
              "      <td>3.600242e+11</td>\n",
              "      <td>0.0</td>\n",
              "      <td>0.0</td>\n",
              "      <td>367450009112</td>\n",
              "      <td>2018-07-25T06:41:31.000Z</td>\n",
              "      <td>None</td>\n",
              "      <td>NaN</td>\n",
              "      <td>0</td>\n",
              "      <td>0</td>\n",
              "      <td>0</td>\n",
              "      <td>0</td>\n",
              "      <td>0</td>\n",
              "      <td>0</td>\n",
              "      <td>1</td>\n",
              "      <td>0</td>\n",
              "      <td>0</td>\n",
              "      <td>502</td>\n",
              "      <td>0</td>\n",
              "      <td>0</td>\n",
              "      <td>0</td>\n",
              "      <td>1</td>\n",
              "      <td>0</td>\n",
              "      <td>0</td>\n",
              "    </tr>\n",
              "  </tbody>\n",
              "</table>\n",
              "</div>"
            ],
            "text/plain": [
              "                      created_at  ...  requester_platform-skills-intermediate\n",
              "id                                ...                                        \n",
              "162875  2019-05-29T11:47:31.000Z  ...                                       0\n",
              "166035  2019-06-12T15:23:14.000Z  ...                                       0\n",
              "182449  2019-08-23T21:13:47.000Z  ...                                       0\n",
              "189041  2019-09-20T16:33:59.000Z  ...                                       1\n",
              "207873  2019-12-09T13:54:47.000Z  ...                                       0\n",
              "\n",
              "[5 rows x 27 columns]"
            ]
          },
          "metadata": {
            "tags": []
          },
          "execution_count": 81
        }
      ]
    },
    {
      "cell_type": "markdown",
      "metadata": {
        "id": "w9t7oQSHiWYD"
      },
      "source": [
        "### Criando variável 'created_at_business_hours'"
      ]
    },
    {
      "cell_type": "code",
      "metadata": {
        "id": "ff46FuB1iVxm"
      },
      "source": [
        "# Intenção é tratar os dados de 'created_at' para identificar se foram criados entre às 09h e 18h\n",
        "\n",
        "variavel = []\n",
        "\n",
        "for i in tickets['created_at']:\n",
        "  variavel.append(datetime.strptime(i, '%Y-%m-%dT%H:%M:%S.000Z'))"
      ],
      "execution_count": 82,
      "outputs": []
    },
    {
      "cell_type": "code",
      "metadata": {
        "id": "uNZ6Jh7Kl1CU"
      },
      "source": [
        "# 0 para tickets criados fora do horário comercial\n",
        "# 1 para tickets criados dentro do horário comercial\n",
        "# OBS: tickets criados no sábado ou no domingo também são considerados fora do horário comercial\n",
        "\n",
        "business_hours = []\n",
        "horaInicial = (datetime.strptime('09:00:00', '%H:%M:%S').time())\n",
        "horaFinal = (datetime.strptime('18:00:00', '%H:%M:%S').time())\n",
        "\n",
        "for i in variavel:\n",
        "  if i.weekday() == 5 or i.weekday() == 6:\n",
        "    business_hours.append(0)\n",
        "  else:\n",
        "    if i.time() >= horaInicial and i.time() <= horaFinal:\n",
        "      business_hours.append(1)\n",
        "    else:\n",
        "      business_hours.append(0)"
      ],
      "execution_count": 83,
      "outputs": []
    },
    {
      "cell_type": "code",
      "metadata": {
        "colab": {
          "base_uri": "https://localhost:8080/",
          "height": 270
        },
        "id": "iFb5rClbqYYY",
        "outputId": "1d762b0a-216e-4144-b29a-7184e3736514"
      },
      "source": [
        "# Incluindo nova variável no dataframe e excluíndo entradas de data originais\n",
        "\n",
        "tickets['is_business_hours'] = business_hours\n",
        "tickets = tickets.drop(['created_at','requester_created_at'], axis=1)\n",
        "tickets.head()"
      ],
      "execution_count": 84,
      "outputs": [
        {
          "output_type": "execute_result",
          "data": {
            "text/html": [
              "<div>\n",
              "<style scoped>\n",
              "    .dataframe tbody tr th:only-of-type {\n",
              "        vertical-align: middle;\n",
              "    }\n",
              "\n",
              "    .dataframe tbody tr th {\n",
              "        vertical-align: top;\n",
              "    }\n",
              "\n",
              "    .dataframe thead th {\n",
              "        text-align: right;\n",
              "    }\n",
              "</style>\n",
              "<table border=\"1\" class=\"dataframe\">\n",
              "  <thead>\n",
              "    <tr style=\"text-align: right;\">\n",
              "      <th></th>\n",
              "      <th>brand_id</th>\n",
              "      <th>submitter_id</th>\n",
              "      <th>group_id</th>\n",
              "      <th>organization_id</th>\n",
              "      <th>has_partner</th>\n",
              "      <th>has_success_manager</th>\n",
              "      <th>requester_id</th>\n",
              "      <th>complexity</th>\n",
              "      <th>is_operating</th>\n",
              "      <th>weekday</th>\n",
              "      <th>type_incident</th>\n",
              "      <th>type_problem</th>\n",
              "      <th>type_question</th>\n",
              "      <th>type_task</th>\n",
              "      <th>priority_low</th>\n",
              "      <th>priority_normal</th>\n",
              "      <th>priority_urgent</th>\n",
              "      <th>requester_equal_submitter</th>\n",
              "      <th>requester_duration_days</th>\n",
              "      <th>requester_nps-detractor</th>\n",
              "      <th>requester_nps-passive</th>\n",
              "      <th>requester_nps-promoter</th>\n",
              "      <th>requester_platform-skills-advanced</th>\n",
              "      <th>requester_platform-skills-beginner</th>\n",
              "      <th>requester_platform-skills-intermediate</th>\n",
              "      <th>is_business_hours</th>\n",
              "    </tr>\n",
              "    <tr>\n",
              "      <th>id</th>\n",
              "      <th></th>\n",
              "      <th></th>\n",
              "      <th></th>\n",
              "      <th></th>\n",
              "      <th></th>\n",
              "      <th></th>\n",
              "      <th></th>\n",
              "      <th></th>\n",
              "      <th></th>\n",
              "      <th></th>\n",
              "      <th></th>\n",
              "      <th></th>\n",
              "      <th></th>\n",
              "      <th></th>\n",
              "      <th></th>\n",
              "      <th></th>\n",
              "      <th></th>\n",
              "      <th></th>\n",
              "      <th></th>\n",
              "      <th></th>\n",
              "      <th></th>\n",
              "      <th></th>\n",
              "      <th></th>\n",
              "      <th></th>\n",
              "      <th></th>\n",
              "      <th></th>\n",
              "    </tr>\n",
              "  </thead>\n",
              "  <tbody>\n",
              "    <tr>\n",
              "      <th>162875</th>\n",
              "      <td>144968</td>\n",
              "      <td>8958433768</td>\n",
              "      <td>3.600088e+11</td>\n",
              "      <td>3.601459e+11</td>\n",
              "      <td>0.0</td>\n",
              "      <td>0.0</td>\n",
              "      <td>8958433768</td>\n",
              "      <td>high</td>\n",
              "      <td>NaN</td>\n",
              "      <td>2</td>\n",
              "      <td>1</td>\n",
              "      <td>0</td>\n",
              "      <td>0</td>\n",
              "      <td>0</td>\n",
              "      <td>0</td>\n",
              "      <td>0</td>\n",
              "      <td>0</td>\n",
              "      <td>0</td>\n",
              "      <td>1029</td>\n",
              "      <td>1</td>\n",
              "      <td>0</td>\n",
              "      <td>0</td>\n",
              "      <td>1</td>\n",
              "      <td>0</td>\n",
              "      <td>0</td>\n",
              "      <td>1</td>\n",
              "    </tr>\n",
              "    <tr>\n",
              "      <th>166035</th>\n",
              "      <td>144968</td>\n",
              "      <td>8958433768</td>\n",
              "      <td>3.600139e+11</td>\n",
              "      <td>3.601459e+11</td>\n",
              "      <td>0.0</td>\n",
              "      <td>0.0</td>\n",
              "      <td>8958433768</td>\n",
              "      <td>very_high</td>\n",
              "      <td>NaN</td>\n",
              "      <td>2</td>\n",
              "      <td>1</td>\n",
              "      <td>0</td>\n",
              "      <td>0</td>\n",
              "      <td>0</td>\n",
              "      <td>0</td>\n",
              "      <td>0</td>\n",
              "      <td>0</td>\n",
              "      <td>0</td>\n",
              "      <td>1043</td>\n",
              "      <td>1</td>\n",
              "      <td>0</td>\n",
              "      <td>0</td>\n",
              "      <td>1</td>\n",
              "      <td>0</td>\n",
              "      <td>0</td>\n",
              "      <td>1</td>\n",
              "    </tr>\n",
              "    <tr>\n",
              "      <th>182449</th>\n",
              "      <td>144968</td>\n",
              "      <td>379450971772</td>\n",
              "      <td>3.600155e+11</td>\n",
              "      <td>2.559354e+08</td>\n",
              "      <td>0.0</td>\n",
              "      <td>0.0</td>\n",
              "      <td>379450971772</td>\n",
              "      <td>very_high</td>\n",
              "      <td>NaN</td>\n",
              "      <td>4</td>\n",
              "      <td>0</td>\n",
              "      <td>0</td>\n",
              "      <td>1</td>\n",
              "      <td>0</td>\n",
              "      <td>0</td>\n",
              "      <td>1</td>\n",
              "      <td>0</td>\n",
              "      <td>0</td>\n",
              "      <td>141</td>\n",
              "      <td>0</td>\n",
              "      <td>0</td>\n",
              "      <td>0</td>\n",
              "      <td>1</td>\n",
              "      <td>0</td>\n",
              "      <td>0</td>\n",
              "      <td>0</td>\n",
              "    </tr>\n",
              "    <tr>\n",
              "      <th>189041</th>\n",
              "      <td>144968</td>\n",
              "      <td>378569033032</td>\n",
              "      <td>3.600120e+11</td>\n",
              "      <td>1.403345e+08</td>\n",
              "      <td>1.0</td>\n",
              "      <td>0.0</td>\n",
              "      <td>378569033032</td>\n",
              "      <td>moderate</td>\n",
              "      <td>NaN</td>\n",
              "      <td>4</td>\n",
              "      <td>1</td>\n",
              "      <td>0</td>\n",
              "      <td>0</td>\n",
              "      <td>0</td>\n",
              "      <td>0</td>\n",
              "      <td>1</td>\n",
              "      <td>0</td>\n",
              "      <td>0</td>\n",
              "      <td>186</td>\n",
              "      <td>0</td>\n",
              "      <td>0</td>\n",
              "      <td>0</td>\n",
              "      <td>0</td>\n",
              "      <td>0</td>\n",
              "      <td>1</td>\n",
              "      <td>1</td>\n",
              "    </tr>\n",
              "    <tr>\n",
              "      <th>207873</th>\n",
              "      <td>144968</td>\n",
              "      <td>367450009112</td>\n",
              "      <td>3.600124e+11</td>\n",
              "      <td>3.600242e+11</td>\n",
              "      <td>0.0</td>\n",
              "      <td>0.0</td>\n",
              "      <td>367450009112</td>\n",
              "      <td>None</td>\n",
              "      <td>NaN</td>\n",
              "      <td>0</td>\n",
              "      <td>0</td>\n",
              "      <td>0</td>\n",
              "      <td>0</td>\n",
              "      <td>0</td>\n",
              "      <td>0</td>\n",
              "      <td>1</td>\n",
              "      <td>0</td>\n",
              "      <td>0</td>\n",
              "      <td>502</td>\n",
              "      <td>0</td>\n",
              "      <td>0</td>\n",
              "      <td>0</td>\n",
              "      <td>1</td>\n",
              "      <td>0</td>\n",
              "      <td>0</td>\n",
              "      <td>1</td>\n",
              "    </tr>\n",
              "  </tbody>\n",
              "</table>\n",
              "</div>"
            ],
            "text/plain": [
              "        brand_id  ...  is_business_hours\n",
              "id                ...                   \n",
              "162875    144968  ...                  1\n",
              "166035    144968  ...                  1\n",
              "182449    144968  ...                  0\n",
              "189041    144968  ...                  1\n",
              "207873    144968  ...                  1\n",
              "\n",
              "[5 rows x 26 columns]"
            ]
          },
          "metadata": {
            "tags": []
          },
          "execution_count": 84
        }
      ]
    },
    {
      "cell_type": "markdown",
      "metadata": {
        "id": "0q2sJHmgzZKo"
      },
      "source": [
        "# Análise Exploratória"
      ]
    },
    {
      "cell_type": "code",
      "metadata": {
        "id": "IT7fd9rNzcLi"
      },
      "source": [
        "# Importação dos pacotes\n",
        "\n",
        "# import random\n",
        "# import matplotlib.pyplot as plt\n",
        "# import seaborn as sns\n",
        "# %matplotlib inline\n",
        "\n",
        "# Seed para reprodução de resultados\n",
        "seed = 1\n",
        "random.seed(seed)\n",
        "np.random.seed(seed)"
      ],
      "execution_count": 85,
      "outputs": []
    },
    {
      "cell_type": "code",
      "metadata": {
        "id": "_26TkL-BztYP",
        "colab": {
          "base_uri": "https://localhost:8080/",
          "height": 270
        },
        "outputId": "1d9d0320-5726-424d-d1d3-8206b2f851e0"
      },
      "source": [
        "tickets.head()"
      ],
      "execution_count": 86,
      "outputs": [
        {
          "output_type": "execute_result",
          "data": {
            "text/html": [
              "<div>\n",
              "<style scoped>\n",
              "    .dataframe tbody tr th:only-of-type {\n",
              "        vertical-align: middle;\n",
              "    }\n",
              "\n",
              "    .dataframe tbody tr th {\n",
              "        vertical-align: top;\n",
              "    }\n",
              "\n",
              "    .dataframe thead th {\n",
              "        text-align: right;\n",
              "    }\n",
              "</style>\n",
              "<table border=\"1\" class=\"dataframe\">\n",
              "  <thead>\n",
              "    <tr style=\"text-align: right;\">\n",
              "      <th></th>\n",
              "      <th>brand_id</th>\n",
              "      <th>submitter_id</th>\n",
              "      <th>group_id</th>\n",
              "      <th>organization_id</th>\n",
              "      <th>has_partner</th>\n",
              "      <th>has_success_manager</th>\n",
              "      <th>requester_id</th>\n",
              "      <th>complexity</th>\n",
              "      <th>is_operating</th>\n",
              "      <th>weekday</th>\n",
              "      <th>type_incident</th>\n",
              "      <th>type_problem</th>\n",
              "      <th>type_question</th>\n",
              "      <th>type_task</th>\n",
              "      <th>priority_low</th>\n",
              "      <th>priority_normal</th>\n",
              "      <th>priority_urgent</th>\n",
              "      <th>requester_equal_submitter</th>\n",
              "      <th>requester_duration_days</th>\n",
              "      <th>requester_nps-detractor</th>\n",
              "      <th>requester_nps-passive</th>\n",
              "      <th>requester_nps-promoter</th>\n",
              "      <th>requester_platform-skills-advanced</th>\n",
              "      <th>requester_platform-skills-beginner</th>\n",
              "      <th>requester_platform-skills-intermediate</th>\n",
              "      <th>is_business_hours</th>\n",
              "    </tr>\n",
              "    <tr>\n",
              "      <th>id</th>\n",
              "      <th></th>\n",
              "      <th></th>\n",
              "      <th></th>\n",
              "      <th></th>\n",
              "      <th></th>\n",
              "      <th></th>\n",
              "      <th></th>\n",
              "      <th></th>\n",
              "      <th></th>\n",
              "      <th></th>\n",
              "      <th></th>\n",
              "      <th></th>\n",
              "      <th></th>\n",
              "      <th></th>\n",
              "      <th></th>\n",
              "      <th></th>\n",
              "      <th></th>\n",
              "      <th></th>\n",
              "      <th></th>\n",
              "      <th></th>\n",
              "      <th></th>\n",
              "      <th></th>\n",
              "      <th></th>\n",
              "      <th></th>\n",
              "      <th></th>\n",
              "      <th></th>\n",
              "    </tr>\n",
              "  </thead>\n",
              "  <tbody>\n",
              "    <tr>\n",
              "      <th>162875</th>\n",
              "      <td>144968</td>\n",
              "      <td>8958433768</td>\n",
              "      <td>3.600088e+11</td>\n",
              "      <td>3.601459e+11</td>\n",
              "      <td>0.0</td>\n",
              "      <td>0.0</td>\n",
              "      <td>8958433768</td>\n",
              "      <td>high</td>\n",
              "      <td>NaN</td>\n",
              "      <td>2</td>\n",
              "      <td>1</td>\n",
              "      <td>0</td>\n",
              "      <td>0</td>\n",
              "      <td>0</td>\n",
              "      <td>0</td>\n",
              "      <td>0</td>\n",
              "      <td>0</td>\n",
              "      <td>0</td>\n",
              "      <td>1029</td>\n",
              "      <td>1</td>\n",
              "      <td>0</td>\n",
              "      <td>0</td>\n",
              "      <td>1</td>\n",
              "      <td>0</td>\n",
              "      <td>0</td>\n",
              "      <td>1</td>\n",
              "    </tr>\n",
              "    <tr>\n",
              "      <th>166035</th>\n",
              "      <td>144968</td>\n",
              "      <td>8958433768</td>\n",
              "      <td>3.600139e+11</td>\n",
              "      <td>3.601459e+11</td>\n",
              "      <td>0.0</td>\n",
              "      <td>0.0</td>\n",
              "      <td>8958433768</td>\n",
              "      <td>very_high</td>\n",
              "      <td>NaN</td>\n",
              "      <td>2</td>\n",
              "      <td>1</td>\n",
              "      <td>0</td>\n",
              "      <td>0</td>\n",
              "      <td>0</td>\n",
              "      <td>0</td>\n",
              "      <td>0</td>\n",
              "      <td>0</td>\n",
              "      <td>0</td>\n",
              "      <td>1043</td>\n",
              "      <td>1</td>\n",
              "      <td>0</td>\n",
              "      <td>0</td>\n",
              "      <td>1</td>\n",
              "      <td>0</td>\n",
              "      <td>0</td>\n",
              "      <td>1</td>\n",
              "    </tr>\n",
              "    <tr>\n",
              "      <th>182449</th>\n",
              "      <td>144968</td>\n",
              "      <td>379450971772</td>\n",
              "      <td>3.600155e+11</td>\n",
              "      <td>2.559354e+08</td>\n",
              "      <td>0.0</td>\n",
              "      <td>0.0</td>\n",
              "      <td>379450971772</td>\n",
              "      <td>very_high</td>\n",
              "      <td>NaN</td>\n",
              "      <td>4</td>\n",
              "      <td>0</td>\n",
              "      <td>0</td>\n",
              "      <td>1</td>\n",
              "      <td>0</td>\n",
              "      <td>0</td>\n",
              "      <td>1</td>\n",
              "      <td>0</td>\n",
              "      <td>0</td>\n",
              "      <td>141</td>\n",
              "      <td>0</td>\n",
              "      <td>0</td>\n",
              "      <td>0</td>\n",
              "      <td>1</td>\n",
              "      <td>0</td>\n",
              "      <td>0</td>\n",
              "      <td>0</td>\n",
              "    </tr>\n",
              "    <tr>\n",
              "      <th>189041</th>\n",
              "      <td>144968</td>\n",
              "      <td>378569033032</td>\n",
              "      <td>3.600120e+11</td>\n",
              "      <td>1.403345e+08</td>\n",
              "      <td>1.0</td>\n",
              "      <td>0.0</td>\n",
              "      <td>378569033032</td>\n",
              "      <td>moderate</td>\n",
              "      <td>NaN</td>\n",
              "      <td>4</td>\n",
              "      <td>1</td>\n",
              "      <td>0</td>\n",
              "      <td>0</td>\n",
              "      <td>0</td>\n",
              "      <td>0</td>\n",
              "      <td>1</td>\n",
              "      <td>0</td>\n",
              "      <td>0</td>\n",
              "      <td>186</td>\n",
              "      <td>0</td>\n",
              "      <td>0</td>\n",
              "      <td>0</td>\n",
              "      <td>0</td>\n",
              "      <td>0</td>\n",
              "      <td>1</td>\n",
              "      <td>1</td>\n",
              "    </tr>\n",
              "    <tr>\n",
              "      <th>207873</th>\n",
              "      <td>144968</td>\n",
              "      <td>367450009112</td>\n",
              "      <td>3.600124e+11</td>\n",
              "      <td>3.600242e+11</td>\n",
              "      <td>0.0</td>\n",
              "      <td>0.0</td>\n",
              "      <td>367450009112</td>\n",
              "      <td>None</td>\n",
              "      <td>NaN</td>\n",
              "      <td>0</td>\n",
              "      <td>0</td>\n",
              "      <td>0</td>\n",
              "      <td>0</td>\n",
              "      <td>0</td>\n",
              "      <td>0</td>\n",
              "      <td>1</td>\n",
              "      <td>0</td>\n",
              "      <td>0</td>\n",
              "      <td>502</td>\n",
              "      <td>0</td>\n",
              "      <td>0</td>\n",
              "      <td>0</td>\n",
              "      <td>1</td>\n",
              "      <td>0</td>\n",
              "      <td>0</td>\n",
              "      <td>1</td>\n",
              "    </tr>\n",
              "  </tbody>\n",
              "</table>\n",
              "</div>"
            ],
            "text/plain": [
              "        brand_id  ...  is_business_hours\n",
              "id                ...                   \n",
              "162875    144968  ...                  1\n",
              "166035    144968  ...                  1\n",
              "182449    144968  ...                  0\n",
              "189041    144968  ...                  1\n",
              "207873    144968  ...                  1\n",
              "\n",
              "[5 rows x 26 columns]"
            ]
          },
          "metadata": {
            "tags": []
          },
          "execution_count": 86
        }
      ]
    },
    {
      "cell_type": "code",
      "metadata": {
        "id": "nEfCXEOs0BS_",
        "colab": {
          "base_uri": "https://localhost:8080/"
        },
        "outputId": "d2e5a5dd-c2bb-4dd9-9b83-ab24d0f37a2c"
      },
      "source": [
        "# Tamanho da amostra\n",
        "\n",
        "tickets.shape"
      ],
      "execution_count": 87,
      "outputs": [
        {
          "output_type": "execute_result",
          "data": {
            "text/plain": [
              "(19406, 26)"
            ]
          },
          "metadata": {
            "tags": []
          },
          "execution_count": 87
        }
      ]
    },
    {
      "cell_type": "code",
      "metadata": {
        "id": "fqMhQm230D6Q",
        "colab": {
          "base_uri": "https://localhost:8080/",
          "height": 331
        },
        "outputId": "3fc84bfe-379c-4b11-e48d-80fa5f51690e"
      },
      "source": [
        "tickets.describe()"
      ],
      "execution_count": 88,
      "outputs": [
        {
          "output_type": "execute_result",
          "data": {
            "text/html": [
              "<div>\n",
              "<style scoped>\n",
              "    .dataframe tbody tr th:only-of-type {\n",
              "        vertical-align: middle;\n",
              "    }\n",
              "\n",
              "    .dataframe tbody tr th {\n",
              "        vertical-align: top;\n",
              "    }\n",
              "\n",
              "    .dataframe thead th {\n",
              "        text-align: right;\n",
              "    }\n",
              "</style>\n",
              "<table border=\"1\" class=\"dataframe\">\n",
              "  <thead>\n",
              "    <tr style=\"text-align: right;\">\n",
              "      <th></th>\n",
              "      <th>brand_id</th>\n",
              "      <th>submitter_id</th>\n",
              "      <th>group_id</th>\n",
              "      <th>organization_id</th>\n",
              "      <th>has_partner</th>\n",
              "      <th>has_success_manager</th>\n",
              "      <th>requester_id</th>\n",
              "      <th>is_operating</th>\n",
              "      <th>weekday</th>\n",
              "      <th>type_incident</th>\n",
              "      <th>type_problem</th>\n",
              "      <th>type_question</th>\n",
              "      <th>type_task</th>\n",
              "      <th>priority_low</th>\n",
              "      <th>priority_normal</th>\n",
              "      <th>priority_urgent</th>\n",
              "      <th>requester_equal_submitter</th>\n",
              "      <th>requester_duration_days</th>\n",
              "      <th>requester_nps-detractor</th>\n",
              "      <th>requester_nps-passive</th>\n",
              "      <th>requester_nps-promoter</th>\n",
              "      <th>requester_platform-skills-advanced</th>\n",
              "      <th>requester_platform-skills-beginner</th>\n",
              "      <th>requester_platform-skills-intermediate</th>\n",
              "      <th>is_business_hours</th>\n",
              "    </tr>\n",
              "  </thead>\n",
              "  <tbody>\n",
              "    <tr>\n",
              "      <th>count</th>\n",
              "      <td>19406.0</td>\n",
              "      <td>1.940600e+04</td>\n",
              "      <td>1.930400e+04</td>\n",
              "      <td>1.565900e+04</td>\n",
              "      <td>15659.000000</td>\n",
              "      <td>15659.000000</td>\n",
              "      <td>1.940600e+04</td>\n",
              "      <td>18802.000000</td>\n",
              "      <td>19406.000000</td>\n",
              "      <td>19406.000000</td>\n",
              "      <td>19406.000000</td>\n",
              "      <td>19406.000000</td>\n",
              "      <td>19406.000000</td>\n",
              "      <td>19406.000000</td>\n",
              "      <td>19406.000000</td>\n",
              "      <td>19406.000000</td>\n",
              "      <td>19406.000000</td>\n",
              "      <td>19406.000000</td>\n",
              "      <td>19406.000000</td>\n",
              "      <td>19406.000000</td>\n",
              "      <td>19406.000000</td>\n",
              "      <td>19406.000000</td>\n",
              "      <td>19406.000000</td>\n",
              "      <td>19406.000000</td>\n",
              "      <td>19406.000000</td>\n",
              "    </tr>\n",
              "    <tr>\n",
              "      <th>mean</th>\n",
              "      <td>144968.0</td>\n",
              "      <td>3.717021e+11</td>\n",
              "      <td>3.595234e+11</td>\n",
              "      <td>2.516407e+11</td>\n",
              "      <td>0.159333</td>\n",
              "      <td>0.094131</td>\n",
              "      <td>3.712252e+11</td>\n",
              "      <td>0.674769</td>\n",
              "      <td>2.044059</td>\n",
              "      <td>0.042461</td>\n",
              "      <td>0.002164</td>\n",
              "      <td>0.605534</td>\n",
              "      <td>0.105174</td>\n",
              "      <td>0.420334</td>\n",
              "      <td>0.341338</td>\n",
              "      <td>0.050757</td>\n",
              "      <td>0.027826</td>\n",
              "      <td>415.791044</td>\n",
              "      <td>0.031073</td>\n",
              "      <td>0.036690</td>\n",
              "      <td>0.052252</td>\n",
              "      <td>0.118520</td>\n",
              "      <td>0.224003</td>\n",
              "      <td>0.393280</td>\n",
              "      <td>0.541740</td>\n",
              "    </tr>\n",
              "    <tr>\n",
              "      <th>std</th>\n",
              "      <td>0.0</td>\n",
              "      <td>8.731646e+10</td>\n",
              "      <td>1.320262e+10</td>\n",
              "      <td>1.589842e+11</td>\n",
              "      <td>0.365998</td>\n",
              "      <td>0.292020</td>\n",
              "      <td>8.798376e+10</td>\n",
              "      <td>0.468474</td>\n",
              "      <td>1.471245</td>\n",
              "      <td>0.201644</td>\n",
              "      <td>0.046473</td>\n",
              "      <td>0.488748</td>\n",
              "      <td>0.306785</td>\n",
              "      <td>0.493625</td>\n",
              "      <td>0.474171</td>\n",
              "      <td>0.219508</td>\n",
              "      <td>0.164480</td>\n",
              "      <td>425.256529</td>\n",
              "      <td>0.173519</td>\n",
              "      <td>0.188004</td>\n",
              "      <td>0.222540</td>\n",
              "      <td>0.323231</td>\n",
              "      <td>0.416935</td>\n",
              "      <td>0.488491</td>\n",
              "      <td>0.498268</td>\n",
              "    </tr>\n",
              "    <tr>\n",
              "      <th>min</th>\n",
              "      <td>144968.0</td>\n",
              "      <td>8.332444e+08</td>\n",
              "      <td>2.595627e+07</td>\n",
              "      <td>4.153510e+07</td>\n",
              "      <td>0.000000</td>\n",
              "      <td>0.000000</td>\n",
              "      <td>8.766956e+08</td>\n",
              "      <td>0.000000</td>\n",
              "      <td>0.000000</td>\n",
              "      <td>0.000000</td>\n",
              "      <td>0.000000</td>\n",
              "      <td>0.000000</td>\n",
              "      <td>0.000000</td>\n",
              "      <td>0.000000</td>\n",
              "      <td>0.000000</td>\n",
              "      <td>0.000000</td>\n",
              "      <td>0.000000</td>\n",
              "      <td>-55.000000</td>\n",
              "      <td>0.000000</td>\n",
              "      <td>0.000000</td>\n",
              "      <td>0.000000</td>\n",
              "      <td>0.000000</td>\n",
              "      <td>0.000000</td>\n",
              "      <td>0.000000</td>\n",
              "      <td>0.000000</td>\n",
              "    </tr>\n",
              "    <tr>\n",
              "      <th>25%</th>\n",
              "      <td>144968.0</td>\n",
              "      <td>3.831173e+11</td>\n",
              "      <td>3.600047e+11</td>\n",
              "      <td>1.439846e+10</td>\n",
              "      <td>0.000000</td>\n",
              "      <td>0.000000</td>\n",
              "      <td>3.827546e+11</td>\n",
              "      <td>0.000000</td>\n",
              "      <td>1.000000</td>\n",
              "      <td>0.000000</td>\n",
              "      <td>0.000000</td>\n",
              "      <td>0.000000</td>\n",
              "      <td>0.000000</td>\n",
              "      <td>0.000000</td>\n",
              "      <td>0.000000</td>\n",
              "      <td>0.000000</td>\n",
              "      <td>0.000000</td>\n",
              "      <td>92.000000</td>\n",
              "      <td>0.000000</td>\n",
              "      <td>0.000000</td>\n",
              "      <td>0.000000</td>\n",
              "      <td>0.000000</td>\n",
              "      <td>0.000000</td>\n",
              "      <td>0.000000</td>\n",
              "      <td>0.000000</td>\n",
              "    </tr>\n",
              "    <tr>\n",
              "      <th>50%</th>\n",
              "      <td>144968.0</td>\n",
              "      <td>3.982885e+11</td>\n",
              "      <td>3.600088e+11</td>\n",
              "      <td>3.604749e+11</td>\n",
              "      <td>0.000000</td>\n",
              "      <td>0.000000</td>\n",
              "      <td>3.982020e+11</td>\n",
              "      <td>1.000000</td>\n",
              "      <td>2.000000</td>\n",
              "      <td>0.000000</td>\n",
              "      <td>0.000000</td>\n",
              "      <td>1.000000</td>\n",
              "      <td>0.000000</td>\n",
              "      <td>0.000000</td>\n",
              "      <td>0.000000</td>\n",
              "      <td>0.000000</td>\n",
              "      <td>0.000000</td>\n",
              "      <td>267.000000</td>\n",
              "      <td>0.000000</td>\n",
              "      <td>0.000000</td>\n",
              "      <td>0.000000</td>\n",
              "      <td>0.000000</td>\n",
              "      <td>0.000000</td>\n",
              "      <td>0.000000</td>\n",
              "      <td>1.000000</td>\n",
              "    </tr>\n",
              "    <tr>\n",
              "      <th>75%</th>\n",
              "      <td>144968.0</td>\n",
              "      <td>4.063185e+11</td>\n",
              "      <td>3.600120e+11</td>\n",
              "      <td>3.610705e+11</td>\n",
              "      <td>0.000000</td>\n",
              "      <td>0.000000</td>\n",
              "      <td>4.062662e+11</td>\n",
              "      <td>1.000000</td>\n",
              "      <td>3.000000</td>\n",
              "      <td>0.000000</td>\n",
              "      <td>0.000000</td>\n",
              "      <td>1.000000</td>\n",
              "      <td>0.000000</td>\n",
              "      <td>1.000000</td>\n",
              "      <td>1.000000</td>\n",
              "      <td>0.000000</td>\n",
              "      <td>0.000000</td>\n",
              "      <td>620.000000</td>\n",
              "      <td>0.000000</td>\n",
              "      <td>0.000000</td>\n",
              "      <td>0.000000</td>\n",
              "      <td>0.000000</td>\n",
              "      <td>0.000000</td>\n",
              "      <td>1.000000</td>\n",
              "      <td>1.000000</td>\n",
              "    </tr>\n",
              "    <tr>\n",
              "      <th>max</th>\n",
              "      <td>144968.0</td>\n",
              "      <td>4.130392e+11</td>\n",
              "      <td>3.600161e+11</td>\n",
              "      <td>3.613654e+11</td>\n",
              "      <td>1.000000</td>\n",
              "      <td>1.000000</td>\n",
              "      <td>4.130392e+11</td>\n",
              "      <td>1.000000</td>\n",
              "      <td>6.000000</td>\n",
              "      <td>1.000000</td>\n",
              "      <td>1.000000</td>\n",
              "      <td>1.000000</td>\n",
              "      <td>1.000000</td>\n",
              "      <td>1.000000</td>\n",
              "      <td>1.000000</td>\n",
              "      <td>1.000000</td>\n",
              "      <td>1.000000</td>\n",
              "      <td>2150.000000</td>\n",
              "      <td>1.000000</td>\n",
              "      <td>1.000000</td>\n",
              "      <td>1.000000</td>\n",
              "      <td>1.000000</td>\n",
              "      <td>1.000000</td>\n",
              "      <td>1.000000</td>\n",
              "      <td>1.000000</td>\n",
              "    </tr>\n",
              "  </tbody>\n",
              "</table>\n",
              "</div>"
            ],
            "text/plain": [
              "       brand_id  ...  is_business_hours\n",
              "count   19406.0  ...       19406.000000\n",
              "mean   144968.0  ...           0.541740\n",
              "std         0.0  ...           0.498268\n",
              "min    144968.0  ...           0.000000\n",
              "25%    144968.0  ...           0.000000\n",
              "50%    144968.0  ...           1.000000\n",
              "75%    144968.0  ...           1.000000\n",
              "max    144968.0  ...           1.000000\n",
              "\n",
              "[8 rows x 25 columns]"
            ]
          },
          "metadata": {
            "tags": []
          },
          "execution_count": 88
        }
      ]
    },
    {
      "cell_type": "code",
      "metadata": {
        "id": "WewXQgb70Gmn",
        "colab": {
          "base_uri": "https://localhost:8080/",
          "height": 296
        },
        "outputId": "6df7df94-239b-40e4-c1a1-335dd423e05d"
      },
      "source": [
        "# Análise balanceamento\n",
        "\n",
        "sns.countplot(data=tickets, x='complexity')\n",
        "plt.rcParams['figure.figsize'] = (11,7)\n",
        "plt.title('Complexity Distribution')\n",
        "plt.show()"
      ],
      "execution_count": 89,
      "outputs": [
        {
          "output_type": "display_data",
          "data": {
            "image/png": "[encoded data removed]",
            "text/plain": [
              "<Figure size 432x288 with 1 Axes>"
            ]
          },
          "metadata": {
            "tags": [],
            "needs_background": "light"
          }
        }
      ]
    },
    {
      "cell_type": "code",
      "metadata": {
        "id": "Ax008_dH0aSL",
        "colab": {
          "base_uri": "https://localhost:8080/"
        },
        "outputId": "e08a2769-560f-4e20-df70-c7e278846eee"
      },
      "source": [
        "# Analisando somatório de valores nulls na base de dados\n",
        "\n",
        "tickets.isnull().sum()"
      ],
      "execution_count": 90,
      "outputs": [
        {
          "output_type": "execute_result",
          "data": {
            "text/plain": [
              "brand_id                                     0\n",
              "submitter_id                                 0\n",
              "group_id                                   102\n",
              "organization_id                           3747\n",
              "has_partner                               3747\n",
              "has_success_manager                       3747\n",
              "requester_id                                 0\n",
              "complexity                                9884\n",
              "is_operating                               604\n",
              "weekday                                      0\n",
              "type_incident                                0\n",
              "type_problem                                 0\n",
              "type_question                                0\n",
              "type_task                                    0\n",
              "priority_low                                 0\n",
              "priority_normal                              0\n",
              "priority_urgent                              0\n",
              "requester_equal_submitter                    0\n",
              "requester_duration_days                      0\n",
              "requester_nps-detractor                      0\n",
              "requester_nps-passive                        0\n",
              "requester_nps-promoter                       0\n",
              "requester_platform-skills-advanced           0\n",
              "requester_platform-skills-beginner           0\n",
              "requester_platform-skills-intermediate       0\n",
              "is_business_hours                            0\n",
              "dtype: int64"
            ]
          },
          "metadata": {
            "tags": []
          },
          "execution_count": 90
        }
      ]
    },
    {
      "cell_type": "code",
      "metadata": {
        "id": "CVj1WR7X0ocS"
      },
      "source": [
        "# Limpando dados nulos da coluna de classificação\n",
        "\n",
        "tickets = tickets.dropna(subset=['complexity'])"
      ],
      "execution_count": 91,
      "outputs": []
    },
    {
      "cell_type": "code",
      "metadata": {
        "id": "RE_KntFN1BvN",
        "colab": {
          "base_uri": "https://localhost:8080/"
        },
        "outputId": "bbf1d17f-aade-4879-e50e-789c382df09f"
      },
      "source": [
        "# Validando número de campos nulos na variável categórica\n",
        "\n",
        "tickets['complexity'].isnull().sum()"
      ],
      "execution_count": 92,
      "outputs": [
        {
          "output_type": "execute_result",
          "data": {
            "text/plain": [
              "0"
            ]
          },
          "metadata": {
            "tags": []
          },
          "execution_count": 92
        }
      ]
    },
    {
      "cell_type": "code",
      "metadata": {
        "colab": {
          "base_uri": "https://localhost:8080/"
        },
        "id": "2wj2Z_vsrvMO",
        "outputId": "fef9013a-fc78-4355-c329-838585901265"
      },
      "source": [
        "# Contagem das classes de saída\n",
        "\n",
        "unique, counts = np.unique(tickets['complexity'], return_counts=True)\n",
        "print(f'Total de valores nulos: {counts[0]}')\n",
        "print(f'Total de {unique[1]}: {counts[1]}')\n",
        "print(f'Total de {unique[2]}: {counts[2]}')\n",
        "print(f'Total de {unique[3]}: {counts[3]}')\n",
        "print(f'Total de {unique[4]}: {counts[4]}')"
      ],
      "execution_count": 93,
      "outputs": [
        {
          "output_type": "stream",
          "text": [
            "Total de valores nulos: 130\n",
            "Total de high: 613\n",
            "Total de low: 5821\n",
            "Total de moderate: 2845\n",
            "Total de very_high: 113\n"
          ],
          "name": "stdout"
        }
      ]
    },
    {
      "cell_type": "code",
      "metadata": {
        "id": "8LvLaZmVgg6v"
      },
      "source": [
        "# Descartando entradas com classe de saída nula\n",
        "\n",
        "tickets = tickets[tickets['complexity'] != '']"
      ],
      "execution_count": 94,
      "outputs": []
    },
    {
      "cell_type": "code",
      "metadata": {
        "colab": {
          "base_uri": "https://localhost:8080/"
        },
        "id": "NJxtgzZZhG-Z",
        "outputId": "d72835f7-ad2e-49ca-ce88-e7c4e414d88e"
      },
      "source": [
        "tickets.shape"
      ],
      "execution_count": 95,
      "outputs": [
        {
          "output_type": "execute_result",
          "data": {
            "text/plain": [
              "(9392, 26)"
            ]
          },
          "metadata": {
            "tags": []
          },
          "execution_count": 95
        }
      ]
    },
    {
      "cell_type": "code",
      "metadata": {
        "colab": {
          "base_uri": "https://localhost:8080/"
        },
        "id": "kJzGwdkPiBJW",
        "outputId": "a6701b56-69c4-4bbe-ece3-7bbb08a293a7"
      },
      "source": [
        "# Contagem das classes de saída\n",
        "\n",
        "unique, counts = np.unique(tickets['complexity'], return_counts=True)\n",
        "# print(f'Total de valores nulos: {counts[0]}')\n",
        "print(f'Total de {unique[0]}: {counts[0]}')\n",
        "print(f'Total de {unique[1]}: {counts[1]}')\n",
        "print(f'Total de {unique[2]}: {counts[2]}')\n",
        "print(f'Total de {unique[3]}: {counts[3]}')\n",
        "\n",
        "# print(unique)"
      ],
      "execution_count": 100,
      "outputs": [
        {
          "output_type": "stream",
          "text": [
            "Total de high: 613\n",
            "Total de low: 5821\n",
            "Total de moderate: 2845\n",
            "Total de very_high: 113\n"
          ],
          "name": "stdout"
        }
      ]
    },
    {
      "cell_type": "code",
      "metadata": {
        "colab": {
          "base_uri": "https://localhost:8080/",
          "height": 514
        },
        "id": "cUoeIvYBsrgH",
        "outputId": "96759490-8acd-442f-93af-1023c4d6ac2f"
      },
      "source": [
        "sns.countplot(tickets['complexity'])\n",
        "plt.rcParams['figure.figsize'] = (11,7)\n",
        "plt.title('Complexity Distribution')\n",
        "plt.show()"
      ],
      "execution_count": 98,
      "outputs": [
        {
          "output_type": "stream",
          "text": [
            "/usr/local/lib/python3.7/dist-packages/seaborn/_decorators.py:43: FutureWarning: Pass the following variable as a keyword arg: x. From version 0.12, the only valid positional argument will be `data`, and passing other arguments without an explicit keyword will result in an error or misinterpretation.\n",
            "  FutureWarning\n"
          ],
          "name": "stderr"
        },
        {
          "output_type": "display_data",
          "data": {
            "image/png": "[encoded data removed]",
            "text/plain": [
              "<Figure size 792x504 with 1 Axes>"
            ]
          },
          "metadata": {
            "tags": [],
            "needs_background": "light"
          }
        }
      ]
    },
    {
      "cell_type": "code",
      "metadata": {
        "id": "SfCMmiLi2Unf",
        "colab": {
          "base_uri": "https://localhost:8080/",
          "height": 513
        },
        "outputId": "5f30ea46-5358-4f6c-dff0-94c2fa62778f"
      },
      "source": [
        "# Plotando gráfico da distribuição de tickets por dia da semana\n",
        "\n",
        "sns.countplot(tickets['weekday'])\n",
        "plt.rcParams['figure.figsize'] = (11,7)\n",
        "plt.title('Tickets Distribution by Weekday')\n",
        "plt.show()"
      ],
      "execution_count": 101,
      "outputs": [
        {
          "output_type": "stream",
          "text": [
            "/usr/local/lib/python3.7/dist-packages/seaborn/_decorators.py:43: FutureWarning: Pass the following variable as a keyword arg: x. From version 0.12, the only valid positional argument will be `data`, and passing other arguments without an explicit keyword will result in an error or misinterpretation.\n",
            "  FutureWarning\n"
          ],
          "name": "stderr"
        },
        {
          "output_type": "display_data",
          "data": {
            "image/png": "[encoded data removed]",
            "text/plain": [
              "<Figure size 792x504 with 1 Axes>"
            ]
          },
          "metadata": {
            "tags": [],
            "needs_background": "light"
          }
        }
      ]
    },
    {
      "cell_type": "code",
      "metadata": {
        "colab": {
          "base_uri": "https://localhost:8080/",
          "height": 514
        },
        "id": "6hzTzrHLux3b",
        "outputId": "0243fb24-f3b1-476b-8a3f-ae115613573e"
      },
      "source": [
        "# Plotando gráfico da distribuição de tickets por variável de business_hours\n",
        "\n",
        "sns.countplot(tickets['is_business_hours'])\n",
        "plt.rcParams['figure.figsize'] = (11,7)\n",
        "plt.title('Tickets Distribution by Business Hours')\n",
        "plt.show()"
      ],
      "execution_count": 102,
      "outputs": [
        {
          "output_type": "stream",
          "text": [
            "/usr/local/lib/python3.7/dist-packages/seaborn/_decorators.py:43: FutureWarning: Pass the following variable as a keyword arg: x. From version 0.12, the only valid positional argument will be `data`, and passing other arguments without an explicit keyword will result in an error or misinterpretation.\n",
            "  FutureWarning\n"
          ],
          "name": "stderr"
        },
        {
          "output_type": "display_data",
          "data": {
            "image/png": "[encoded data removed]",
            "text/plain": [
              "<Figure size 792x504 with 1 Axes>"
            ]
          },
          "metadata": {
            "tags": [],
            "needs_background": "light"
          }
        }
      ]
    },
    {
      "cell_type": "markdown",
      "metadata": {
        "id": "_kFwfU3I2hM0"
      },
      "source": [
        "# Separando Input e Output"
      ]
    },
    {
      "cell_type": "code",
      "metadata": {
        "id": "JHZ4wbLL2bgT",
        "colab": {
          "base_uri": "https://localhost:8080/"
        },
        "outputId": "c8538a10-4973-4dc8-9995-03acd491aed5"
      },
      "source": [
        "# semente para reprodução de resultados\n",
        "seed=10000\n",
        "\n",
        "# Separando base de treino e de teste\n",
        "# from sklearn.model_selection import train_test_split\n",
        "x_train, x_test, y_train, y_test = train_test_split(tickets.loc[:,tickets.columns != 'complexity'],\n",
        "                                                    tickets['complexity'], test_size=0.2, stratify=tickets['complexity'],\n",
        "                                                    random_state=seed)\n",
        "\n",
        "print('shape input de treino: ', x_train.shape)\n",
        "print('shape input de teste: ', x_test.shape)\n",
        "print('shape output de treino: ', y_train.shape)\n",
        "print('shape output de teste: ', y_test.shape)"
      ],
      "execution_count": 103,
      "outputs": [
        {
          "output_type": "stream",
          "text": [
            "shape input de treino:  (7513, 25)\n",
            "shape input de teste:  (1879, 25)\n",
            "shape output de treino:  (7513,)\n",
            "shape output de teste:  (1879,)\n"
          ],
          "name": "stdout"
        }
      ]
    },
    {
      "cell_type": "code",
      "metadata": {
        "id": "yVufrEa-2lLa",
        "colab": {
          "base_uri": "https://localhost:8080/"
        },
        "outputId": "aa902b90-bd96-48a6-ffb1-077fbf2ef681"
      },
      "source": [
        "# Verificar proporções. Amostragem estratificada\n",
        "\n",
        "tickets['complexity'].value_counts()"
      ],
      "execution_count": 104,
      "outputs": [
        {
          "output_type": "execute_result",
          "data": {
            "text/plain": [
              "low          5821\n",
              "moderate     2845\n",
              "high          613\n",
              "very_high     113\n",
              "Name: complexity, dtype: int64"
            ]
          },
          "metadata": {
            "tags": []
          },
          "execution_count": 104
        }
      ]
    },
    {
      "cell_type": "code",
      "metadata": {
        "id": "zaJ_cOR62nhu",
        "colab": {
          "base_uri": "https://localhost:8080/"
        },
        "outputId": "950b2803-0f8e-4459-e83a-430db330308a"
      },
      "source": [
        "#treino\n",
        "print(0.8 * tickets['complexity'].value_counts()[0])\n",
        "print(0.8 * tickets['complexity'].value_counts()[1])\n",
        "print(0.8 * tickets['complexity'].value_counts()[2])\n",
        "print(0.8 * tickets['complexity'].value_counts()[3])\n",
        "\n",
        "#teste\n",
        "print(0.2 * tickets['complexity'].value_counts()[0])\n",
        "print(0.2 * tickets['complexity'].value_counts()[1])\n",
        "print(0.2 * tickets['complexity'].value_counts()[2])\n",
        "print(0.2 * tickets['complexity'].value_counts()[3])"
      ],
      "execution_count": 106,
      "outputs": [
        {
          "output_type": "stream",
          "text": [
            "4656.8\n",
            "2276.0\n",
            "490.40000000000003\n",
            "90.4\n",
            "1164.2\n",
            "569.0\n",
            "122.60000000000001\n",
            "22.6\n"
          ],
          "name": "stdout"
        }
      ]
    },
    {
      "cell_type": "code",
      "metadata": {
        "id": "jKfqsdOy2qZ4",
        "colab": {
          "base_uri": "https://localhost:8080/"
        },
        "outputId": "ca6c876b-f8ab-434d-efc2-8d4fccf43dbc"
      },
      "source": [
        "y_train.value_counts()"
      ],
      "execution_count": 107,
      "outputs": [
        {
          "output_type": "execute_result",
          "data": {
            "text/plain": [
              "low          4657\n",
              "moderate     2276\n",
              "high          490\n",
              "very_high      90\n",
              "Name: complexity, dtype: int64"
            ]
          },
          "metadata": {
            "tags": []
          },
          "execution_count": 107
        }
      ]
    },
    {
      "cell_type": "code",
      "metadata": {
        "id": "fNahcP012tiN",
        "colab": {
          "base_uri": "https://localhost:8080/"
        },
        "outputId": "114c15ac-9cd0-4ee1-cac0-be7a1a100873"
      },
      "source": [
        "y_test.value_counts()"
      ],
      "execution_count": 108,
      "outputs": [
        {
          "output_type": "execute_result",
          "data": {
            "text/plain": [
              "low          1164\n",
              "moderate      569\n",
              "high          123\n",
              "very_high      23\n",
              "Name: complexity, dtype: int64"
            ]
          },
          "metadata": {
            "tags": []
          },
          "execution_count": 108
        }
      ]
    },
    {
      "cell_type": "markdown",
      "metadata": {
        "id": "fxRUkn5t2ybz"
      },
      "source": [
        "# Pré-Processamento"
      ]
    },
    {
      "cell_type": "code",
      "metadata": {
        "id": "OhjiYSId244g",
        "colab": {
          "base_uri": "https://localhost:8080/",
          "height": 433
        },
        "outputId": "9719ac48-e4c2-4c18-b96b-1bdad1b68725"
      },
      "source": [
        "# Visualizar missing\n",
        "\n",
        "# import missingno as msno\n",
        "msno.matrix(x_train, figsize=(25,5));"
      ],
      "execution_count": 109,
      "outputs": [
        {
          "output_type": "display_data",
          "data": {
            "image/png": "[encoded data removed]",
            "text/plain": [
              "<Figure size 1800x360 with 2 Axes>"
            ]
          },
          "metadata": {
            "tags": [],
            "needs_background": "light"
          }
        }
      ]
    },
    {
      "cell_type": "code",
      "metadata": {
        "id": "fpd67Lr929sO",
        "colab": {
          "base_uri": "https://localhost:8080/",
          "height": 233
        },
        "outputId": "98293382-d85e-4cfa-edd6-2112ffaca9b4"
      },
      "source": [
        "# Verificar missing por linha\n",
        "\n",
        "percent_missing_rows = x_train.apply(lambda x: x.isnull().sum() * 100 / len(x_train), axis=1).sort_values(ascending=False)\n",
        "df = pd.DataFrame({'row_index': x_train.index, 'percent_missing': percent_missing_rows})\n",
        "df.head()"
      ],
      "execution_count": 110,
      "outputs": [
        {
          "output_type": "execute_result",
          "data": {
            "text/html": [
              "<div>\n",
              "<style scoped>\n",
              "    .dataframe tbody tr th:only-of-type {\n",
              "        vertical-align: middle;\n",
              "    }\n",
              "\n",
              "    .dataframe tbody tr th {\n",
              "        vertical-align: top;\n",
              "    }\n",
              "\n",
              "    .dataframe thead th {\n",
              "        text-align: right;\n",
              "    }\n",
              "</style>\n",
              "<table border=\"1\" class=\"dataframe\">\n",
              "  <thead>\n",
              "    <tr style=\"text-align: right;\">\n",
              "      <th></th>\n",
              "      <th>row_index</th>\n",
              "      <th>percent_missing</th>\n",
              "    </tr>\n",
              "    <tr>\n",
              "      <th>id</th>\n",
              "      <th></th>\n",
              "      <th></th>\n",
              "    </tr>\n",
              "  </thead>\n",
              "  <tbody>\n",
              "    <tr>\n",
              "      <th>334394</th>\n",
              "      <td>335332</td>\n",
              "      <td>0.053241</td>\n",
              "    </tr>\n",
              "    <tr>\n",
              "      <th>330080</th>\n",
              "      <td>330313</td>\n",
              "      <td>0.053241</td>\n",
              "    </tr>\n",
              "    <tr>\n",
              "      <th>329970</th>\n",
              "      <td>327898</td>\n",
              "      <td>0.053241</td>\n",
              "    </tr>\n",
              "    <tr>\n",
              "      <th>333600</th>\n",
              "      <td>343828</td>\n",
              "      <td>0.053241</td>\n",
              "    </tr>\n",
              "    <tr>\n",
              "      <th>330040</th>\n",
              "      <td>326740</td>\n",
              "      <td>0.053241</td>\n",
              "    </tr>\n",
              "  </tbody>\n",
              "</table>\n",
              "</div>"
            ],
            "text/plain": [
              "        row_index  percent_missing\n",
              "id                                \n",
              "334394     335332         0.053241\n",
              "330080     330313         0.053241\n",
              "329970     327898         0.053241\n",
              "333600     343828         0.053241\n",
              "330040     326740         0.053241"
            ]
          },
          "metadata": {
            "tags": []
          },
          "execution_count": 110
        }
      ]
    },
    {
      "cell_type": "code",
      "metadata": {
        "id": "LsxP72-N3CIm",
        "colab": {
          "base_uri": "https://localhost:8080/",
          "height": 815
        },
        "outputId": "357de0f8-74f2-470c-a583-87af0282308b"
      },
      "source": [
        "# Verificar missing por coluna\n",
        "\n",
        "percent_missing = x_train.apply(lambda x: x.isnull().sum() * 100 / len(x_train), axis=0).sort_values(ascending=False)\n",
        "df = pd.DataFrame({'column_name': x_train.columns, 'percent_missing': percent_missing})\n",
        "df.head(35)\n",
        "\n",
        "# Entender porque os nomes das colunas aparecem duas vezes e de forma divergente"
      ],
      "execution_count": 111,
      "outputs": [
        {
          "output_type": "execute_result",
          "data": {
            "text/html": [
              "<div>\n",
              "<style scoped>\n",
              "    .dataframe tbody tr th:only-of-type {\n",
              "        vertical-align: middle;\n",
              "    }\n",
              "\n",
              "    .dataframe tbody tr th {\n",
              "        vertical-align: top;\n",
              "    }\n",
              "\n",
              "    .dataframe thead th {\n",
              "        text-align: right;\n",
              "    }\n",
              "</style>\n",
              "<table border=\"1\" class=\"dataframe\">\n",
              "  <thead>\n",
              "    <tr style=\"text-align: right;\">\n",
              "      <th></th>\n",
              "      <th>column_name</th>\n",
              "      <th>percent_missing</th>\n",
              "    </tr>\n",
              "  </thead>\n",
              "  <tbody>\n",
              "    <tr>\n",
              "      <th>organization_id</th>\n",
              "      <td>brand_id</td>\n",
              "      <td>4.112871</td>\n",
              "    </tr>\n",
              "    <tr>\n",
              "      <th>has_partner</th>\n",
              "      <td>submitter_id</td>\n",
              "      <td>4.112871</td>\n",
              "    </tr>\n",
              "    <tr>\n",
              "      <th>has_success_manager</th>\n",
              "      <td>group_id</td>\n",
              "      <td>4.112871</td>\n",
              "    </tr>\n",
              "    <tr>\n",
              "      <th>is_operating</th>\n",
              "      <td>organization_id</td>\n",
              "      <td>1.850126</td>\n",
              "    </tr>\n",
              "    <tr>\n",
              "      <th>is_business_hours</th>\n",
              "      <td>has_partner</td>\n",
              "      <td>0.000000</td>\n",
              "    </tr>\n",
              "    <tr>\n",
              "      <th>type_question</th>\n",
              "      <td>has_success_manager</td>\n",
              "      <td>0.000000</td>\n",
              "    </tr>\n",
              "    <tr>\n",
              "      <th>submitter_id</th>\n",
              "      <td>requester_id</td>\n",
              "      <td>0.000000</td>\n",
              "    </tr>\n",
              "    <tr>\n",
              "      <th>group_id</th>\n",
              "      <td>is_operating</td>\n",
              "      <td>0.000000</td>\n",
              "    </tr>\n",
              "    <tr>\n",
              "      <th>requester_id</th>\n",
              "      <td>weekday</td>\n",
              "      <td>0.000000</td>\n",
              "    </tr>\n",
              "    <tr>\n",
              "      <th>weekday</th>\n",
              "      <td>type_incident</td>\n",
              "      <td>0.000000</td>\n",
              "    </tr>\n",
              "    <tr>\n",
              "      <th>type_incident</th>\n",
              "      <td>type_problem</td>\n",
              "      <td>0.000000</td>\n",
              "    </tr>\n",
              "    <tr>\n",
              "      <th>type_problem</th>\n",
              "      <td>type_question</td>\n",
              "      <td>0.000000</td>\n",
              "    </tr>\n",
              "    <tr>\n",
              "      <th>type_task</th>\n",
              "      <td>type_task</td>\n",
              "      <td>0.000000</td>\n",
              "    </tr>\n",
              "    <tr>\n",
              "      <th>requester_platform-skills-intermediate</th>\n",
              "      <td>priority_low</td>\n",
              "      <td>0.000000</td>\n",
              "    </tr>\n",
              "    <tr>\n",
              "      <th>priority_low</th>\n",
              "      <td>priority_normal</td>\n",
              "      <td>0.000000</td>\n",
              "    </tr>\n",
              "    <tr>\n",
              "      <th>priority_normal</th>\n",
              "      <td>priority_urgent</td>\n",
              "      <td>0.000000</td>\n",
              "    </tr>\n",
              "    <tr>\n",
              "      <th>priority_urgent</th>\n",
              "      <td>requester_equal_submitter</td>\n",
              "      <td>0.000000</td>\n",
              "    </tr>\n",
              "    <tr>\n",
              "      <th>requester_equal_submitter</th>\n",
              "      <td>requester_duration_days</td>\n",
              "      <td>0.000000</td>\n",
              "    </tr>\n",
              "    <tr>\n",
              "      <th>requester_duration_days</th>\n",
              "      <td>requester_nps-detractor</td>\n",
              "      <td>0.000000</td>\n",
              "    </tr>\n",
              "    <tr>\n",
              "      <th>requester_nps-detractor</th>\n",
              "      <td>requester_nps-passive</td>\n",
              "      <td>0.000000</td>\n",
              "    </tr>\n",
              "    <tr>\n",
              "      <th>requester_nps-passive</th>\n",
              "      <td>requester_nps-promoter</td>\n",
              "      <td>0.000000</td>\n",
              "    </tr>\n",
              "    <tr>\n",
              "      <th>requester_nps-promoter</th>\n",
              "      <td>requester_platform-skills-advanced</td>\n",
              "      <td>0.000000</td>\n",
              "    </tr>\n",
              "    <tr>\n",
              "      <th>requester_platform-skills-advanced</th>\n",
              "      <td>requester_platform-skills-beginner</td>\n",
              "      <td>0.000000</td>\n",
              "    </tr>\n",
              "    <tr>\n",
              "      <th>requester_platform-skills-beginner</th>\n",
              "      <td>requester_platform-skills-intermediate</td>\n",
              "      <td>0.000000</td>\n",
              "    </tr>\n",
              "    <tr>\n",
              "      <th>brand_id</th>\n",
              "      <td>is_business_hours</td>\n",
              "      <td>0.000000</td>\n",
              "    </tr>\n",
              "  </tbody>\n",
              "</table>\n",
              "</div>"
            ],
            "text/plain": [
              "                                                                   column_name  percent_missing\n",
              "organization_id                                                       brand_id         4.112871\n",
              "has_partner                                                       submitter_id         4.112871\n",
              "has_success_manager                                                   group_id         4.112871\n",
              "is_operating                                                   organization_id         1.850126\n",
              "is_business_hours                                                  has_partner         0.000000\n",
              "type_question                                              has_success_manager         0.000000\n",
              "submitter_id                                                      requester_id         0.000000\n",
              "group_id                                                          is_operating         0.000000\n",
              "requester_id                                                           weekday         0.000000\n",
              "weekday                                                          type_incident         0.000000\n",
              "type_incident                                                     type_problem         0.000000\n",
              "type_problem                                                     type_question         0.000000\n",
              "type_task                                                            type_task         0.000000\n",
              "requester_platform-skills-intermediate                            priority_low         0.000000\n",
              "priority_low                                                   priority_normal         0.000000\n",
              "priority_normal                                                priority_urgent         0.000000\n",
              "priority_urgent                                      requester_equal_submitter         0.000000\n",
              "requester_equal_submitter                              requester_duration_days         0.000000\n",
              "requester_duration_days                                requester_nps-detractor         0.000000\n",
              "requester_nps-detractor                                  requester_nps-passive         0.000000\n",
              "requester_nps-passive                                   requester_nps-promoter         0.000000\n",
              "requester_nps-promoter                      requester_platform-skills-advanced         0.000000\n",
              "requester_platform-skills-advanced          requester_platform-skills-beginner         0.000000\n",
              "requester_platform-skills-beginner      requester_platform-skills-intermediate         0.000000\n",
              "brand_id                                                     is_business_hours         0.000000"
            ]
          },
          "metadata": {
            "tags": []
          },
          "execution_count": 111
        }
      ]
    },
    {
      "cell_type": "code",
      "metadata": {
        "id": "20WLDpnj3GDu",
        "colab": {
          "base_uri": "https://localhost:8080/"
        },
        "outputId": "77b0f656-242a-4a1e-eb6a-b5d8f02156b8"
      },
      "source": [
        "# Classe tem missing?\n",
        "\n",
        "y_train.isnull().sum()"
      ],
      "execution_count": 112,
      "outputs": [
        {
          "output_type": "execute_result",
          "data": {
            "text/plain": [
              "0"
            ]
          },
          "metadata": {
            "tags": []
          },
          "execution_count": 112
        }
      ]
    },
    {
      "cell_type": "code",
      "metadata": {
        "id": "noBYW-pD3Jpo",
        "colab": {
          "base_uri": "https://localhost:8080/"
        },
        "outputId": "3f5a2492-2735-4b82-8900-56991b95af87"
      },
      "source": [
        "# Atributos com muitos missing serão deletados\n",
        "\n",
        "att_to_delete = df[0:3].index.values\n",
        "att_to_delete"
      ],
      "execution_count": 116,
      "outputs": [
        {
          "output_type": "execute_result",
          "data": {
            "text/plain": [
              "array(['organization_id', 'has_partner', 'has_success_manager'],\n",
              "      dtype=object)"
            ]
          },
          "metadata": {
            "tags": []
          },
          "execution_count": 116
        }
      ]
    },
    {
      "cell_type": "code",
      "metadata": {
        "id": "V4NTbF6m3Mp0"
      },
      "source": [
        "# Deletar atributos\n",
        "\n",
        "# x_train.drop(att_to_delete, axis=1, inplace=True)\n",
        "# x_train.shape\n",
        "\n",
        "# OBS: Atributos com maiores porcentagens de missing value é de 4% apenas"
      ],
      "execution_count": null,
      "outputs": []
    },
    {
      "cell_type": "code",
      "metadata": {
        "id": "0Cr6Lw2m3PeZ"
      },
      "source": [
        "# Visualizar novamente os missing\n",
        "\n",
        "msno.matrix(x_train, figsize=(25,5));"
      ],
      "execution_count": null,
      "outputs": []
    },
    {
      "cell_type": "code",
      "metadata": {
        "id": "OLOyUf9s3S2z"
      },
      "source": [
        "x_train.head()"
      ],
      "execution_count": null,
      "outputs": []
    },
    {
      "cell_type": "code",
      "metadata": {
        "id": "14P8hVi_3lwN"
      },
      "source": [
        "# Imputar dados faltantes\n",
        "from sklearn.impute import SimpleImputer\n",
        "imputer = SimpleImputer(strategy=\"median\")\n",
        "imputer.fit(x_train)\n",
        "x_train = imputer.transform(x_train)"
      ],
      "execution_count": 117,
      "outputs": []
    },
    {
      "cell_type": "code",
      "metadata": {
        "colab": {
          "base_uri": "https://localhost:8080/"
        },
        "id": "JFODDJG0nlaW",
        "outputId": "2e68daf2-6585-4874-d0fc-cfb509f9a50e"
      },
      "source": [
        "# Verificar se temos mais algum missing\n",
        "print(np.isnan(x_train).sum())"
      ],
      "execution_count": 118,
      "outputs": [
        {
          "output_type": "stream",
          "text": [
            "0\n"
          ],
          "name": "stdout"
        }
      ]
    },
    {
      "cell_type": "code",
      "metadata": {
        "colab": {
          "base_uri": "https://localhost:8080/",
          "height": 273
        },
        "id": "vITb3JmJnpT9",
        "outputId": "084a8afb-d7d3-49b2-dcaa-622e08820d1a"
      },
      "source": [
        "# visualizar novamente os missing\n",
        "msno.matrix(pd.DataFrame(x_train), figsize=(25,5));"
      ],
      "execution_count": 124,
      "outputs": [
        {
          "output_type": "display_data",
          "data": {
            "image/png": "[encoded data removed]",
            "text/plain": [
              "<Figure size 1800x360 with 2 Axes>"
            ]
          },
          "metadata": {
            "tags": [],
            "needs_background": "light"
          }
        }
      ]
    },
    {
      "cell_type": "code",
      "metadata": {
        "id": "Wu37M5C9oB2z"
      },
      "source": [
        "# remover colunas com variância zero\n",
        "from sklearn.feature_selection import VarianceThreshold\n",
        "zero_var_filter = VarianceThreshold()\n",
        "x_train = zero_var_filter.fit_transform(x_train)"
      ],
      "execution_count": 125,
      "outputs": []
    },
    {
      "cell_type": "code",
      "metadata": {
        "colab": {
          "base_uri": "https://localhost:8080/"
        },
        "id": "eeGp8EnYoSzg",
        "outputId": "5508b574-0422-4b6a-c833-31062d6b1783"
      },
      "source": [
        "# colunas com variância zero\n",
        "(zero_var_filter.variances_ == 0).sum()"
      ],
      "execution_count": 126,
      "outputs": [
        {
          "output_type": "execute_result",
          "data": {
            "text/plain": [
              "1"
            ]
          },
          "metadata": {
            "tags": []
          },
          "execution_count": 126
        }
      ]
    },
    {
      "cell_type": "code",
      "metadata": {
        "colab": {
          "base_uri": "https://localhost:8080/"
        },
        "id": "33yQTyDHoWx4",
        "outputId": "912a3abb-71c0-4674-a450-02f6d4932eeb"
      },
      "source": [
        "# novo shape\n",
        "pd.DataFrame(x_train).shape"
      ],
      "execution_count": 128,
      "outputs": [
        {
          "output_type": "execute_result",
          "data": {
            "text/plain": [
              "(7513, 24)"
            ]
          },
          "metadata": {
            "tags": []
          },
          "execution_count": 128
        }
      ]
    },
    {
      "cell_type": "markdown",
      "metadata": {
        "id": "ED2P53D8opeR"
      },
      "source": [
        "# Árvore de Decisão"
      ]
    },
    {
      "cell_type": "code",
      "metadata": {
        "id": "_DC8ZR62oZGV"
      },
      "source": [
        "# treinar modelo\n",
        "from sklearn.tree import DecisionTreeClassifier\n",
        "\n",
        "def train(x_train, y_train, seed):\n",
        "  model = DecisionTreeClassifier(min_samples_leaf=5, random_state=seed) # tente mudar parâmetro para evitar overfitting\n",
        "  model.fit(x_train, y_train);\n",
        "  return model\n",
        "\n",
        "model = train(x_train, y_train, seed)"
      ],
      "execution_count": 129,
      "outputs": []
    },
    {
      "cell_type": "code",
      "metadata": {
        "colab": {
          "base_uri": "https://localhost:8080/",
          "height": 575
        },
        "id": "0gEseGY6oy-l",
        "outputId": "7624323d-54a5-472a-8690-5d579e110d24"
      },
      "source": [
        "# Visualização gráfica da árvore de decisão\n",
        "from sklearn import tree\n",
        "fig, ax = plt.subplots(figsize=(20, 10)) # Definir tamanho da imagem a ser gerada\n",
        "tree.plot_tree(model, class_names=['High', 'Very High', 'Moderate', 'Low'], filled=True, rounded=True); # plota a árvore"
      ],
      "execution_count": 130,
      "outputs": [
        {
          "output_type": "display_data",
          "data": {
            "image/png": "[encoded data removed]",
            "text/plain": [
              "<Figure size 1440x720 with 1 Axes>"
            ]
          },
          "metadata": {
            "tags": [],
            "needs_background": "light"
          }
        }
      ]
    },
    {
      "cell_type": "code",
      "metadata": {
        "colab": {
          "base_uri": "https://localhost:8080/",
          "height": 346
        },
        "id": "IDi1JzvrpQ6A",
        "outputId": "6c161f64-26cb-4f71-ef46-39575d885cd1"
      },
      "source": [
        "def predict_and_evaluate(x_test, y_test):\n",
        "\n",
        "  y_pred = model.predict(x_test) #inferência do teste\n",
        "\n",
        "  # Acurácia\n",
        "  from sklearn.metrics import accuracy_score\n",
        "  accuracy = accuracy_score(y_test, y_pred)\n",
        "  print('Acurácia: ', accuracy)\n",
        "\n",
        "  # Kappa\n",
        "  from sklearn.metrics import cohen_kappa_score\n",
        "  kappa = cohen_kappa_score(y_test, y_pred)\n",
        "  print('Kappa: ', kappa)\n",
        "\n",
        "  # F1\n",
        "  from sklearn.metrics import f1_score\n",
        "  f1 = f1_score(y_test, y_pred)\n",
        "  print('F1: ', f1)\n",
        "\n",
        "  # Matriz de confusão\n",
        "  from sklearn.metrics import confusion_matrix\n",
        "  confMatrix = confusion_matrix(y_pred, y_test)\n",
        "\n",
        "  ax = plt.subplot()\n",
        "  sns.heatmap(confMatrix, annot=True, fmt=\".0f\")\n",
        "  plt.xlabel('Real')\n",
        "  plt.ylabel('Previsto')\n",
        "  plt.title('Matriz de Confusão')\n",
        "\n",
        "  # Colocar os nomes\n",
        "  ax.xaxis.set_ticklabels(['High', 'Very High', 'Moderate', 'Low']) \n",
        "  ax.yaxis.set_ticklabels(['High', 'Very High', 'Moderate', 'Low'])\n",
        "  plt.show()\n",
        "\n",
        "predict_and_evaluate(x_test, y_test)"
      ],
      "execution_count": 131,
      "outputs": [
        {
          "output_type": "error",
          "ename": "ValueError",
          "evalue": "ignored",
          "traceback": [
            "\u001b[0;31m---------------------------------------------------------------------------\u001b[0m",
            "\u001b[0;31mValueError\u001b[0m                                Traceback (most recent call last)",
            "\u001b[0;32m<ipython-input-131-42cac5f755bc>\u001b[0m in \u001b[0;36m<module>\u001b[0;34m()\u001b[0m\n\u001b[1;32m     33\u001b[0m   \u001b[0mplt\u001b[0m\u001b[0;34m.\u001b[0m\u001b[0mshow\u001b[0m\u001b[0;34m(\u001b[0m\u001b[0;34m)\u001b[0m\u001b[0;34m\u001b[0m\u001b[0;34m\u001b[0m\u001b[0m\n\u001b[1;32m     34\u001b[0m \u001b[0;34m\u001b[0m\u001b[0m\n\u001b[0;32m---> 35\u001b[0;31m \u001b[0mpredict_and_evaluate\u001b[0m\u001b[0;34m(\u001b[0m\u001b[0mx_test\u001b[0m\u001b[0;34m,\u001b[0m \u001b[0my_test\u001b[0m\u001b[0;34m)\u001b[0m\u001b[0;34m\u001b[0m\u001b[0;34m\u001b[0m\u001b[0m\n\u001b[0m",
            "\u001b[0;32m<ipython-input-131-42cac5f755bc>\u001b[0m in \u001b[0;36mpredict_and_evaluate\u001b[0;34m(x_test, y_test)\u001b[0m\n\u001b[1;32m      1\u001b[0m \u001b[0;32mdef\u001b[0m \u001b[0mpredict_and_evaluate\u001b[0m\u001b[0;34m(\u001b[0m\u001b[0mx_test\u001b[0m\u001b[0;34m,\u001b[0m \u001b[0my_test\u001b[0m\u001b[0;34m)\u001b[0m\u001b[0;34m:\u001b[0m\u001b[0;34m\u001b[0m\u001b[0;34m\u001b[0m\u001b[0m\n\u001b[1;32m      2\u001b[0m \u001b[0;34m\u001b[0m\u001b[0m\n\u001b[0;32m----> 3\u001b[0;31m   \u001b[0my_pred\u001b[0m \u001b[0;34m=\u001b[0m \u001b[0mmodel\u001b[0m\u001b[0;34m.\u001b[0m\u001b[0mpredict\u001b[0m\u001b[0;34m(\u001b[0m\u001b[0mx_test\u001b[0m\u001b[0;34m)\u001b[0m \u001b[0;31m#inferência do teste\u001b[0m\u001b[0;34m\u001b[0m\u001b[0;34m\u001b[0m\u001b[0m\n\u001b[0m\u001b[1;32m      4\u001b[0m \u001b[0;34m\u001b[0m\u001b[0m\n\u001b[1;32m      5\u001b[0m   \u001b[0;31m# Acurácia\u001b[0m\u001b[0;34m\u001b[0m\u001b[0;34m\u001b[0m\u001b[0;34m\u001b[0m\u001b[0m\n",
            "\u001b[0;32m/usr/local/lib/python3.7/dist-packages/sklearn/tree/_classes.py\u001b[0m in \u001b[0;36mpredict\u001b[0;34m(self, X, check_input)\u001b[0m\n\u001b[1;32m    417\u001b[0m         \"\"\"\n\u001b[1;32m    418\u001b[0m         \u001b[0mcheck_is_fitted\u001b[0m\u001b[0;34m(\u001b[0m\u001b[0mself\u001b[0m\u001b[0;34m)\u001b[0m\u001b[0;34m\u001b[0m\u001b[0;34m\u001b[0m\u001b[0m\n\u001b[0;32m--> 419\u001b[0;31m         \u001b[0mX\u001b[0m \u001b[0;34m=\u001b[0m \u001b[0mself\u001b[0m\u001b[0;34m.\u001b[0m\u001b[0m_validate_X_predict\u001b[0m\u001b[0;34m(\u001b[0m\u001b[0mX\u001b[0m\u001b[0;34m,\u001b[0m \u001b[0mcheck_input\u001b[0m\u001b[0;34m)\u001b[0m\u001b[0;34m\u001b[0m\u001b[0;34m\u001b[0m\u001b[0m\n\u001b[0m\u001b[1;32m    420\u001b[0m         \u001b[0mproba\u001b[0m \u001b[0;34m=\u001b[0m \u001b[0mself\u001b[0m\u001b[0;34m.\u001b[0m\u001b[0mtree_\u001b[0m\u001b[0;34m.\u001b[0m\u001b[0mpredict\u001b[0m\u001b[0;34m(\u001b[0m\u001b[0mX\u001b[0m\u001b[0;34m)\u001b[0m\u001b[0;34m\u001b[0m\u001b[0;34m\u001b[0m\u001b[0m\n\u001b[1;32m    421\u001b[0m         \u001b[0mn_samples\u001b[0m \u001b[0;34m=\u001b[0m \u001b[0mX\u001b[0m\u001b[0;34m.\u001b[0m\u001b[0mshape\u001b[0m\u001b[0;34m[\u001b[0m\u001b[0;36m0\u001b[0m\u001b[0;34m]\u001b[0m\u001b[0;34m\u001b[0m\u001b[0;34m\u001b[0m\u001b[0m\n",
            "\u001b[0;32m/usr/local/lib/python3.7/dist-packages/sklearn/tree/_classes.py\u001b[0m in \u001b[0;36m_validate_X_predict\u001b[0;34m(self, X, check_input)\u001b[0m\n\u001b[1;32m    378\u001b[0m         \u001b[0;34m\"\"\"Validate X whenever one tries to predict, apply, predict_proba\"\"\"\u001b[0m\u001b[0;34m\u001b[0m\u001b[0;34m\u001b[0m\u001b[0m\n\u001b[1;32m    379\u001b[0m         \u001b[0;32mif\u001b[0m \u001b[0mcheck_input\u001b[0m\u001b[0;34m:\u001b[0m\u001b[0;34m\u001b[0m\u001b[0;34m\u001b[0m\u001b[0m\n\u001b[0;32m--> 380\u001b[0;31m             \u001b[0mX\u001b[0m \u001b[0;34m=\u001b[0m \u001b[0mcheck_array\u001b[0m\u001b[0;34m(\u001b[0m\u001b[0mX\u001b[0m\u001b[0;34m,\u001b[0m \u001b[0mdtype\u001b[0m\u001b[0;34m=\u001b[0m\u001b[0mDTYPE\u001b[0m\u001b[0;34m,\u001b[0m \u001b[0maccept_sparse\u001b[0m\u001b[0;34m=\u001b[0m\u001b[0;34m\"csr\"\u001b[0m\u001b[0;34m)\u001b[0m\u001b[0;34m\u001b[0m\u001b[0;34m\u001b[0m\u001b[0m\n\u001b[0m\u001b[1;32m    381\u001b[0m             if issparse(X) and (X.indices.dtype != np.intc or\n\u001b[1;32m    382\u001b[0m                                 X.indptr.dtype != np.intc):\n",
            "\u001b[0;32m/usr/local/lib/python3.7/dist-packages/sklearn/utils/validation.py\u001b[0m in \u001b[0;36mcheck_array\u001b[0;34m(array, accept_sparse, accept_large_sparse, dtype, order, copy, force_all_finite, ensure_2d, allow_nd, ensure_min_samples, ensure_min_features, warn_on_dtype, estimator)\u001b[0m\n\u001b[1;32m    576\u001b[0m         \u001b[0;32mif\u001b[0m \u001b[0mforce_all_finite\u001b[0m\u001b[0;34m:\u001b[0m\u001b[0;34m\u001b[0m\u001b[0;34m\u001b[0m\u001b[0m\n\u001b[1;32m    577\u001b[0m             _assert_all_finite(array,\n\u001b[0;32m--> 578\u001b[0;31m                                allow_nan=force_all_finite == 'allow-nan')\n\u001b[0m\u001b[1;32m    579\u001b[0m \u001b[0;34m\u001b[0m\u001b[0m\n\u001b[1;32m    580\u001b[0m     \u001b[0;32mif\u001b[0m \u001b[0mensure_min_samples\u001b[0m \u001b[0;34m>\u001b[0m \u001b[0;36m0\u001b[0m\u001b[0;34m:\u001b[0m\u001b[0;34m\u001b[0m\u001b[0;34m\u001b[0m\u001b[0m\n",
            "\u001b[0;32m/usr/local/lib/python3.7/dist-packages/sklearn/utils/validation.py\u001b[0m in \u001b[0;36m_assert_all_finite\u001b[0;34m(X, allow_nan, msg_dtype)\u001b[0m\n\u001b[1;32m     58\u001b[0m                     \u001b[0mmsg_err\u001b[0m\u001b[0;34m.\u001b[0m\u001b[0mformat\u001b[0m\u001b[0;34m\u001b[0m\u001b[0;34m\u001b[0m\u001b[0m\n\u001b[1;32m     59\u001b[0m                     (type_err,\n\u001b[0;32m---> 60\u001b[0;31m                      msg_dtype if msg_dtype is not None else X.dtype)\n\u001b[0m\u001b[1;32m     61\u001b[0m             )\n\u001b[1;32m     62\u001b[0m     \u001b[0;31m# for object dtype data, we only check for NaNs (GH-13254)\u001b[0m\u001b[0;34m\u001b[0m\u001b[0;34m\u001b[0m\u001b[0;34m\u001b[0m\u001b[0m\n",
            "\u001b[0;31mValueError\u001b[0m: Input contains NaN, infinity or a value too large for dtype('float32')."
          ]
        }
      ]
    },
    {
      "cell_type": "code",
      "metadata": {
        "colab": {
          "base_uri": "https://localhost:8080/"
        },
        "id": "FnydtC7xsqCb",
        "outputId": "4782adc6-0ccb-43c2-ad4a-9b19c2e80bd4"
      },
      "source": [
        "np.where(np.isnan(x_test))"
      ],
      "execution_count": 135,
      "outputs": [
        {
          "output_type": "execute_result",
          "data": {
            "text/plain": [
              "(array([  13,   13,   13,   46,   46,   46,   61,   61,   61,   87,   87,\n",
              "          87,   92,  115,  117,  128,  138,  138,  138,  142,  142,  142,\n",
              "         155,  208,  216,  216,  216,  219,  219,  219,  251,  251,  251,\n",
              "         277,  277,  277,  289,  290,  290,  290,  312,  312,  312,  313,\n",
              "         313,  313,  316,  316,  316,  356,  356,  356,  370,  370,  370,\n",
              "         385,  385,  385,  391,  391,  391,  406,  406,  406,  421,  421,\n",
              "         421,  435,  435,  435,  435,  437,  437,  437,  482,  482,  482,\n",
              "         491,  499,  499,  499,  514,  539,  539,  539,  542,  542,  542,\n",
              "         547,  547,  547,  548,  556,  556,  556,  620,  620,  620,  621,\n",
              "         621,  621,  640,  647,  647,  647,  672,  672,  672,  720,  738,\n",
              "         780,  811,  811,  811,  879,  879,  879,  880,  880,  880,  915,\n",
              "         915,  915,  915,  918,  918,  918,  919,  936,  940,  940,  940,\n",
              "         943,  943,  943,  955,  972,  972,  972,  976, 1014, 1015, 1020,\n",
              "        1020, 1020, 1023, 1023, 1023, 1030, 1041, 1050, 1050, 1050, 1065,\n",
              "        1072, 1072, 1072, 1113, 1113, 1113, 1141, 1141, 1141, 1169, 1169,\n",
              "        1169, 1212, 1212, 1212, 1219, 1219, 1219, 1233, 1233, 1233, 1264,\n",
              "        1264, 1264, 1296, 1296, 1296, 1323, 1348, 1348, 1348, 1350, 1350,\n",
              "        1350, 1364, 1364, 1364, 1394, 1394, 1394, 1400, 1400, 1400, 1425,\n",
              "        1447, 1447, 1447, 1453, 1453, 1453, 1491, 1491, 1491, 1531, 1531,\n",
              "        1531, 1534, 1534, 1534, 1570, 1570, 1570, 1571, 1571, 1571, 1605,\n",
              "        1617, 1617, 1617, 1633, 1633, 1633, 1648, 1648, 1648, 1681, 1681,\n",
              "        1681, 1692, 1692, 1692, 1705, 1733, 1733, 1733, 1745, 1745, 1745,\n",
              "        1750, 1750, 1750, 1756, 1759, 1759, 1759, 1775, 1775, 1775, 1785,\n",
              "        1785, 1785, 1787, 1787, 1787, 1802, 1802, 1802, 1816, 1816, 1816,\n",
              "        1828, 1843, 1843, 1843, 1875, 1875, 1875]),\n",
              " array([3, 4, 5, 3, 4, 5, 3, 4, 5, 3, 4, 5, 7, 7, 7, 7, 3, 4, 5, 3, 4, 5,\n",
              "        7, 7, 3, 4, 5, 3, 4, 5, 3, 4, 5, 3, 4, 5, 7, 3, 4, 5, 3, 4, 5, 3,\n",
              "        4, 5, 3, 4, 5, 3, 4, 5, 3, 4, 5, 3, 4, 5, 3, 4, 5, 3, 4, 5, 3, 4,\n",
              "        5, 3, 4, 5, 7, 3, 4, 5, 3, 4, 5, 7, 3, 4, 5, 7, 3, 4, 5, 3, 4, 5,\n",
              "        3, 4, 5, 7, 3, 4, 5, 3, 4, 5, 3, 4, 5, 7, 3, 4, 5, 3, 4, 5, 7, 7,\n",
              "        7, 3, 4, 5, 3, 4, 5, 3, 4, 5, 3, 4, 5, 7, 3, 4, 5, 7, 7, 3, 4, 5,\n",
              "        3, 4, 5, 7, 3, 4, 5, 7, 7, 7, 3, 4, 5, 3, 4, 5, 7, 7, 3, 4, 5, 7,\n",
              "        3, 4, 5, 3, 4, 5, 3, 4, 5, 3, 4, 5, 3, 4, 5, 3, 4, 5, 3, 4, 5, 3,\n",
              "        4, 5, 3, 4, 5, 7, 3, 4, 5, 3, 4, 5, 3, 4, 5, 3, 4, 5, 3, 4, 5, 7,\n",
              "        3, 4, 5, 3, 4, 5, 3, 4, 5, 3, 4, 5, 3, 4, 5, 3, 4, 5, 3, 4, 5, 7,\n",
              "        3, 4, 5, 3, 4, 5, 3, 4, 5, 3, 4, 5, 3, 4, 5, 7, 3, 4, 5, 3, 4, 5,\n",
              "        3, 4, 5, 7, 3, 4, 5, 3, 4, 5, 3, 4, 5, 3, 4, 5, 3, 4, 5, 3, 4, 5,\n",
              "        7, 3, 4, 5, 3, 4, 5]))"
            ]
          },
          "metadata": {
            "tags": []
          },
          "execution_count": 135
        }
      ]
    },
    {
      "cell_type": "code",
      "metadata": {
        "id": "iDBZI0v_tUv8"
      },
      "source": [
        ""
      ],
      "execution_count": null,
      "outputs": []
    }
  ]
}