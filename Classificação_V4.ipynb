{
  "nbformat": 4,
  "nbformat_minor": 0,
  "metadata": {
    "colab": {
      "name": "Classificação_V4.ipynb",
      "provenance": [],
      "collapsed_sections": [],
      "include_colab_link": true
    },
    "kernelspec": {
      "name": "python3",
      "display_name": "Python 3"
    }
  },
  "cells": [
    {
      "cell_type": "markdown",
      "metadata": {
        "id": "view-in-github",
        "colab_type": "text"
      },
      "source": [
        "<a href=\"https://colab.research.google.com/github/let-aranha/ttc-bi-master/blob/main/Classifica%C3%A7%C3%A3o_V4.ipynb\" target=\"_parent\"><img src=\"https://colab.research.google.com/assets/colab-badge.svg\" alt=\"Open In Colab\"/></a>"
      ]
    },
    {
      "cell_type": "code",
      "metadata": {
        "id": "DFRb3MR-gA4n",
        "colab": {
          "base_uri": "https://localhost:8080/"
        },
        "outputId": "6f626227-ef21-4605-a6e3-529ecbdd1022"
      },
      "source": [
        "from google.colab import drive\n",
        "drive.mount('/content/drive')\n",
        "import os\n",
        "workdir_path = '/content/drive/My Drive/TCC/Data'\n",
        "os.chdir(workdir_path)"
      ],
      "execution_count": 1,
      "outputs": [
        {
          "output_type": "stream",
          "text": [
            "Mounted at /content/drive\n"
          ],
          "name": "stdout"
        }
      ]
    },
    {
      "cell_type": "code",
      "metadata": {
        "id": "0owC8eL-pd1l"
      },
      "source": [
        "#Importando bibliotecas\n",
        "\n",
        "# Lib JSON\n",
        "import json \n",
        "import pandas as pd\n",
        "import numpy as np\n",
        "\n",
        "# Lib dados em formato data\n",
        "from datetime import datetime\n",
        "\n",
        "# Lib para criação e gráficos\n",
        "import random\n",
        "import matplotlib.pyplot as plt\n",
        "import seaborn as sns\n",
        "%matplotlib inline\n",
        "\n",
        "# Lib para divisão base treino e teste\n",
        "from sklearn.model_selection import train_test_split\n",
        "\n",
        "# Lib para visualização de missing values\n",
        "import missingno as msno\n"
      ],
      "execution_count": 2,
      "outputs": []
    },
    {
      "cell_type": "code",
      "metadata": {
        "id": "YOcSoXLKt-Us"
      },
      "source": [
        "# Importando json file direto para o notebook\n",
        "\n",
        "# import json \n",
        "# import pandas as pd\n",
        "# import numpy as np\n",
        "\n",
        "# Opening JSON file \n",
        "f = open('tickets_anonymized_Rev2.json', encoding='utf-8') \n",
        "\n",
        "# returns JSON object as \n",
        "# a dictionary \n",
        "data = json.load(f) \n",
        "\n",
        "# Iterating through the json \n",
        "# list \n",
        "# for i in data: \n",
        "# \tprint(i) \n",
        "\n",
        "# Closing file \n",
        "f.close() "
      ],
      "execution_count": 3,
      "outputs": []
    },
    {
      "cell_type": "code",
      "metadata": {
        "colab": {
          "base_uri": "https://localhost:8080/",
          "height": 309
        },
        "id": "v11fBYnUumev",
        "outputId": "e51adab3-e4e0-4796-9d57-4f986d192106"
      },
      "source": [
        "# Convertendo dados em DataFrame\n",
        "\n",
        "tickets = pd.DataFrame(data)\n",
        "tickets.head()"
      ],
      "execution_count": 4,
      "outputs": [
        {
          "output_type": "execute_result",
          "data": {
            "text/html": [
              "<div>\n",
              "<style scoped>\n",
              "    .dataframe tbody tr th:only-of-type {\n",
              "        vertical-align: middle;\n",
              "    }\n",
              "\n",
              "    .dataframe tbody tr th {\n",
              "        vertical-align: top;\n",
              "    }\n",
              "\n",
              "    .dataframe thead th {\n",
              "        text-align: right;\n",
              "    }\n",
              "</style>\n",
              "<table border=\"1\" class=\"dataframe\">\n",
              "  <thead>\n",
              "    <tr style=\"text-align: right;\">\n",
              "      <th></th>\n",
              "      <th>id</th>\n",
              "      <th>created_at</th>\n",
              "      <th>type</th>\n",
              "      <th>priority</th>\n",
              "      <th>status</th>\n",
              "      <th>is_public</th>\n",
              "      <th>brand_id</th>\n",
              "      <th>submitter_id</th>\n",
              "      <th>group_id</th>\n",
              "      <th>organization_id</th>\n",
              "      <th>has_partner</th>\n",
              "      <th>has_success_manager</th>\n",
              "      <th>requester_id</th>\n",
              "      <th>requester_created_at</th>\n",
              "      <th>requester_nps</th>\n",
              "      <th>requester_platform_skills</th>\n",
              "      <th>complexity</th>\n",
              "      <th>is_operating</th>\n",
              "    </tr>\n",
              "  </thead>\n",
              "  <tbody>\n",
              "    <tr>\n",
              "      <th>0</th>\n",
              "      <td>162875</td>\n",
              "      <td>2019-05-29T11:47:31.000Z</td>\n",
              "      <td>incident</td>\n",
              "      <td>high</td>\n",
              "      <td>hold</td>\n",
              "      <td>True</td>\n",
              "      <td>144968</td>\n",
              "      <td>8958433768</td>\n",
              "      <td>3.600088e+11</td>\n",
              "      <td>3.601459e+11</td>\n",
              "      <td>False</td>\n",
              "      <td>False</td>\n",
              "      <td>8958433768</td>\n",
              "      <td>2016-08-03T15:18:13.000Z</td>\n",
              "      <td>nps-detractor</td>\n",
              "      <td>platform-skills-advanced</td>\n",
              "      <td>high</td>\n",
              "      <td>None</td>\n",
              "    </tr>\n",
              "    <tr>\n",
              "      <th>1</th>\n",
              "      <td>166035</td>\n",
              "      <td>2019-06-12T15:23:14.000Z</td>\n",
              "      <td>incident</td>\n",
              "      <td>high</td>\n",
              "      <td>open</td>\n",
              "      <td>True</td>\n",
              "      <td>144968</td>\n",
              "      <td>8958433768</td>\n",
              "      <td>3.600139e+11</td>\n",
              "      <td>3.601459e+11</td>\n",
              "      <td>False</td>\n",
              "      <td>False</td>\n",
              "      <td>8958433768</td>\n",
              "      <td>2016-08-03T15:18:13.000Z</td>\n",
              "      <td>nps-detractor</td>\n",
              "      <td>platform-skills-advanced</td>\n",
              "      <td>very_high</td>\n",
              "      <td>None</td>\n",
              "    </tr>\n",
              "    <tr>\n",
              "      <th>2</th>\n",
              "      <td>182449</td>\n",
              "      <td>2019-08-23T21:13:47.000Z</td>\n",
              "      <td>question</td>\n",
              "      <td>normal</td>\n",
              "      <td>hold</td>\n",
              "      <td>True</td>\n",
              "      <td>144968</td>\n",
              "      <td>379450971772</td>\n",
              "      <td>3.600155e+11</td>\n",
              "      <td>2.559354e+08</td>\n",
              "      <td>False</td>\n",
              "      <td>False</td>\n",
              "      <td>379450971772</td>\n",
              "      <td>2019-04-04T13:34:21.000Z</td>\n",
              "      <td>None</td>\n",
              "      <td>platform-skills-advanced</td>\n",
              "      <td>very_high</td>\n",
              "      <td>None</td>\n",
              "    </tr>\n",
              "    <tr>\n",
              "      <th>3</th>\n",
              "      <td>189041</td>\n",
              "      <td>2019-09-20T16:33:59.000Z</td>\n",
              "      <td>incident</td>\n",
              "      <td>normal</td>\n",
              "      <td>solved</td>\n",
              "      <td>True</td>\n",
              "      <td>144968</td>\n",
              "      <td>378569033032</td>\n",
              "      <td>3.600120e+11</td>\n",
              "      <td>1.403345e+08</td>\n",
              "      <td>True</td>\n",
              "      <td>False</td>\n",
              "      <td>378569033032</td>\n",
              "      <td>2019-03-18T20:21:53.000Z</td>\n",
              "      <td>None</td>\n",
              "      <td>platform-skills-intermediate</td>\n",
              "      <td>moderate</td>\n",
              "      <td>None</td>\n",
              "    </tr>\n",
              "    <tr>\n",
              "      <th>4</th>\n",
              "      <td>207873</td>\n",
              "      <td>2019-12-09T13:54:47.000Z</td>\n",
              "      <td>None</td>\n",
              "      <td>normal</td>\n",
              "      <td>open</td>\n",
              "      <td>True</td>\n",
              "      <td>144968</td>\n",
              "      <td>367450009112</td>\n",
              "      <td>3.600124e+11</td>\n",
              "      <td>3.600242e+11</td>\n",
              "      <td>False</td>\n",
              "      <td>False</td>\n",
              "      <td>367450009112</td>\n",
              "      <td>2018-07-25T06:41:31.000Z</td>\n",
              "      <td>None</td>\n",
              "      <td>platform-skills-advanced</td>\n",
              "      <td>None</td>\n",
              "      <td>None</td>\n",
              "    </tr>\n",
              "  </tbody>\n",
              "</table>\n",
              "</div>"
            ],
            "text/plain": [
              "       id                created_at  ... complexity is_operating\n",
              "0  162875  2019-05-29T11:47:31.000Z  ...       high         None\n",
              "1  166035  2019-06-12T15:23:14.000Z  ...  very_high         None\n",
              "2  182449  2019-08-23T21:13:47.000Z  ...  very_high         None\n",
              "3  189041  2019-09-20T16:33:59.000Z  ...   moderate         None\n",
              "4  207873  2019-12-09T13:54:47.000Z  ...       None         None\n",
              "\n",
              "[5 rows x 18 columns]"
            ]
          },
          "metadata": {
            "tags": []
          },
          "execution_count": 4
        }
      ]
    },
    {
      "cell_type": "code",
      "metadata": {
        "colab": {
          "base_uri": "https://localhost:8080/"
        },
        "id": "RAG-1LMCOmA6",
        "outputId": "85b29013-5fa2-4c73-f829-3683a1215cc6"
      },
      "source": [
        "tickets.shape"
      ],
      "execution_count": 5,
      "outputs": [
        {
          "output_type": "execute_result",
          "data": {
            "text/plain": [
              "(22653, 18)"
            ]
          },
          "metadata": {
            "tags": []
          },
          "execution_count": 5
        }
      ]
    },
    {
      "cell_type": "code",
      "metadata": {
        "colab": {
          "base_uri": "https://localhost:8080/",
          "height": 195
        },
        "id": "PVVTZ-xeu7GF",
        "outputId": "d13f8ca8-9e8f-46d7-ab5c-1af87580d6ff"
      },
      "source": [
        "tickets.set_index('id', inplace = True)\n",
        "tickets.head(2)"
      ],
      "execution_count": 6,
      "outputs": [
        {
          "output_type": "execute_result",
          "data": {
            "text/html": [
              "<div>\n",
              "<style scoped>\n",
              "    .dataframe tbody tr th:only-of-type {\n",
              "        vertical-align: middle;\n",
              "    }\n",
              "\n",
              "    .dataframe tbody tr th {\n",
              "        vertical-align: top;\n",
              "    }\n",
              "\n",
              "    .dataframe thead th {\n",
              "        text-align: right;\n",
              "    }\n",
              "</style>\n",
              "<table border=\"1\" class=\"dataframe\">\n",
              "  <thead>\n",
              "    <tr style=\"text-align: right;\">\n",
              "      <th></th>\n",
              "      <th>created_at</th>\n",
              "      <th>type</th>\n",
              "      <th>priority</th>\n",
              "      <th>status</th>\n",
              "      <th>is_public</th>\n",
              "      <th>brand_id</th>\n",
              "      <th>submitter_id</th>\n",
              "      <th>group_id</th>\n",
              "      <th>organization_id</th>\n",
              "      <th>has_partner</th>\n",
              "      <th>has_success_manager</th>\n",
              "      <th>requester_id</th>\n",
              "      <th>requester_created_at</th>\n",
              "      <th>requester_nps</th>\n",
              "      <th>requester_platform_skills</th>\n",
              "      <th>complexity</th>\n",
              "      <th>is_operating</th>\n",
              "    </tr>\n",
              "    <tr>\n",
              "      <th>id</th>\n",
              "      <th></th>\n",
              "      <th></th>\n",
              "      <th></th>\n",
              "      <th></th>\n",
              "      <th></th>\n",
              "      <th></th>\n",
              "      <th></th>\n",
              "      <th></th>\n",
              "      <th></th>\n",
              "      <th></th>\n",
              "      <th></th>\n",
              "      <th></th>\n",
              "      <th></th>\n",
              "      <th></th>\n",
              "      <th></th>\n",
              "      <th></th>\n",
              "      <th></th>\n",
              "    </tr>\n",
              "  </thead>\n",
              "  <tbody>\n",
              "    <tr>\n",
              "      <th>162875</th>\n",
              "      <td>2019-05-29T11:47:31.000Z</td>\n",
              "      <td>incident</td>\n",
              "      <td>high</td>\n",
              "      <td>hold</td>\n",
              "      <td>True</td>\n",
              "      <td>144968</td>\n",
              "      <td>8958433768</td>\n",
              "      <td>3.600088e+11</td>\n",
              "      <td>3.601459e+11</td>\n",
              "      <td>False</td>\n",
              "      <td>False</td>\n",
              "      <td>8958433768</td>\n",
              "      <td>2016-08-03T15:18:13.000Z</td>\n",
              "      <td>nps-detractor</td>\n",
              "      <td>platform-skills-advanced</td>\n",
              "      <td>high</td>\n",
              "      <td>None</td>\n",
              "    </tr>\n",
              "    <tr>\n",
              "      <th>166035</th>\n",
              "      <td>2019-06-12T15:23:14.000Z</td>\n",
              "      <td>incident</td>\n",
              "      <td>high</td>\n",
              "      <td>open</td>\n",
              "      <td>True</td>\n",
              "      <td>144968</td>\n",
              "      <td>8958433768</td>\n",
              "      <td>3.600139e+11</td>\n",
              "      <td>3.601459e+11</td>\n",
              "      <td>False</td>\n",
              "      <td>False</td>\n",
              "      <td>8958433768</td>\n",
              "      <td>2016-08-03T15:18:13.000Z</td>\n",
              "      <td>nps-detractor</td>\n",
              "      <td>platform-skills-advanced</td>\n",
              "      <td>very_high</td>\n",
              "      <td>None</td>\n",
              "    </tr>\n",
              "  </tbody>\n",
              "</table>\n",
              "</div>"
            ],
            "text/plain": [
              "                      created_at      type  ... complexity is_operating\n",
              "id                                          ...                        \n",
              "162875  2019-05-29T11:47:31.000Z  incident  ...       high         None\n",
              "166035  2019-06-12T15:23:14.000Z  incident  ...  very_high         None\n",
              "\n",
              "[2 rows x 17 columns]"
            ]
          },
          "metadata": {
            "tags": []
          },
          "execution_count": 6
        }
      ]
    },
    {
      "cell_type": "markdown",
      "metadata": {
        "id": "qhTzG4MJfRV9"
      },
      "source": [
        "# ETL"
      ]
    },
    {
      "cell_type": "markdown",
      "metadata": {
        "id": "9lpj7d4fQOLG"
      },
      "source": [
        "#### 'created_at'"
      ]
    },
    {
      "cell_type": "code",
      "metadata": {
        "id": "HyZtjSPlAHHC",
        "colab": {
          "base_uri": "https://localhost:8080/",
          "height": 339
        },
        "outputId": "ff12e0a7-b2dc-42ad-dbba-25ffc2c27344"
      },
      "source": [
        "# Criando variável para dia da semana\n",
        "# Onde 0 é segunda-feira e 6 é domingo\n",
        "\n",
        "weekday = []\n",
        "\n",
        "for i in tickets['created_at']:\n",
        "  weekday.append((datetime.strptime(i, '%Y-%m-%dT%H:%M:%S.000Z').date()).weekday())\n",
        "\n",
        "tickets['weekday'] = weekday\n",
        "tickets.head()"
      ],
      "execution_count": 7,
      "outputs": [
        {
          "output_type": "execute_result",
          "data": {
            "text/html": [
              "<div>\n",
              "<style scoped>\n",
              "    .dataframe tbody tr th:only-of-type {\n",
              "        vertical-align: middle;\n",
              "    }\n",
              "\n",
              "    .dataframe tbody tr th {\n",
              "        vertical-align: top;\n",
              "    }\n",
              "\n",
              "    .dataframe thead th {\n",
              "        text-align: right;\n",
              "    }\n",
              "</style>\n",
              "<table border=\"1\" class=\"dataframe\">\n",
              "  <thead>\n",
              "    <tr style=\"text-align: right;\">\n",
              "      <th></th>\n",
              "      <th>created_at</th>\n",
              "      <th>type</th>\n",
              "      <th>priority</th>\n",
              "      <th>status</th>\n",
              "      <th>is_public</th>\n",
              "      <th>brand_id</th>\n",
              "      <th>submitter_id</th>\n",
              "      <th>group_id</th>\n",
              "      <th>organization_id</th>\n",
              "      <th>has_partner</th>\n",
              "      <th>has_success_manager</th>\n",
              "      <th>requester_id</th>\n",
              "      <th>requester_created_at</th>\n",
              "      <th>requester_nps</th>\n",
              "      <th>requester_platform_skills</th>\n",
              "      <th>complexity</th>\n",
              "      <th>is_operating</th>\n",
              "      <th>weekday</th>\n",
              "    </tr>\n",
              "    <tr>\n",
              "      <th>id</th>\n",
              "      <th></th>\n",
              "      <th></th>\n",
              "      <th></th>\n",
              "      <th></th>\n",
              "      <th></th>\n",
              "      <th></th>\n",
              "      <th></th>\n",
              "      <th></th>\n",
              "      <th></th>\n",
              "      <th></th>\n",
              "      <th></th>\n",
              "      <th></th>\n",
              "      <th></th>\n",
              "      <th></th>\n",
              "      <th></th>\n",
              "      <th></th>\n",
              "      <th></th>\n",
              "      <th></th>\n",
              "    </tr>\n",
              "  </thead>\n",
              "  <tbody>\n",
              "    <tr>\n",
              "      <th>162875</th>\n",
              "      <td>2019-05-29T11:47:31.000Z</td>\n",
              "      <td>incident</td>\n",
              "      <td>high</td>\n",
              "      <td>hold</td>\n",
              "      <td>True</td>\n",
              "      <td>144968</td>\n",
              "      <td>8958433768</td>\n",
              "      <td>3.600088e+11</td>\n",
              "      <td>3.601459e+11</td>\n",
              "      <td>False</td>\n",
              "      <td>False</td>\n",
              "      <td>8958433768</td>\n",
              "      <td>2016-08-03T15:18:13.000Z</td>\n",
              "      <td>nps-detractor</td>\n",
              "      <td>platform-skills-advanced</td>\n",
              "      <td>high</td>\n",
              "      <td>None</td>\n",
              "      <td>2</td>\n",
              "    </tr>\n",
              "    <tr>\n",
              "      <th>166035</th>\n",
              "      <td>2019-06-12T15:23:14.000Z</td>\n",
              "      <td>incident</td>\n",
              "      <td>high</td>\n",
              "      <td>open</td>\n",
              "      <td>True</td>\n",
              "      <td>144968</td>\n",
              "      <td>8958433768</td>\n",
              "      <td>3.600139e+11</td>\n",
              "      <td>3.601459e+11</td>\n",
              "      <td>False</td>\n",
              "      <td>False</td>\n",
              "      <td>8958433768</td>\n",
              "      <td>2016-08-03T15:18:13.000Z</td>\n",
              "      <td>nps-detractor</td>\n",
              "      <td>platform-skills-advanced</td>\n",
              "      <td>very_high</td>\n",
              "      <td>None</td>\n",
              "      <td>2</td>\n",
              "    </tr>\n",
              "    <tr>\n",
              "      <th>182449</th>\n",
              "      <td>2019-08-23T21:13:47.000Z</td>\n",
              "      <td>question</td>\n",
              "      <td>normal</td>\n",
              "      <td>hold</td>\n",
              "      <td>True</td>\n",
              "      <td>144968</td>\n",
              "      <td>379450971772</td>\n",
              "      <td>3.600155e+11</td>\n",
              "      <td>2.559354e+08</td>\n",
              "      <td>False</td>\n",
              "      <td>False</td>\n",
              "      <td>379450971772</td>\n",
              "      <td>2019-04-04T13:34:21.000Z</td>\n",
              "      <td>None</td>\n",
              "      <td>platform-skills-advanced</td>\n",
              "      <td>very_high</td>\n",
              "      <td>None</td>\n",
              "      <td>4</td>\n",
              "    </tr>\n",
              "    <tr>\n",
              "      <th>189041</th>\n",
              "      <td>2019-09-20T16:33:59.000Z</td>\n",
              "      <td>incident</td>\n",
              "      <td>normal</td>\n",
              "      <td>solved</td>\n",
              "      <td>True</td>\n",
              "      <td>144968</td>\n",
              "      <td>378569033032</td>\n",
              "      <td>3.600120e+11</td>\n",
              "      <td>1.403345e+08</td>\n",
              "      <td>True</td>\n",
              "      <td>False</td>\n",
              "      <td>378569033032</td>\n",
              "      <td>2019-03-18T20:21:53.000Z</td>\n",
              "      <td>None</td>\n",
              "      <td>platform-skills-intermediate</td>\n",
              "      <td>moderate</td>\n",
              "      <td>None</td>\n",
              "      <td>4</td>\n",
              "    </tr>\n",
              "    <tr>\n",
              "      <th>207873</th>\n",
              "      <td>2019-12-09T13:54:47.000Z</td>\n",
              "      <td>None</td>\n",
              "      <td>normal</td>\n",
              "      <td>open</td>\n",
              "      <td>True</td>\n",
              "      <td>144968</td>\n",
              "      <td>367450009112</td>\n",
              "      <td>3.600124e+11</td>\n",
              "      <td>3.600242e+11</td>\n",
              "      <td>False</td>\n",
              "      <td>False</td>\n",
              "      <td>367450009112</td>\n",
              "      <td>2018-07-25T06:41:31.000Z</td>\n",
              "      <td>None</td>\n",
              "      <td>platform-skills-advanced</td>\n",
              "      <td>None</td>\n",
              "      <td>None</td>\n",
              "      <td>0</td>\n",
              "    </tr>\n",
              "  </tbody>\n",
              "</table>\n",
              "</div>"
            ],
            "text/plain": [
              "                      created_at      type  ... is_operating weekday\n",
              "id                                          ...                     \n",
              "162875  2019-05-29T11:47:31.000Z  incident  ...         None       2\n",
              "166035  2019-06-12T15:23:14.000Z  incident  ...         None       2\n",
              "182449  2019-08-23T21:13:47.000Z  question  ...         None       4\n",
              "189041  2019-09-20T16:33:59.000Z  incident  ...         None       4\n",
              "207873  2019-12-09T13:54:47.000Z      None  ...         None       0\n",
              "\n",
              "[5 rows x 18 columns]"
            ]
          },
          "metadata": {
            "tags": []
          },
          "execution_count": 7
        }
      ]
    },
    {
      "cell_type": "markdown",
      "metadata": {
        "id": "D02XzJoTQUvv"
      },
      "source": [
        "#### 'type' e 'priority'"
      ]
    },
    {
      "cell_type": "code",
      "metadata": {
        "id": "nNUnc3rFtvw-",
        "colab": {
          "base_uri": "https://localhost:8080/"
        },
        "outputId": "2c804923-5d99-4969-b4e4-6d2edb6a4635"
      },
      "source": [
        "# Valores únicos em variável type\n",
        "\n",
        "tickets['type'].unique()"
      ],
      "execution_count": 8,
      "outputs": [
        {
          "output_type": "execute_result",
          "data": {
            "text/plain": [
              "array(['incident', 'question', None, 'task', 'problem'], dtype=object)"
            ]
          },
          "metadata": {
            "tags": []
          },
          "execution_count": 8
        }
      ]
    },
    {
      "cell_type": "code",
      "metadata": {
        "id": "JkAjcCyStvuj",
        "colab": {
          "base_uri": "https://localhost:8080/",
          "height": 233
        },
        "outputId": "ef31d9b0-aafc-46f3-a103-8943d700e0d6"
      },
      "source": [
        "# Transformando variável categórica com One Hot Encoding\n",
        "types = pd.get_dummies(tickets.type, prefix = 'type', drop_first = False)\n",
        "types.head()\n",
        "\n",
        "# OBS: Não descarta a primeira em função dos Nones"
      ],
      "execution_count": 9,
      "outputs": [
        {
          "output_type": "execute_result",
          "data": {
            "text/html": [
              "<div>\n",
              "<style scoped>\n",
              "    .dataframe tbody tr th:only-of-type {\n",
              "        vertical-align: middle;\n",
              "    }\n",
              "\n",
              "    .dataframe tbody tr th {\n",
              "        vertical-align: top;\n",
              "    }\n",
              "\n",
              "    .dataframe thead th {\n",
              "        text-align: right;\n",
              "    }\n",
              "</style>\n",
              "<table border=\"1\" class=\"dataframe\">\n",
              "  <thead>\n",
              "    <tr style=\"text-align: right;\">\n",
              "      <th></th>\n",
              "      <th>type_incident</th>\n",
              "      <th>type_problem</th>\n",
              "      <th>type_question</th>\n",
              "      <th>type_task</th>\n",
              "    </tr>\n",
              "    <tr>\n",
              "      <th>id</th>\n",
              "      <th></th>\n",
              "      <th></th>\n",
              "      <th></th>\n",
              "      <th></th>\n",
              "    </tr>\n",
              "  </thead>\n",
              "  <tbody>\n",
              "    <tr>\n",
              "      <th>162875</th>\n",
              "      <td>1</td>\n",
              "      <td>0</td>\n",
              "      <td>0</td>\n",
              "      <td>0</td>\n",
              "    </tr>\n",
              "    <tr>\n",
              "      <th>166035</th>\n",
              "      <td>1</td>\n",
              "      <td>0</td>\n",
              "      <td>0</td>\n",
              "      <td>0</td>\n",
              "    </tr>\n",
              "    <tr>\n",
              "      <th>182449</th>\n",
              "      <td>0</td>\n",
              "      <td>0</td>\n",
              "      <td>1</td>\n",
              "      <td>0</td>\n",
              "    </tr>\n",
              "    <tr>\n",
              "      <th>189041</th>\n",
              "      <td>1</td>\n",
              "      <td>0</td>\n",
              "      <td>0</td>\n",
              "      <td>0</td>\n",
              "    </tr>\n",
              "    <tr>\n",
              "      <th>207873</th>\n",
              "      <td>0</td>\n",
              "      <td>0</td>\n",
              "      <td>0</td>\n",
              "      <td>0</td>\n",
              "    </tr>\n",
              "  </tbody>\n",
              "</table>\n",
              "</div>"
            ],
            "text/plain": [
              "        type_incident  type_problem  type_question  type_task\n",
              "id                                                           \n",
              "162875              1             0              0          0\n",
              "166035              1             0              0          0\n",
              "182449              0             0              1          0\n",
              "189041              1             0              0          0\n",
              "207873              0             0              0          0"
            ]
          },
          "metadata": {
            "tags": []
          },
          "execution_count": 9
        }
      ]
    },
    {
      "cell_type": "code",
      "metadata": {
        "id": "QNA9GKSMtvrw",
        "colab": {
          "base_uri": "https://localhost:8080/"
        },
        "outputId": "79a88e58-9e4c-4000-d125-1e5077a42550"
      },
      "source": [
        "# Valores únicos em variável priority\n",
        "\n",
        "tickets.priority.unique()"
      ],
      "execution_count": 10,
      "outputs": [
        {
          "output_type": "execute_result",
          "data": {
            "text/plain": [
              "array(['high', 'normal', 'urgent', 'low'], dtype=object)"
            ]
          },
          "metadata": {
            "tags": []
          },
          "execution_count": 10
        }
      ]
    },
    {
      "cell_type": "code",
      "metadata": {
        "id": "gB_7AVWTtvo5",
        "colab": {
          "base_uri": "https://localhost:8080/",
          "height": 233
        },
        "outputId": "1b84426a-db0e-4e17-eca5-e13f8a4c9ffe"
      },
      "source": [
        "# Transformando variável categórica com One Hot Encoding\n",
        "priorities = pd.get_dummies(tickets.priority, prefix = 'priority', drop_first = True)\n",
        "priorities.head()"
      ],
      "execution_count": 11,
      "outputs": [
        {
          "output_type": "execute_result",
          "data": {
            "text/html": [
              "<div>\n",
              "<style scoped>\n",
              "    .dataframe tbody tr th:only-of-type {\n",
              "        vertical-align: middle;\n",
              "    }\n",
              "\n",
              "    .dataframe tbody tr th {\n",
              "        vertical-align: top;\n",
              "    }\n",
              "\n",
              "    .dataframe thead th {\n",
              "        text-align: right;\n",
              "    }\n",
              "</style>\n",
              "<table border=\"1\" class=\"dataframe\">\n",
              "  <thead>\n",
              "    <tr style=\"text-align: right;\">\n",
              "      <th></th>\n",
              "      <th>priority_low</th>\n",
              "      <th>priority_normal</th>\n",
              "      <th>priority_urgent</th>\n",
              "    </tr>\n",
              "    <tr>\n",
              "      <th>id</th>\n",
              "      <th></th>\n",
              "      <th></th>\n",
              "      <th></th>\n",
              "    </tr>\n",
              "  </thead>\n",
              "  <tbody>\n",
              "    <tr>\n",
              "      <th>162875</th>\n",
              "      <td>0</td>\n",
              "      <td>0</td>\n",
              "      <td>0</td>\n",
              "    </tr>\n",
              "    <tr>\n",
              "      <th>166035</th>\n",
              "      <td>0</td>\n",
              "      <td>0</td>\n",
              "      <td>0</td>\n",
              "    </tr>\n",
              "    <tr>\n",
              "      <th>182449</th>\n",
              "      <td>0</td>\n",
              "      <td>1</td>\n",
              "      <td>0</td>\n",
              "    </tr>\n",
              "    <tr>\n",
              "      <th>189041</th>\n",
              "      <td>0</td>\n",
              "      <td>1</td>\n",
              "      <td>0</td>\n",
              "    </tr>\n",
              "    <tr>\n",
              "      <th>207873</th>\n",
              "      <td>0</td>\n",
              "      <td>1</td>\n",
              "      <td>0</td>\n",
              "    </tr>\n",
              "  </tbody>\n",
              "</table>\n",
              "</div>"
            ],
            "text/plain": [
              "        priority_low  priority_normal  priority_urgent\n",
              "id                                                    \n",
              "162875             0                0                0\n",
              "166035             0                0                0\n",
              "182449             0                1                0\n",
              "189041             0                1                0\n",
              "207873             0                1                0"
            ]
          },
          "metadata": {
            "tags": []
          },
          "execution_count": 11
        }
      ]
    },
    {
      "cell_type": "code",
      "metadata": {
        "id": "fyLX03thxZ4x",
        "colab": {
          "base_uri": "https://localhost:8080/",
          "height": 339
        },
        "outputId": "66616cba-efe1-47ec-aedb-5f98ef31b3f3"
      },
      "source": [
        "# Dando merge nos DataFrames e excluindo as variáveis originais\n",
        "frames = [tickets,types,priorities]\n",
        "tickets = pd.concat(frames,axis=1)\n",
        "tickets = tickets.drop(['priority','type'], axis=1)\n",
        "tickets.head()"
      ],
      "execution_count": 12,
      "outputs": [
        {
          "output_type": "execute_result",
          "data": {
            "text/html": [
              "<div>\n",
              "<style scoped>\n",
              "    .dataframe tbody tr th:only-of-type {\n",
              "        vertical-align: middle;\n",
              "    }\n",
              "\n",
              "    .dataframe tbody tr th {\n",
              "        vertical-align: top;\n",
              "    }\n",
              "\n",
              "    .dataframe thead th {\n",
              "        text-align: right;\n",
              "    }\n",
              "</style>\n",
              "<table border=\"1\" class=\"dataframe\">\n",
              "  <thead>\n",
              "    <tr style=\"text-align: right;\">\n",
              "      <th></th>\n",
              "      <th>created_at</th>\n",
              "      <th>status</th>\n",
              "      <th>is_public</th>\n",
              "      <th>brand_id</th>\n",
              "      <th>submitter_id</th>\n",
              "      <th>group_id</th>\n",
              "      <th>organization_id</th>\n",
              "      <th>has_partner</th>\n",
              "      <th>has_success_manager</th>\n",
              "      <th>requester_id</th>\n",
              "      <th>requester_created_at</th>\n",
              "      <th>requester_nps</th>\n",
              "      <th>requester_platform_skills</th>\n",
              "      <th>complexity</th>\n",
              "      <th>is_operating</th>\n",
              "      <th>weekday</th>\n",
              "      <th>type_incident</th>\n",
              "      <th>type_problem</th>\n",
              "      <th>type_question</th>\n",
              "      <th>type_task</th>\n",
              "      <th>priority_low</th>\n",
              "      <th>priority_normal</th>\n",
              "      <th>priority_urgent</th>\n",
              "    </tr>\n",
              "    <tr>\n",
              "      <th>id</th>\n",
              "      <th></th>\n",
              "      <th></th>\n",
              "      <th></th>\n",
              "      <th></th>\n",
              "      <th></th>\n",
              "      <th></th>\n",
              "      <th></th>\n",
              "      <th></th>\n",
              "      <th></th>\n",
              "      <th></th>\n",
              "      <th></th>\n",
              "      <th></th>\n",
              "      <th></th>\n",
              "      <th></th>\n",
              "      <th></th>\n",
              "      <th></th>\n",
              "      <th></th>\n",
              "      <th></th>\n",
              "      <th></th>\n",
              "      <th></th>\n",
              "      <th></th>\n",
              "      <th></th>\n",
              "      <th></th>\n",
              "    </tr>\n",
              "  </thead>\n",
              "  <tbody>\n",
              "    <tr>\n",
              "      <th>162875</th>\n",
              "      <td>2019-05-29T11:47:31.000Z</td>\n",
              "      <td>hold</td>\n",
              "      <td>True</td>\n",
              "      <td>144968</td>\n",
              "      <td>8958433768</td>\n",
              "      <td>3.600088e+11</td>\n",
              "      <td>3.601459e+11</td>\n",
              "      <td>False</td>\n",
              "      <td>False</td>\n",
              "      <td>8958433768</td>\n",
              "      <td>2016-08-03T15:18:13.000Z</td>\n",
              "      <td>nps-detractor</td>\n",
              "      <td>platform-skills-advanced</td>\n",
              "      <td>high</td>\n",
              "      <td>None</td>\n",
              "      <td>2</td>\n",
              "      <td>1</td>\n",
              "      <td>0</td>\n",
              "      <td>0</td>\n",
              "      <td>0</td>\n",
              "      <td>0</td>\n",
              "      <td>0</td>\n",
              "      <td>0</td>\n",
              "    </tr>\n",
              "    <tr>\n",
              "      <th>166035</th>\n",
              "      <td>2019-06-12T15:23:14.000Z</td>\n",
              "      <td>open</td>\n",
              "      <td>True</td>\n",
              "      <td>144968</td>\n",
              "      <td>8958433768</td>\n",
              "      <td>3.600139e+11</td>\n",
              "      <td>3.601459e+11</td>\n",
              "      <td>False</td>\n",
              "      <td>False</td>\n",
              "      <td>8958433768</td>\n",
              "      <td>2016-08-03T15:18:13.000Z</td>\n",
              "      <td>nps-detractor</td>\n",
              "      <td>platform-skills-advanced</td>\n",
              "      <td>very_high</td>\n",
              "      <td>None</td>\n",
              "      <td>2</td>\n",
              "      <td>1</td>\n",
              "      <td>0</td>\n",
              "      <td>0</td>\n",
              "      <td>0</td>\n",
              "      <td>0</td>\n",
              "      <td>0</td>\n",
              "      <td>0</td>\n",
              "    </tr>\n",
              "    <tr>\n",
              "      <th>182449</th>\n",
              "      <td>2019-08-23T21:13:47.000Z</td>\n",
              "      <td>hold</td>\n",
              "      <td>True</td>\n",
              "      <td>144968</td>\n",
              "      <td>379450971772</td>\n",
              "      <td>3.600155e+11</td>\n",
              "      <td>2.559354e+08</td>\n",
              "      <td>False</td>\n",
              "      <td>False</td>\n",
              "      <td>379450971772</td>\n",
              "      <td>2019-04-04T13:34:21.000Z</td>\n",
              "      <td>None</td>\n",
              "      <td>platform-skills-advanced</td>\n",
              "      <td>very_high</td>\n",
              "      <td>None</td>\n",
              "      <td>4</td>\n",
              "      <td>0</td>\n",
              "      <td>0</td>\n",
              "      <td>1</td>\n",
              "      <td>0</td>\n",
              "      <td>0</td>\n",
              "      <td>1</td>\n",
              "      <td>0</td>\n",
              "    </tr>\n",
              "    <tr>\n",
              "      <th>189041</th>\n",
              "      <td>2019-09-20T16:33:59.000Z</td>\n",
              "      <td>solved</td>\n",
              "      <td>True</td>\n",
              "      <td>144968</td>\n",
              "      <td>378569033032</td>\n",
              "      <td>3.600120e+11</td>\n",
              "      <td>1.403345e+08</td>\n",
              "      <td>True</td>\n",
              "      <td>False</td>\n",
              "      <td>378569033032</td>\n",
              "      <td>2019-03-18T20:21:53.000Z</td>\n",
              "      <td>None</td>\n",
              "      <td>platform-skills-intermediate</td>\n",
              "      <td>moderate</td>\n",
              "      <td>None</td>\n",
              "      <td>4</td>\n",
              "      <td>1</td>\n",
              "      <td>0</td>\n",
              "      <td>0</td>\n",
              "      <td>0</td>\n",
              "      <td>0</td>\n",
              "      <td>1</td>\n",
              "      <td>0</td>\n",
              "    </tr>\n",
              "    <tr>\n",
              "      <th>207873</th>\n",
              "      <td>2019-12-09T13:54:47.000Z</td>\n",
              "      <td>open</td>\n",
              "      <td>True</td>\n",
              "      <td>144968</td>\n",
              "      <td>367450009112</td>\n",
              "      <td>3.600124e+11</td>\n",
              "      <td>3.600242e+11</td>\n",
              "      <td>False</td>\n",
              "      <td>False</td>\n",
              "      <td>367450009112</td>\n",
              "      <td>2018-07-25T06:41:31.000Z</td>\n",
              "      <td>None</td>\n",
              "      <td>platform-skills-advanced</td>\n",
              "      <td>None</td>\n",
              "      <td>None</td>\n",
              "      <td>0</td>\n",
              "      <td>0</td>\n",
              "      <td>0</td>\n",
              "      <td>0</td>\n",
              "      <td>0</td>\n",
              "      <td>0</td>\n",
              "      <td>1</td>\n",
              "      <td>0</td>\n",
              "    </tr>\n",
              "  </tbody>\n",
              "</table>\n",
              "</div>"
            ],
            "text/plain": [
              "                      created_at  status  ...  priority_normal  priority_urgent\n",
              "id                                        ...                                  \n",
              "162875  2019-05-29T11:47:31.000Z    hold  ...                0                0\n",
              "166035  2019-06-12T15:23:14.000Z    open  ...                0                0\n",
              "182449  2019-08-23T21:13:47.000Z    hold  ...                1                0\n",
              "189041  2019-09-20T16:33:59.000Z  solved  ...                1                0\n",
              "207873  2019-12-09T13:54:47.000Z    open  ...                1                0\n",
              "\n",
              "[5 rows x 23 columns]"
            ]
          },
          "metadata": {
            "tags": []
          },
          "execution_count": 12
        }
      ]
    },
    {
      "cell_type": "markdown",
      "metadata": {
        "id": "YzrHG650Q6XX"
      },
      "source": [
        "#### 'status'"
      ]
    },
    {
      "cell_type": "code",
      "metadata": {
        "colab": {
          "base_uri": "https://localhost:8080/",
          "height": 339
        },
        "id": "THBCNzFnQ_-i",
        "outputId": "d90d9c57-2970-4f35-f3b7-79dc9892229c"
      },
      "source": [
        "# Em função do status ser uma condição do ticket que altere conforme existem as interações por parte dos agentes, e o algoritmo\n",
        "# atuará apenas nos tickets com status 'New', a coluna em questão será descartada.\n",
        "\n",
        "tickets = tickets.drop(['status'], axis=1)\n",
        "tickets.head()"
      ],
      "execution_count": 13,
      "outputs": [
        {
          "output_type": "execute_result",
          "data": {
            "text/html": [
              "<div>\n",
              "<style scoped>\n",
              "    .dataframe tbody tr th:only-of-type {\n",
              "        vertical-align: middle;\n",
              "    }\n",
              "\n",
              "    .dataframe tbody tr th {\n",
              "        vertical-align: top;\n",
              "    }\n",
              "\n",
              "    .dataframe thead th {\n",
              "        text-align: right;\n",
              "    }\n",
              "</style>\n",
              "<table border=\"1\" class=\"dataframe\">\n",
              "  <thead>\n",
              "    <tr style=\"text-align: right;\">\n",
              "      <th></th>\n",
              "      <th>created_at</th>\n",
              "      <th>is_public</th>\n",
              "      <th>brand_id</th>\n",
              "      <th>submitter_id</th>\n",
              "      <th>group_id</th>\n",
              "      <th>organization_id</th>\n",
              "      <th>has_partner</th>\n",
              "      <th>has_success_manager</th>\n",
              "      <th>requester_id</th>\n",
              "      <th>requester_created_at</th>\n",
              "      <th>requester_nps</th>\n",
              "      <th>requester_platform_skills</th>\n",
              "      <th>complexity</th>\n",
              "      <th>is_operating</th>\n",
              "      <th>weekday</th>\n",
              "      <th>type_incident</th>\n",
              "      <th>type_problem</th>\n",
              "      <th>type_question</th>\n",
              "      <th>type_task</th>\n",
              "      <th>priority_low</th>\n",
              "      <th>priority_normal</th>\n",
              "      <th>priority_urgent</th>\n",
              "    </tr>\n",
              "    <tr>\n",
              "      <th>id</th>\n",
              "      <th></th>\n",
              "      <th></th>\n",
              "      <th></th>\n",
              "      <th></th>\n",
              "      <th></th>\n",
              "      <th></th>\n",
              "      <th></th>\n",
              "      <th></th>\n",
              "      <th></th>\n",
              "      <th></th>\n",
              "      <th></th>\n",
              "      <th></th>\n",
              "      <th></th>\n",
              "      <th></th>\n",
              "      <th></th>\n",
              "      <th></th>\n",
              "      <th></th>\n",
              "      <th></th>\n",
              "      <th></th>\n",
              "      <th></th>\n",
              "      <th></th>\n",
              "      <th></th>\n",
              "    </tr>\n",
              "  </thead>\n",
              "  <tbody>\n",
              "    <tr>\n",
              "      <th>162875</th>\n",
              "      <td>2019-05-29T11:47:31.000Z</td>\n",
              "      <td>True</td>\n",
              "      <td>144968</td>\n",
              "      <td>8958433768</td>\n",
              "      <td>3.600088e+11</td>\n",
              "      <td>3.601459e+11</td>\n",
              "      <td>False</td>\n",
              "      <td>False</td>\n",
              "      <td>8958433768</td>\n",
              "      <td>2016-08-03T15:18:13.000Z</td>\n",
              "      <td>nps-detractor</td>\n",
              "      <td>platform-skills-advanced</td>\n",
              "      <td>high</td>\n",
              "      <td>None</td>\n",
              "      <td>2</td>\n",
              "      <td>1</td>\n",
              "      <td>0</td>\n",
              "      <td>0</td>\n",
              "      <td>0</td>\n",
              "      <td>0</td>\n",
              "      <td>0</td>\n",
              "      <td>0</td>\n",
              "    </tr>\n",
              "    <tr>\n",
              "      <th>166035</th>\n",
              "      <td>2019-06-12T15:23:14.000Z</td>\n",
              "      <td>True</td>\n",
              "      <td>144968</td>\n",
              "      <td>8958433768</td>\n",
              "      <td>3.600139e+11</td>\n",
              "      <td>3.601459e+11</td>\n",
              "      <td>False</td>\n",
              "      <td>False</td>\n",
              "      <td>8958433768</td>\n",
              "      <td>2016-08-03T15:18:13.000Z</td>\n",
              "      <td>nps-detractor</td>\n",
              "      <td>platform-skills-advanced</td>\n",
              "      <td>very_high</td>\n",
              "      <td>None</td>\n",
              "      <td>2</td>\n",
              "      <td>1</td>\n",
              "      <td>0</td>\n",
              "      <td>0</td>\n",
              "      <td>0</td>\n",
              "      <td>0</td>\n",
              "      <td>0</td>\n",
              "      <td>0</td>\n",
              "    </tr>\n",
              "    <tr>\n",
              "      <th>182449</th>\n",
              "      <td>2019-08-23T21:13:47.000Z</td>\n",
              "      <td>True</td>\n",
              "      <td>144968</td>\n",
              "      <td>379450971772</td>\n",
              "      <td>3.600155e+11</td>\n",
              "      <td>2.559354e+08</td>\n",
              "      <td>False</td>\n",
              "      <td>False</td>\n",
              "      <td>379450971772</td>\n",
              "      <td>2019-04-04T13:34:21.000Z</td>\n",
              "      <td>None</td>\n",
              "      <td>platform-skills-advanced</td>\n",
              "      <td>very_high</td>\n",
              "      <td>None</td>\n",
              "      <td>4</td>\n",
              "      <td>0</td>\n",
              "      <td>0</td>\n",
              "      <td>1</td>\n",
              "      <td>0</td>\n",
              "      <td>0</td>\n",
              "      <td>1</td>\n",
              "      <td>0</td>\n",
              "    </tr>\n",
              "    <tr>\n",
              "      <th>189041</th>\n",
              "      <td>2019-09-20T16:33:59.000Z</td>\n",
              "      <td>True</td>\n",
              "      <td>144968</td>\n",
              "      <td>378569033032</td>\n",
              "      <td>3.600120e+11</td>\n",
              "      <td>1.403345e+08</td>\n",
              "      <td>True</td>\n",
              "      <td>False</td>\n",
              "      <td>378569033032</td>\n",
              "      <td>2019-03-18T20:21:53.000Z</td>\n",
              "      <td>None</td>\n",
              "      <td>platform-skills-intermediate</td>\n",
              "      <td>moderate</td>\n",
              "      <td>None</td>\n",
              "      <td>4</td>\n",
              "      <td>1</td>\n",
              "      <td>0</td>\n",
              "      <td>0</td>\n",
              "      <td>0</td>\n",
              "      <td>0</td>\n",
              "      <td>1</td>\n",
              "      <td>0</td>\n",
              "    </tr>\n",
              "    <tr>\n",
              "      <th>207873</th>\n",
              "      <td>2019-12-09T13:54:47.000Z</td>\n",
              "      <td>True</td>\n",
              "      <td>144968</td>\n",
              "      <td>367450009112</td>\n",
              "      <td>3.600124e+11</td>\n",
              "      <td>3.600242e+11</td>\n",
              "      <td>False</td>\n",
              "      <td>False</td>\n",
              "      <td>367450009112</td>\n",
              "      <td>2018-07-25T06:41:31.000Z</td>\n",
              "      <td>None</td>\n",
              "      <td>platform-skills-advanced</td>\n",
              "      <td>None</td>\n",
              "      <td>None</td>\n",
              "      <td>0</td>\n",
              "      <td>0</td>\n",
              "      <td>0</td>\n",
              "      <td>0</td>\n",
              "      <td>0</td>\n",
              "      <td>0</td>\n",
              "      <td>1</td>\n",
              "      <td>0</td>\n",
              "    </tr>\n",
              "  </tbody>\n",
              "</table>\n",
              "</div>"
            ],
            "text/plain": [
              "                      created_at  is_public  ...  priority_normal  priority_urgent\n",
              "id                                           ...                                  \n",
              "162875  2019-05-29T11:47:31.000Z       True  ...                0                0\n",
              "166035  2019-06-12T15:23:14.000Z       True  ...                0                0\n",
              "182449  2019-08-23T21:13:47.000Z       True  ...                1                0\n",
              "189041  2019-09-20T16:33:59.000Z       True  ...                1                0\n",
              "207873  2019-12-09T13:54:47.000Z       True  ...                1                0\n",
              "\n",
              "[5 rows x 22 columns]"
            ]
          },
          "metadata": {
            "tags": []
          },
          "execution_count": 13
        }
      ]
    },
    {
      "cell_type": "markdown",
      "metadata": {
        "id": "TPW27QA8Rq0S"
      },
      "source": [
        "#### 'is_public'"
      ]
    },
    {
      "cell_type": "code",
      "metadata": {
        "colab": {
          "base_uri": "https://localhost:8080/"
        },
        "id": "I9gNTf-rRye2",
        "outputId": "bef5d36a-559c-4ed3-cfec-ec9d6630b676"
      },
      "source": [
        "# Apenas tickets públicos são válidos para esse algoritmo\n",
        "\n",
        "unique, counts = np.unique(tickets['is_public'], return_counts=True)\n",
        "print(f'Total de {unique[0]}: {counts[0]}')\n",
        "print(f'Total de {unique[1]}: {counts[1]}')\n"
      ],
      "execution_count": 14,
      "outputs": [
        {
          "output_type": "stream",
          "text": [
            "Total de False: 3247\n",
            "Total de True: 19406\n"
          ],
          "name": "stdout"
        }
      ]
    },
    {
      "cell_type": "code",
      "metadata": {
        "id": "RkXwKvCnWjNO"
      },
      "source": [
        "# Descartando valores \"False\"\n",
        "\n",
        "tickets = tickets[tickets['is_public'] == True]"
      ],
      "execution_count": 15,
      "outputs": []
    },
    {
      "cell_type": "code",
      "metadata": {
        "colab": {
          "base_uri": "https://localhost:8080/"
        },
        "id": "k7Smkg2WWuY7",
        "outputId": "9de96087-5051-467e-ff03-b93783370a16"
      },
      "source": [
        "tickets.shape"
      ],
      "execution_count": 16,
      "outputs": [
        {
          "output_type": "execute_result",
          "data": {
            "text/plain": [
              "(19406, 22)"
            ]
          },
          "metadata": {
            "tags": []
          },
          "execution_count": 16
        }
      ]
    },
    {
      "cell_type": "code",
      "metadata": {
        "colab": {
          "base_uri": "https://localhost:8080/",
          "height": 339
        },
        "id": "VeasZpn-q8Cz",
        "outputId": "c15428d9-cb33-46f2-b691-bf8852854ed4"
      },
      "source": [
        "# Descartando atributo\n",
        "\n",
        "tickets = tickets.drop(['is_public'], axis=1)\n",
        "tickets.head()"
      ],
      "execution_count": 17,
      "outputs": [
        {
          "output_type": "execute_result",
          "data": {
            "text/html": [
              "<div>\n",
              "<style scoped>\n",
              "    .dataframe tbody tr th:only-of-type {\n",
              "        vertical-align: middle;\n",
              "    }\n",
              "\n",
              "    .dataframe tbody tr th {\n",
              "        vertical-align: top;\n",
              "    }\n",
              "\n",
              "    .dataframe thead th {\n",
              "        text-align: right;\n",
              "    }\n",
              "</style>\n",
              "<table border=\"1\" class=\"dataframe\">\n",
              "  <thead>\n",
              "    <tr style=\"text-align: right;\">\n",
              "      <th></th>\n",
              "      <th>created_at</th>\n",
              "      <th>brand_id</th>\n",
              "      <th>submitter_id</th>\n",
              "      <th>group_id</th>\n",
              "      <th>organization_id</th>\n",
              "      <th>has_partner</th>\n",
              "      <th>has_success_manager</th>\n",
              "      <th>requester_id</th>\n",
              "      <th>requester_created_at</th>\n",
              "      <th>requester_nps</th>\n",
              "      <th>requester_platform_skills</th>\n",
              "      <th>complexity</th>\n",
              "      <th>is_operating</th>\n",
              "      <th>weekday</th>\n",
              "      <th>type_incident</th>\n",
              "      <th>type_problem</th>\n",
              "      <th>type_question</th>\n",
              "      <th>type_task</th>\n",
              "      <th>priority_low</th>\n",
              "      <th>priority_normal</th>\n",
              "      <th>priority_urgent</th>\n",
              "    </tr>\n",
              "    <tr>\n",
              "      <th>id</th>\n",
              "      <th></th>\n",
              "      <th></th>\n",
              "      <th></th>\n",
              "      <th></th>\n",
              "      <th></th>\n",
              "      <th></th>\n",
              "      <th></th>\n",
              "      <th></th>\n",
              "      <th></th>\n",
              "      <th></th>\n",
              "      <th></th>\n",
              "      <th></th>\n",
              "      <th></th>\n",
              "      <th></th>\n",
              "      <th></th>\n",
              "      <th></th>\n",
              "      <th></th>\n",
              "      <th></th>\n",
              "      <th></th>\n",
              "      <th></th>\n",
              "      <th></th>\n",
              "    </tr>\n",
              "  </thead>\n",
              "  <tbody>\n",
              "    <tr>\n",
              "      <th>162875</th>\n",
              "      <td>2019-05-29T11:47:31.000Z</td>\n",
              "      <td>144968</td>\n",
              "      <td>8958433768</td>\n",
              "      <td>3.600088e+11</td>\n",
              "      <td>3.601459e+11</td>\n",
              "      <td>False</td>\n",
              "      <td>False</td>\n",
              "      <td>8958433768</td>\n",
              "      <td>2016-08-03T15:18:13.000Z</td>\n",
              "      <td>nps-detractor</td>\n",
              "      <td>platform-skills-advanced</td>\n",
              "      <td>high</td>\n",
              "      <td>None</td>\n",
              "      <td>2</td>\n",
              "      <td>1</td>\n",
              "      <td>0</td>\n",
              "      <td>0</td>\n",
              "      <td>0</td>\n",
              "      <td>0</td>\n",
              "      <td>0</td>\n",
              "      <td>0</td>\n",
              "    </tr>\n",
              "    <tr>\n",
              "      <th>166035</th>\n",
              "      <td>2019-06-12T15:23:14.000Z</td>\n",
              "      <td>144968</td>\n",
              "      <td>8958433768</td>\n",
              "      <td>3.600139e+11</td>\n",
              "      <td>3.601459e+11</td>\n",
              "      <td>False</td>\n",
              "      <td>False</td>\n",
              "      <td>8958433768</td>\n",
              "      <td>2016-08-03T15:18:13.000Z</td>\n",
              "      <td>nps-detractor</td>\n",
              "      <td>platform-skills-advanced</td>\n",
              "      <td>very_high</td>\n",
              "      <td>None</td>\n",
              "      <td>2</td>\n",
              "      <td>1</td>\n",
              "      <td>0</td>\n",
              "      <td>0</td>\n",
              "      <td>0</td>\n",
              "      <td>0</td>\n",
              "      <td>0</td>\n",
              "      <td>0</td>\n",
              "    </tr>\n",
              "    <tr>\n",
              "      <th>182449</th>\n",
              "      <td>2019-08-23T21:13:47.000Z</td>\n",
              "      <td>144968</td>\n",
              "      <td>379450971772</td>\n",
              "      <td>3.600155e+11</td>\n",
              "      <td>2.559354e+08</td>\n",
              "      <td>False</td>\n",
              "      <td>False</td>\n",
              "      <td>379450971772</td>\n",
              "      <td>2019-04-04T13:34:21.000Z</td>\n",
              "      <td>None</td>\n",
              "      <td>platform-skills-advanced</td>\n",
              "      <td>very_high</td>\n",
              "      <td>None</td>\n",
              "      <td>4</td>\n",
              "      <td>0</td>\n",
              "      <td>0</td>\n",
              "      <td>1</td>\n",
              "      <td>0</td>\n",
              "      <td>0</td>\n",
              "      <td>1</td>\n",
              "      <td>0</td>\n",
              "    </tr>\n",
              "    <tr>\n",
              "      <th>189041</th>\n",
              "      <td>2019-09-20T16:33:59.000Z</td>\n",
              "      <td>144968</td>\n",
              "      <td>378569033032</td>\n",
              "      <td>3.600120e+11</td>\n",
              "      <td>1.403345e+08</td>\n",
              "      <td>True</td>\n",
              "      <td>False</td>\n",
              "      <td>378569033032</td>\n",
              "      <td>2019-03-18T20:21:53.000Z</td>\n",
              "      <td>None</td>\n",
              "      <td>platform-skills-intermediate</td>\n",
              "      <td>moderate</td>\n",
              "      <td>None</td>\n",
              "      <td>4</td>\n",
              "      <td>1</td>\n",
              "      <td>0</td>\n",
              "      <td>0</td>\n",
              "      <td>0</td>\n",
              "      <td>0</td>\n",
              "      <td>1</td>\n",
              "      <td>0</td>\n",
              "    </tr>\n",
              "    <tr>\n",
              "      <th>207873</th>\n",
              "      <td>2019-12-09T13:54:47.000Z</td>\n",
              "      <td>144968</td>\n",
              "      <td>367450009112</td>\n",
              "      <td>3.600124e+11</td>\n",
              "      <td>3.600242e+11</td>\n",
              "      <td>False</td>\n",
              "      <td>False</td>\n",
              "      <td>367450009112</td>\n",
              "      <td>2018-07-25T06:41:31.000Z</td>\n",
              "      <td>None</td>\n",
              "      <td>platform-skills-advanced</td>\n",
              "      <td>None</td>\n",
              "      <td>None</td>\n",
              "      <td>0</td>\n",
              "      <td>0</td>\n",
              "      <td>0</td>\n",
              "      <td>0</td>\n",
              "      <td>0</td>\n",
              "      <td>0</td>\n",
              "      <td>1</td>\n",
              "      <td>0</td>\n",
              "    </tr>\n",
              "  </tbody>\n",
              "</table>\n",
              "</div>"
            ],
            "text/plain": [
              "                      created_at  brand_id  ...  priority_normal  priority_urgent\n",
              "id                                          ...                                  \n",
              "162875  2019-05-29T11:47:31.000Z    144968  ...                0                0\n",
              "166035  2019-06-12T15:23:14.000Z    144968  ...                0                0\n",
              "182449  2019-08-23T21:13:47.000Z    144968  ...                1                0\n",
              "189041  2019-09-20T16:33:59.000Z    144968  ...                1                0\n",
              "207873  2019-12-09T13:54:47.000Z    144968  ...                1                0\n",
              "\n",
              "[5 rows x 21 columns]"
            ]
          },
          "metadata": {
            "tags": []
          },
          "execution_count": 17
        }
      ]
    },
    {
      "cell_type": "markdown",
      "metadata": {
        "id": "8XVW3BO9Xa5s"
      },
      "source": [
        "#### 'requester_id' igual à 'submitter_id'"
      ]
    },
    {
      "cell_type": "code",
      "metadata": {
        "id": "OZnSPp9dqFdV",
        "colab": {
          "base_uri": "https://localhost:8080/",
          "height": 339
        },
        "outputId": "6aa9e6e3-5471-416f-fd14-a8b8d400f85d"
      },
      "source": [
        "# Criar dado para 'requester_id' igual à 'submitter_id\"\n",
        "\n",
        "# Para quando o requester e o submitter são iguais, o valor é 0\n",
        "# Para quando o requester e o submiter são diferentes, o valor é 1\n",
        "\n",
        "data = []\n",
        "\n",
        "for i in tickets.index:\n",
        "  if tickets.loc[i,'requester_id'] == tickets.loc[i,'submitter_id']:\n",
        "    data.append(0)\n",
        "  else:\n",
        "    data.append(1)\n",
        "\n",
        "tickets['requester_equal_submitter'] = data\n",
        "tickets.head()"
      ],
      "execution_count": 18,
      "outputs": [
        {
          "output_type": "execute_result",
          "data": {
            "text/html": [
              "<div>\n",
              "<style scoped>\n",
              "    .dataframe tbody tr th:only-of-type {\n",
              "        vertical-align: middle;\n",
              "    }\n",
              "\n",
              "    .dataframe tbody tr th {\n",
              "        vertical-align: top;\n",
              "    }\n",
              "\n",
              "    .dataframe thead th {\n",
              "        text-align: right;\n",
              "    }\n",
              "</style>\n",
              "<table border=\"1\" class=\"dataframe\">\n",
              "  <thead>\n",
              "    <tr style=\"text-align: right;\">\n",
              "      <th></th>\n",
              "      <th>created_at</th>\n",
              "      <th>brand_id</th>\n",
              "      <th>submitter_id</th>\n",
              "      <th>group_id</th>\n",
              "      <th>organization_id</th>\n",
              "      <th>has_partner</th>\n",
              "      <th>has_success_manager</th>\n",
              "      <th>requester_id</th>\n",
              "      <th>requester_created_at</th>\n",
              "      <th>requester_nps</th>\n",
              "      <th>requester_platform_skills</th>\n",
              "      <th>complexity</th>\n",
              "      <th>is_operating</th>\n",
              "      <th>weekday</th>\n",
              "      <th>type_incident</th>\n",
              "      <th>type_problem</th>\n",
              "      <th>type_question</th>\n",
              "      <th>type_task</th>\n",
              "      <th>priority_low</th>\n",
              "      <th>priority_normal</th>\n",
              "      <th>priority_urgent</th>\n",
              "      <th>requester_equal_submitter</th>\n",
              "    </tr>\n",
              "    <tr>\n",
              "      <th>id</th>\n",
              "      <th></th>\n",
              "      <th></th>\n",
              "      <th></th>\n",
              "      <th></th>\n",
              "      <th></th>\n",
              "      <th></th>\n",
              "      <th></th>\n",
              "      <th></th>\n",
              "      <th></th>\n",
              "      <th></th>\n",
              "      <th></th>\n",
              "      <th></th>\n",
              "      <th></th>\n",
              "      <th></th>\n",
              "      <th></th>\n",
              "      <th></th>\n",
              "      <th></th>\n",
              "      <th></th>\n",
              "      <th></th>\n",
              "      <th></th>\n",
              "      <th></th>\n",
              "      <th></th>\n",
              "    </tr>\n",
              "  </thead>\n",
              "  <tbody>\n",
              "    <tr>\n",
              "      <th>162875</th>\n",
              "      <td>2019-05-29T11:47:31.000Z</td>\n",
              "      <td>144968</td>\n",
              "      <td>8958433768</td>\n",
              "      <td>3.600088e+11</td>\n",
              "      <td>3.601459e+11</td>\n",
              "      <td>False</td>\n",
              "      <td>False</td>\n",
              "      <td>8958433768</td>\n",
              "      <td>2016-08-03T15:18:13.000Z</td>\n",
              "      <td>nps-detractor</td>\n",
              "      <td>platform-skills-advanced</td>\n",
              "      <td>high</td>\n",
              "      <td>None</td>\n",
              "      <td>2</td>\n",
              "      <td>1</td>\n",
              "      <td>0</td>\n",
              "      <td>0</td>\n",
              "      <td>0</td>\n",
              "      <td>0</td>\n",
              "      <td>0</td>\n",
              "      <td>0</td>\n",
              "      <td>0</td>\n",
              "    </tr>\n",
              "    <tr>\n",
              "      <th>166035</th>\n",
              "      <td>2019-06-12T15:23:14.000Z</td>\n",
              "      <td>144968</td>\n",
              "      <td>8958433768</td>\n",
              "      <td>3.600139e+11</td>\n",
              "      <td>3.601459e+11</td>\n",
              "      <td>False</td>\n",
              "      <td>False</td>\n",
              "      <td>8958433768</td>\n",
              "      <td>2016-08-03T15:18:13.000Z</td>\n",
              "      <td>nps-detractor</td>\n",
              "      <td>platform-skills-advanced</td>\n",
              "      <td>very_high</td>\n",
              "      <td>None</td>\n",
              "      <td>2</td>\n",
              "      <td>1</td>\n",
              "      <td>0</td>\n",
              "      <td>0</td>\n",
              "      <td>0</td>\n",
              "      <td>0</td>\n",
              "      <td>0</td>\n",
              "      <td>0</td>\n",
              "      <td>0</td>\n",
              "    </tr>\n",
              "    <tr>\n",
              "      <th>182449</th>\n",
              "      <td>2019-08-23T21:13:47.000Z</td>\n",
              "      <td>144968</td>\n",
              "      <td>379450971772</td>\n",
              "      <td>3.600155e+11</td>\n",
              "      <td>2.559354e+08</td>\n",
              "      <td>False</td>\n",
              "      <td>False</td>\n",
              "      <td>379450971772</td>\n",
              "      <td>2019-04-04T13:34:21.000Z</td>\n",
              "      <td>None</td>\n",
              "      <td>platform-skills-advanced</td>\n",
              "      <td>very_high</td>\n",
              "      <td>None</td>\n",
              "      <td>4</td>\n",
              "      <td>0</td>\n",
              "      <td>0</td>\n",
              "      <td>1</td>\n",
              "      <td>0</td>\n",
              "      <td>0</td>\n",
              "      <td>1</td>\n",
              "      <td>0</td>\n",
              "      <td>0</td>\n",
              "    </tr>\n",
              "    <tr>\n",
              "      <th>189041</th>\n",
              "      <td>2019-09-20T16:33:59.000Z</td>\n",
              "      <td>144968</td>\n",
              "      <td>378569033032</td>\n",
              "      <td>3.600120e+11</td>\n",
              "      <td>1.403345e+08</td>\n",
              "      <td>True</td>\n",
              "      <td>False</td>\n",
              "      <td>378569033032</td>\n",
              "      <td>2019-03-18T20:21:53.000Z</td>\n",
              "      <td>None</td>\n",
              "      <td>platform-skills-intermediate</td>\n",
              "      <td>moderate</td>\n",
              "      <td>None</td>\n",
              "      <td>4</td>\n",
              "      <td>1</td>\n",
              "      <td>0</td>\n",
              "      <td>0</td>\n",
              "      <td>0</td>\n",
              "      <td>0</td>\n",
              "      <td>1</td>\n",
              "      <td>0</td>\n",
              "      <td>0</td>\n",
              "    </tr>\n",
              "    <tr>\n",
              "      <th>207873</th>\n",
              "      <td>2019-12-09T13:54:47.000Z</td>\n",
              "      <td>144968</td>\n",
              "      <td>367450009112</td>\n",
              "      <td>3.600124e+11</td>\n",
              "      <td>3.600242e+11</td>\n",
              "      <td>False</td>\n",
              "      <td>False</td>\n",
              "      <td>367450009112</td>\n",
              "      <td>2018-07-25T06:41:31.000Z</td>\n",
              "      <td>None</td>\n",
              "      <td>platform-skills-advanced</td>\n",
              "      <td>None</td>\n",
              "      <td>None</td>\n",
              "      <td>0</td>\n",
              "      <td>0</td>\n",
              "      <td>0</td>\n",
              "      <td>0</td>\n",
              "      <td>0</td>\n",
              "      <td>0</td>\n",
              "      <td>1</td>\n",
              "      <td>0</td>\n",
              "      <td>0</td>\n",
              "    </tr>\n",
              "  </tbody>\n",
              "</table>\n",
              "</div>"
            ],
            "text/plain": [
              "                      created_at  ...  requester_equal_submitter\n",
              "id                                ...                           \n",
              "162875  2019-05-29T11:47:31.000Z  ...                          0\n",
              "166035  2019-06-12T15:23:14.000Z  ...                          0\n",
              "182449  2019-08-23T21:13:47.000Z  ...                          0\n",
              "189041  2019-09-20T16:33:59.000Z  ...                          0\n",
              "207873  2019-12-09T13:54:47.000Z  ...                          0\n",
              "\n",
              "[5 rows x 22 columns]"
            ]
          },
          "metadata": {
            "tags": []
          },
          "execution_count": 18
        }
      ]
    },
    {
      "cell_type": "markdown",
      "metadata": {
        "id": "lSDAf3vWZSrr"
      },
      "source": [
        "#### 'has_partner' e 'has_success_manager'"
      ]
    },
    {
      "cell_type": "code",
      "metadata": {
        "id": "g1Wd4d8PZXF1"
      },
      "source": [
        "tickets['has_partner'] = tickets['has_partner'].replace({True: 1, False: 0})"
      ],
      "execution_count": 19,
      "outputs": []
    },
    {
      "cell_type": "code",
      "metadata": {
        "id": "A2LeOIF1Z_7q"
      },
      "source": [
        "tickets['has_success_manager'] = tickets['has_success_manager'].replace({True: 1, False: 0})"
      ],
      "execution_count": 20,
      "outputs": []
    },
    {
      "cell_type": "code",
      "metadata": {
        "colab": {
          "base_uri": "https://localhost:8080/",
          "height": 339
        },
        "id": "or2MoWg1Z3Nf",
        "outputId": "de43e3d0-21de-4d56-e65e-3f90029336cd"
      },
      "source": [
        "tickets.head()"
      ],
      "execution_count": 21,
      "outputs": [
        {
          "output_type": "execute_result",
          "data": {
            "text/html": [
              "<div>\n",
              "<style scoped>\n",
              "    .dataframe tbody tr th:only-of-type {\n",
              "        vertical-align: middle;\n",
              "    }\n",
              "\n",
              "    .dataframe tbody tr th {\n",
              "        vertical-align: top;\n",
              "    }\n",
              "\n",
              "    .dataframe thead th {\n",
              "        text-align: right;\n",
              "    }\n",
              "</style>\n",
              "<table border=\"1\" class=\"dataframe\">\n",
              "  <thead>\n",
              "    <tr style=\"text-align: right;\">\n",
              "      <th></th>\n",
              "      <th>created_at</th>\n",
              "      <th>brand_id</th>\n",
              "      <th>submitter_id</th>\n",
              "      <th>group_id</th>\n",
              "      <th>organization_id</th>\n",
              "      <th>has_partner</th>\n",
              "      <th>has_success_manager</th>\n",
              "      <th>requester_id</th>\n",
              "      <th>requester_created_at</th>\n",
              "      <th>requester_nps</th>\n",
              "      <th>requester_platform_skills</th>\n",
              "      <th>complexity</th>\n",
              "      <th>is_operating</th>\n",
              "      <th>weekday</th>\n",
              "      <th>type_incident</th>\n",
              "      <th>type_problem</th>\n",
              "      <th>type_question</th>\n",
              "      <th>type_task</th>\n",
              "      <th>priority_low</th>\n",
              "      <th>priority_normal</th>\n",
              "      <th>priority_urgent</th>\n",
              "      <th>requester_equal_submitter</th>\n",
              "    </tr>\n",
              "    <tr>\n",
              "      <th>id</th>\n",
              "      <th></th>\n",
              "      <th></th>\n",
              "      <th></th>\n",
              "      <th></th>\n",
              "      <th></th>\n",
              "      <th></th>\n",
              "      <th></th>\n",
              "      <th></th>\n",
              "      <th></th>\n",
              "      <th></th>\n",
              "      <th></th>\n",
              "      <th></th>\n",
              "      <th></th>\n",
              "      <th></th>\n",
              "      <th></th>\n",
              "      <th></th>\n",
              "      <th></th>\n",
              "      <th></th>\n",
              "      <th></th>\n",
              "      <th></th>\n",
              "      <th></th>\n",
              "      <th></th>\n",
              "    </tr>\n",
              "  </thead>\n",
              "  <tbody>\n",
              "    <tr>\n",
              "      <th>162875</th>\n",
              "      <td>2019-05-29T11:47:31.000Z</td>\n",
              "      <td>144968</td>\n",
              "      <td>8958433768</td>\n",
              "      <td>3.600088e+11</td>\n",
              "      <td>3.601459e+11</td>\n",
              "      <td>0.0</td>\n",
              "      <td>0.0</td>\n",
              "      <td>8958433768</td>\n",
              "      <td>2016-08-03T15:18:13.000Z</td>\n",
              "      <td>nps-detractor</td>\n",
              "      <td>platform-skills-advanced</td>\n",
              "      <td>high</td>\n",
              "      <td>None</td>\n",
              "      <td>2</td>\n",
              "      <td>1</td>\n",
              "      <td>0</td>\n",
              "      <td>0</td>\n",
              "      <td>0</td>\n",
              "      <td>0</td>\n",
              "      <td>0</td>\n",
              "      <td>0</td>\n",
              "      <td>0</td>\n",
              "    </tr>\n",
              "    <tr>\n",
              "      <th>166035</th>\n",
              "      <td>2019-06-12T15:23:14.000Z</td>\n",
              "      <td>144968</td>\n",
              "      <td>8958433768</td>\n",
              "      <td>3.600139e+11</td>\n",
              "      <td>3.601459e+11</td>\n",
              "      <td>0.0</td>\n",
              "      <td>0.0</td>\n",
              "      <td>8958433768</td>\n",
              "      <td>2016-08-03T15:18:13.000Z</td>\n",
              "      <td>nps-detractor</td>\n",
              "      <td>platform-skills-advanced</td>\n",
              "      <td>very_high</td>\n",
              "      <td>None</td>\n",
              "      <td>2</td>\n",
              "      <td>1</td>\n",
              "      <td>0</td>\n",
              "      <td>0</td>\n",
              "      <td>0</td>\n",
              "      <td>0</td>\n",
              "      <td>0</td>\n",
              "      <td>0</td>\n",
              "      <td>0</td>\n",
              "    </tr>\n",
              "    <tr>\n",
              "      <th>182449</th>\n",
              "      <td>2019-08-23T21:13:47.000Z</td>\n",
              "      <td>144968</td>\n",
              "      <td>379450971772</td>\n",
              "      <td>3.600155e+11</td>\n",
              "      <td>2.559354e+08</td>\n",
              "      <td>0.0</td>\n",
              "      <td>0.0</td>\n",
              "      <td>379450971772</td>\n",
              "      <td>2019-04-04T13:34:21.000Z</td>\n",
              "      <td>None</td>\n",
              "      <td>platform-skills-advanced</td>\n",
              "      <td>very_high</td>\n",
              "      <td>None</td>\n",
              "      <td>4</td>\n",
              "      <td>0</td>\n",
              "      <td>0</td>\n",
              "      <td>1</td>\n",
              "      <td>0</td>\n",
              "      <td>0</td>\n",
              "      <td>1</td>\n",
              "      <td>0</td>\n",
              "      <td>0</td>\n",
              "    </tr>\n",
              "    <tr>\n",
              "      <th>189041</th>\n",
              "      <td>2019-09-20T16:33:59.000Z</td>\n",
              "      <td>144968</td>\n",
              "      <td>378569033032</td>\n",
              "      <td>3.600120e+11</td>\n",
              "      <td>1.403345e+08</td>\n",
              "      <td>1.0</td>\n",
              "      <td>0.0</td>\n",
              "      <td>378569033032</td>\n",
              "      <td>2019-03-18T20:21:53.000Z</td>\n",
              "      <td>None</td>\n",
              "      <td>platform-skills-intermediate</td>\n",
              "      <td>moderate</td>\n",
              "      <td>None</td>\n",
              "      <td>4</td>\n",
              "      <td>1</td>\n",
              "      <td>0</td>\n",
              "      <td>0</td>\n",
              "      <td>0</td>\n",
              "      <td>0</td>\n",
              "      <td>1</td>\n",
              "      <td>0</td>\n",
              "      <td>0</td>\n",
              "    </tr>\n",
              "    <tr>\n",
              "      <th>207873</th>\n",
              "      <td>2019-12-09T13:54:47.000Z</td>\n",
              "      <td>144968</td>\n",
              "      <td>367450009112</td>\n",
              "      <td>3.600124e+11</td>\n",
              "      <td>3.600242e+11</td>\n",
              "      <td>0.0</td>\n",
              "      <td>0.0</td>\n",
              "      <td>367450009112</td>\n",
              "      <td>2018-07-25T06:41:31.000Z</td>\n",
              "      <td>None</td>\n",
              "      <td>platform-skills-advanced</td>\n",
              "      <td>None</td>\n",
              "      <td>None</td>\n",
              "      <td>0</td>\n",
              "      <td>0</td>\n",
              "      <td>0</td>\n",
              "      <td>0</td>\n",
              "      <td>0</td>\n",
              "      <td>0</td>\n",
              "      <td>1</td>\n",
              "      <td>0</td>\n",
              "      <td>0</td>\n",
              "    </tr>\n",
              "  </tbody>\n",
              "</table>\n",
              "</div>"
            ],
            "text/plain": [
              "                      created_at  ...  requester_equal_submitter\n",
              "id                                ...                           \n",
              "162875  2019-05-29T11:47:31.000Z  ...                          0\n",
              "166035  2019-06-12T15:23:14.000Z  ...                          0\n",
              "182449  2019-08-23T21:13:47.000Z  ...                          0\n",
              "189041  2019-09-20T16:33:59.000Z  ...                          0\n",
              "207873  2019-12-09T13:54:47.000Z  ...                          0\n",
              "\n",
              "[5 rows x 22 columns]"
            ]
          },
          "metadata": {
            "tags": []
          },
          "execution_count": 21
        }
      ]
    },
    {
      "cell_type": "markdown",
      "metadata": {
        "id": "q0FrFw0faSdQ"
      },
      "source": [
        "#### 'requester_created_at'"
      ]
    },
    {
      "cell_type": "code",
      "metadata": {
        "colab": {
          "base_uri": "https://localhost:8080/",
          "height": 339
        },
        "id": "_-Wb0LUuaq1d",
        "outputId": "9c68cad4-5525-4994-8d65-37a9d80fe6fa"
      },
      "source": [
        "# Calculando tempo de duração do requester com base na data de criação menos data de abertura do ticket\n",
        "\n",
        "\n",
        "creationUser = []\n",
        "for i in tickets['requester_created_at']:\n",
        "    creationUser.append(datetime.strptime(i, '%Y-%m-%dT%H:%M:%S.000Z').date())\n",
        "\n",
        "creationTicket = []\n",
        "for i in tickets['created_at']:\n",
        "    creationTicket.append(datetime.strptime(i, '%Y-%m-%dT%H:%M:%S.000Z').date())\n",
        "    \n",
        "duration_days = []\n",
        "for i in range(len(creationUser)):\n",
        "    duration_days.append((creationTicket[i]-creationUser[i]).days)\n",
        "\n",
        "# Incluindo nova coluna ao DataFrame com dados de duração dos tickets\n",
        "tickets['requester_duration_days'] = duration_days\n",
        "tickets.head()"
      ],
      "execution_count": 22,
      "outputs": [
        {
          "output_type": "execute_result",
          "data": {
            "text/html": [
              "<div>\n",
              "<style scoped>\n",
              "    .dataframe tbody tr th:only-of-type {\n",
              "        vertical-align: middle;\n",
              "    }\n",
              "\n",
              "    .dataframe tbody tr th {\n",
              "        vertical-align: top;\n",
              "    }\n",
              "\n",
              "    .dataframe thead th {\n",
              "        text-align: right;\n",
              "    }\n",
              "</style>\n",
              "<table border=\"1\" class=\"dataframe\">\n",
              "  <thead>\n",
              "    <tr style=\"text-align: right;\">\n",
              "      <th></th>\n",
              "      <th>created_at</th>\n",
              "      <th>brand_id</th>\n",
              "      <th>submitter_id</th>\n",
              "      <th>group_id</th>\n",
              "      <th>organization_id</th>\n",
              "      <th>has_partner</th>\n",
              "      <th>has_success_manager</th>\n",
              "      <th>requester_id</th>\n",
              "      <th>requester_created_at</th>\n",
              "      <th>requester_nps</th>\n",
              "      <th>requester_platform_skills</th>\n",
              "      <th>complexity</th>\n",
              "      <th>is_operating</th>\n",
              "      <th>weekday</th>\n",
              "      <th>type_incident</th>\n",
              "      <th>type_problem</th>\n",
              "      <th>type_question</th>\n",
              "      <th>type_task</th>\n",
              "      <th>priority_low</th>\n",
              "      <th>priority_normal</th>\n",
              "      <th>priority_urgent</th>\n",
              "      <th>requester_equal_submitter</th>\n",
              "      <th>requester_duration_days</th>\n",
              "    </tr>\n",
              "    <tr>\n",
              "      <th>id</th>\n",
              "      <th></th>\n",
              "      <th></th>\n",
              "      <th></th>\n",
              "      <th></th>\n",
              "      <th></th>\n",
              "      <th></th>\n",
              "      <th></th>\n",
              "      <th></th>\n",
              "      <th></th>\n",
              "      <th></th>\n",
              "      <th></th>\n",
              "      <th></th>\n",
              "      <th></th>\n",
              "      <th></th>\n",
              "      <th></th>\n",
              "      <th></th>\n",
              "      <th></th>\n",
              "      <th></th>\n",
              "      <th></th>\n",
              "      <th></th>\n",
              "      <th></th>\n",
              "      <th></th>\n",
              "      <th></th>\n",
              "    </tr>\n",
              "  </thead>\n",
              "  <tbody>\n",
              "    <tr>\n",
              "      <th>162875</th>\n",
              "      <td>2019-05-29T11:47:31.000Z</td>\n",
              "      <td>144968</td>\n",
              "      <td>8958433768</td>\n",
              "      <td>3.600088e+11</td>\n",
              "      <td>3.601459e+11</td>\n",
              "      <td>0.0</td>\n",
              "      <td>0.0</td>\n",
              "      <td>8958433768</td>\n",
              "      <td>2016-08-03T15:18:13.000Z</td>\n",
              "      <td>nps-detractor</td>\n",
              "      <td>platform-skills-advanced</td>\n",
              "      <td>high</td>\n",
              "      <td>None</td>\n",
              "      <td>2</td>\n",
              "      <td>1</td>\n",
              "      <td>0</td>\n",
              "      <td>0</td>\n",
              "      <td>0</td>\n",
              "      <td>0</td>\n",
              "      <td>0</td>\n",
              "      <td>0</td>\n",
              "      <td>0</td>\n",
              "      <td>1029</td>\n",
              "    </tr>\n",
              "    <tr>\n",
              "      <th>166035</th>\n",
              "      <td>2019-06-12T15:23:14.000Z</td>\n",
              "      <td>144968</td>\n",
              "      <td>8958433768</td>\n",
              "      <td>3.600139e+11</td>\n",
              "      <td>3.601459e+11</td>\n",
              "      <td>0.0</td>\n",
              "      <td>0.0</td>\n",
              "      <td>8958433768</td>\n",
              "      <td>2016-08-03T15:18:13.000Z</td>\n",
              "      <td>nps-detractor</td>\n",
              "      <td>platform-skills-advanced</td>\n",
              "      <td>very_high</td>\n",
              "      <td>None</td>\n",
              "      <td>2</td>\n",
              "      <td>1</td>\n",
              "      <td>0</td>\n",
              "      <td>0</td>\n",
              "      <td>0</td>\n",
              "      <td>0</td>\n",
              "      <td>0</td>\n",
              "      <td>0</td>\n",
              "      <td>0</td>\n",
              "      <td>1043</td>\n",
              "    </tr>\n",
              "    <tr>\n",
              "      <th>182449</th>\n",
              "      <td>2019-08-23T21:13:47.000Z</td>\n",
              "      <td>144968</td>\n",
              "      <td>379450971772</td>\n",
              "      <td>3.600155e+11</td>\n",
              "      <td>2.559354e+08</td>\n",
              "      <td>0.0</td>\n",
              "      <td>0.0</td>\n",
              "      <td>379450971772</td>\n",
              "      <td>2019-04-04T13:34:21.000Z</td>\n",
              "      <td>None</td>\n",
              "      <td>platform-skills-advanced</td>\n",
              "      <td>very_high</td>\n",
              "      <td>None</td>\n",
              "      <td>4</td>\n",
              "      <td>0</td>\n",
              "      <td>0</td>\n",
              "      <td>1</td>\n",
              "      <td>0</td>\n",
              "      <td>0</td>\n",
              "      <td>1</td>\n",
              "      <td>0</td>\n",
              "      <td>0</td>\n",
              "      <td>141</td>\n",
              "    </tr>\n",
              "    <tr>\n",
              "      <th>189041</th>\n",
              "      <td>2019-09-20T16:33:59.000Z</td>\n",
              "      <td>144968</td>\n",
              "      <td>378569033032</td>\n",
              "      <td>3.600120e+11</td>\n",
              "      <td>1.403345e+08</td>\n",
              "      <td>1.0</td>\n",
              "      <td>0.0</td>\n",
              "      <td>378569033032</td>\n",
              "      <td>2019-03-18T20:21:53.000Z</td>\n",
              "      <td>None</td>\n",
              "      <td>platform-skills-intermediate</td>\n",
              "      <td>moderate</td>\n",
              "      <td>None</td>\n",
              "      <td>4</td>\n",
              "      <td>1</td>\n",
              "      <td>0</td>\n",
              "      <td>0</td>\n",
              "      <td>0</td>\n",
              "      <td>0</td>\n",
              "      <td>1</td>\n",
              "      <td>0</td>\n",
              "      <td>0</td>\n",
              "      <td>186</td>\n",
              "    </tr>\n",
              "    <tr>\n",
              "      <th>207873</th>\n",
              "      <td>2019-12-09T13:54:47.000Z</td>\n",
              "      <td>144968</td>\n",
              "      <td>367450009112</td>\n",
              "      <td>3.600124e+11</td>\n",
              "      <td>3.600242e+11</td>\n",
              "      <td>0.0</td>\n",
              "      <td>0.0</td>\n",
              "      <td>367450009112</td>\n",
              "      <td>2018-07-25T06:41:31.000Z</td>\n",
              "      <td>None</td>\n",
              "      <td>platform-skills-advanced</td>\n",
              "      <td>None</td>\n",
              "      <td>None</td>\n",
              "      <td>0</td>\n",
              "      <td>0</td>\n",
              "      <td>0</td>\n",
              "      <td>0</td>\n",
              "      <td>0</td>\n",
              "      <td>0</td>\n",
              "      <td>1</td>\n",
              "      <td>0</td>\n",
              "      <td>0</td>\n",
              "      <td>502</td>\n",
              "    </tr>\n",
              "  </tbody>\n",
              "</table>\n",
              "</div>"
            ],
            "text/plain": [
              "                      created_at  ...  requester_duration_days\n",
              "id                                ...                         \n",
              "162875  2019-05-29T11:47:31.000Z  ...                     1029\n",
              "166035  2019-06-12T15:23:14.000Z  ...                     1043\n",
              "182449  2019-08-23T21:13:47.000Z  ...                      141\n",
              "189041  2019-09-20T16:33:59.000Z  ...                      186\n",
              "207873  2019-12-09T13:54:47.000Z  ...                      502\n",
              "\n",
              "[5 rows x 23 columns]"
            ]
          },
          "metadata": {
            "tags": []
          },
          "execution_count": 22
        }
      ]
    },
    {
      "cell_type": "markdown",
      "metadata": {
        "id": "RxdW0mogckRU"
      },
      "source": [
        "#### One Hot Encoding para variáveis 'requester_nps' e 'requester_platform_skills'"
      ]
    },
    {
      "cell_type": "code",
      "metadata": {
        "colab": {
          "base_uri": "https://localhost:8080/"
        },
        "id": "I-e5Z4Uac8Yz",
        "outputId": "dab79481-1f14-44d0-f849-0c9f4686ec9f"
      },
      "source": [
        "# Valores únicos em variáveis\n",
        "\n",
        "tickets['requester_nps'].unique()"
      ],
      "execution_count": 23,
      "outputs": [
        {
          "output_type": "execute_result",
          "data": {
            "text/plain": [
              "array(['nps-detractor', None, 'nps-promoter', 'nps-passive'], dtype=object)"
            ]
          },
          "metadata": {
            "tags": []
          },
          "execution_count": 23
        }
      ]
    },
    {
      "cell_type": "code",
      "metadata": {
        "colab": {
          "base_uri": "https://localhost:8080/"
        },
        "id": "gqhgpp4Tc8UI",
        "outputId": "bad31a43-d039-453f-b49d-55521a6995ed"
      },
      "source": [
        "tickets['requester_platform_skills'].unique()"
      ],
      "execution_count": 24,
      "outputs": [
        {
          "output_type": "execute_result",
          "data": {
            "text/plain": [
              "array(['platform-skills-advanced', 'platform-skills-intermediate',\n",
              "       'platform-skills-beginner', None], dtype=object)"
            ]
          },
          "metadata": {
            "tags": []
          },
          "execution_count": 24
        }
      ]
    },
    {
      "cell_type": "code",
      "metadata": {
        "colab": {
          "base_uri": "https://localhost:8080/",
          "height": 233
        },
        "id": "us76-KwDdYaa",
        "outputId": "cea22c25-aa23-410b-ab6b-febab2995705"
      },
      "source": [
        "# Transformando variável categórica com One Hot Encoding\n",
        "nps = pd.get_dummies(tickets.requester_nps, prefix = 'requester', drop_first = False)\n",
        "nps.head()"
      ],
      "execution_count": 25,
      "outputs": [
        {
          "output_type": "execute_result",
          "data": {
            "text/html": [
              "<div>\n",
              "<style scoped>\n",
              "    .dataframe tbody tr th:only-of-type {\n",
              "        vertical-align: middle;\n",
              "    }\n",
              "\n",
              "    .dataframe tbody tr th {\n",
              "        vertical-align: top;\n",
              "    }\n",
              "\n",
              "    .dataframe thead th {\n",
              "        text-align: right;\n",
              "    }\n",
              "</style>\n",
              "<table border=\"1\" class=\"dataframe\">\n",
              "  <thead>\n",
              "    <tr style=\"text-align: right;\">\n",
              "      <th></th>\n",
              "      <th>requester_nps-detractor</th>\n",
              "      <th>requester_nps-passive</th>\n",
              "      <th>requester_nps-promoter</th>\n",
              "    </tr>\n",
              "    <tr>\n",
              "      <th>id</th>\n",
              "      <th></th>\n",
              "      <th></th>\n",
              "      <th></th>\n",
              "    </tr>\n",
              "  </thead>\n",
              "  <tbody>\n",
              "    <tr>\n",
              "      <th>162875</th>\n",
              "      <td>1</td>\n",
              "      <td>0</td>\n",
              "      <td>0</td>\n",
              "    </tr>\n",
              "    <tr>\n",
              "      <th>166035</th>\n",
              "      <td>1</td>\n",
              "      <td>0</td>\n",
              "      <td>0</td>\n",
              "    </tr>\n",
              "    <tr>\n",
              "      <th>182449</th>\n",
              "      <td>0</td>\n",
              "      <td>0</td>\n",
              "      <td>0</td>\n",
              "    </tr>\n",
              "    <tr>\n",
              "      <th>189041</th>\n",
              "      <td>0</td>\n",
              "      <td>0</td>\n",
              "      <td>0</td>\n",
              "    </tr>\n",
              "    <tr>\n",
              "      <th>207873</th>\n",
              "      <td>0</td>\n",
              "      <td>0</td>\n",
              "      <td>0</td>\n",
              "    </tr>\n",
              "  </tbody>\n",
              "</table>\n",
              "</div>"
            ],
            "text/plain": [
              "        requester_nps-detractor  requester_nps-passive  requester_nps-promoter\n",
              "id                                                                            \n",
              "162875                        1                      0                       0\n",
              "166035                        1                      0                       0\n",
              "182449                        0                      0                       0\n",
              "189041                        0                      0                       0\n",
              "207873                        0                      0                       0"
            ]
          },
          "metadata": {
            "tags": []
          },
          "execution_count": 25
        }
      ]
    },
    {
      "cell_type": "code",
      "metadata": {
        "colab": {
          "base_uri": "https://localhost:8080/",
          "height": 233
        },
        "id": "kjTv0GlOd5E8",
        "outputId": "4dd62fab-572d-46ba-8210-9eca3d9fcaff"
      },
      "source": [
        "plataformSkills = pd.get_dummies(tickets.requester_platform_skills, prefix = 'requester', drop_first = False)\n",
        "plataformSkills.head()"
      ],
      "execution_count": 26,
      "outputs": [
        {
          "output_type": "execute_result",
          "data": {
            "text/html": [
              "<div>\n",
              "<style scoped>\n",
              "    .dataframe tbody tr th:only-of-type {\n",
              "        vertical-align: middle;\n",
              "    }\n",
              "\n",
              "    .dataframe tbody tr th {\n",
              "        vertical-align: top;\n",
              "    }\n",
              "\n",
              "    .dataframe thead th {\n",
              "        text-align: right;\n",
              "    }\n",
              "</style>\n",
              "<table border=\"1\" class=\"dataframe\">\n",
              "  <thead>\n",
              "    <tr style=\"text-align: right;\">\n",
              "      <th></th>\n",
              "      <th>requester_platform-skills-advanced</th>\n",
              "      <th>requester_platform-skills-beginner</th>\n",
              "      <th>requester_platform-skills-intermediate</th>\n",
              "    </tr>\n",
              "    <tr>\n",
              "      <th>id</th>\n",
              "      <th></th>\n",
              "      <th></th>\n",
              "      <th></th>\n",
              "    </tr>\n",
              "  </thead>\n",
              "  <tbody>\n",
              "    <tr>\n",
              "      <th>162875</th>\n",
              "      <td>1</td>\n",
              "      <td>0</td>\n",
              "      <td>0</td>\n",
              "    </tr>\n",
              "    <tr>\n",
              "      <th>166035</th>\n",
              "      <td>1</td>\n",
              "      <td>0</td>\n",
              "      <td>0</td>\n",
              "    </tr>\n",
              "    <tr>\n",
              "      <th>182449</th>\n",
              "      <td>1</td>\n",
              "      <td>0</td>\n",
              "      <td>0</td>\n",
              "    </tr>\n",
              "    <tr>\n",
              "      <th>189041</th>\n",
              "      <td>0</td>\n",
              "      <td>0</td>\n",
              "      <td>1</td>\n",
              "    </tr>\n",
              "    <tr>\n",
              "      <th>207873</th>\n",
              "      <td>1</td>\n",
              "      <td>0</td>\n",
              "      <td>0</td>\n",
              "    </tr>\n",
              "  </tbody>\n",
              "</table>\n",
              "</div>"
            ],
            "text/plain": [
              "        requester_platform-skills-advanced  ...  requester_platform-skills-intermediate\n",
              "id                                          ...                                        \n",
              "162875                                   1  ...                                       0\n",
              "166035                                   1  ...                                       0\n",
              "182449                                   1  ...                                       0\n",
              "189041                                   0  ...                                       1\n",
              "207873                                   1  ...                                       0\n",
              "\n",
              "[5 rows x 3 columns]"
            ]
          },
          "metadata": {
            "tags": []
          },
          "execution_count": 26
        }
      ]
    },
    {
      "cell_type": "code",
      "metadata": {
        "colab": {
          "base_uri": "https://localhost:8080/",
          "height": 357
        },
        "id": "PjmXa6e5fhZG",
        "outputId": "601b5a50-ee91-4319-ab33-68e737564e91"
      },
      "source": [
        "# Dando merge nos DataFrames e excluindo as variáveis originais\n",
        "frames = [tickets, nps, plataformSkills]\n",
        "tickets = pd.concat(frames,axis=1)\n",
        "tickets = tickets.drop(['requester_nps','requester_platform_skills'], axis=1)\n",
        "tickets.head()"
      ],
      "execution_count": 27,
      "outputs": [
        {
          "output_type": "execute_result",
          "data": {
            "text/html": [
              "<div>\n",
              "<style scoped>\n",
              "    .dataframe tbody tr th:only-of-type {\n",
              "        vertical-align: middle;\n",
              "    }\n",
              "\n",
              "    .dataframe tbody tr th {\n",
              "        vertical-align: top;\n",
              "    }\n",
              "\n",
              "    .dataframe thead th {\n",
              "        text-align: right;\n",
              "    }\n",
              "</style>\n",
              "<table border=\"1\" class=\"dataframe\">\n",
              "  <thead>\n",
              "    <tr style=\"text-align: right;\">\n",
              "      <th></th>\n",
              "      <th>created_at</th>\n",
              "      <th>brand_id</th>\n",
              "      <th>submitter_id</th>\n",
              "      <th>group_id</th>\n",
              "      <th>organization_id</th>\n",
              "      <th>has_partner</th>\n",
              "      <th>has_success_manager</th>\n",
              "      <th>requester_id</th>\n",
              "      <th>requester_created_at</th>\n",
              "      <th>complexity</th>\n",
              "      <th>is_operating</th>\n",
              "      <th>weekday</th>\n",
              "      <th>type_incident</th>\n",
              "      <th>type_problem</th>\n",
              "      <th>type_question</th>\n",
              "      <th>type_task</th>\n",
              "      <th>priority_low</th>\n",
              "      <th>priority_normal</th>\n",
              "      <th>priority_urgent</th>\n",
              "      <th>requester_equal_submitter</th>\n",
              "      <th>requester_duration_days</th>\n",
              "      <th>requester_nps-detractor</th>\n",
              "      <th>requester_nps-passive</th>\n",
              "      <th>requester_nps-promoter</th>\n",
              "      <th>requester_platform-skills-advanced</th>\n",
              "      <th>requester_platform-skills-beginner</th>\n",
              "      <th>requester_platform-skills-intermediate</th>\n",
              "    </tr>\n",
              "    <tr>\n",
              "      <th>id</th>\n",
              "      <th></th>\n",
              "      <th></th>\n",
              "      <th></th>\n",
              "      <th></th>\n",
              "      <th></th>\n",
              "      <th></th>\n",
              "      <th></th>\n",
              "      <th></th>\n",
              "      <th></th>\n",
              "      <th></th>\n",
              "      <th></th>\n",
              "      <th></th>\n",
              "      <th></th>\n",
              "      <th></th>\n",
              "      <th></th>\n",
              "      <th></th>\n",
              "      <th></th>\n",
              "      <th></th>\n",
              "      <th></th>\n",
              "      <th></th>\n",
              "      <th></th>\n",
              "      <th></th>\n",
              "      <th></th>\n",
              "      <th></th>\n",
              "      <th></th>\n",
              "      <th></th>\n",
              "      <th></th>\n",
              "    </tr>\n",
              "  </thead>\n",
              "  <tbody>\n",
              "    <tr>\n",
              "      <th>162875</th>\n",
              "      <td>2019-05-29T11:47:31.000Z</td>\n",
              "      <td>144968</td>\n",
              "      <td>8958433768</td>\n",
              "      <td>3.600088e+11</td>\n",
              "      <td>3.601459e+11</td>\n",
              "      <td>0.0</td>\n",
              "      <td>0.0</td>\n",
              "      <td>8958433768</td>\n",
              "      <td>2016-08-03T15:18:13.000Z</td>\n",
              "      <td>high</td>\n",
              "      <td>None</td>\n",
              "      <td>2</td>\n",
              "      <td>1</td>\n",
              "      <td>0</td>\n",
              "      <td>0</td>\n",
              "      <td>0</td>\n",
              "      <td>0</td>\n",
              "      <td>0</td>\n",
              "      <td>0</td>\n",
              "      <td>0</td>\n",
              "      <td>1029</td>\n",
              "      <td>1</td>\n",
              "      <td>0</td>\n",
              "      <td>0</td>\n",
              "      <td>1</td>\n",
              "      <td>0</td>\n",
              "      <td>0</td>\n",
              "    </tr>\n",
              "    <tr>\n",
              "      <th>166035</th>\n",
              "      <td>2019-06-12T15:23:14.000Z</td>\n",
              "      <td>144968</td>\n",
              "      <td>8958433768</td>\n",
              "      <td>3.600139e+11</td>\n",
              "      <td>3.601459e+11</td>\n",
              "      <td>0.0</td>\n",
              "      <td>0.0</td>\n",
              "      <td>8958433768</td>\n",
              "      <td>2016-08-03T15:18:13.000Z</td>\n",
              "      <td>very_high</td>\n",
              "      <td>None</td>\n",
              "      <td>2</td>\n",
              "      <td>1</td>\n",
              "      <td>0</td>\n",
              "      <td>0</td>\n",
              "      <td>0</td>\n",
              "      <td>0</td>\n",
              "      <td>0</td>\n",
              "      <td>0</td>\n",
              "      <td>0</td>\n",
              "      <td>1043</td>\n",
              "      <td>1</td>\n",
              "      <td>0</td>\n",
              "      <td>0</td>\n",
              "      <td>1</td>\n",
              "      <td>0</td>\n",
              "      <td>0</td>\n",
              "    </tr>\n",
              "    <tr>\n",
              "      <th>182449</th>\n",
              "      <td>2019-08-23T21:13:47.000Z</td>\n",
              "      <td>144968</td>\n",
              "      <td>379450971772</td>\n",
              "      <td>3.600155e+11</td>\n",
              "      <td>2.559354e+08</td>\n",
              "      <td>0.0</td>\n",
              "      <td>0.0</td>\n",
              "      <td>379450971772</td>\n",
              "      <td>2019-04-04T13:34:21.000Z</td>\n",
              "      <td>very_high</td>\n",
              "      <td>None</td>\n",
              "      <td>4</td>\n",
              "      <td>0</td>\n",
              "      <td>0</td>\n",
              "      <td>1</td>\n",
              "      <td>0</td>\n",
              "      <td>0</td>\n",
              "      <td>1</td>\n",
              "      <td>0</td>\n",
              "      <td>0</td>\n",
              "      <td>141</td>\n",
              "      <td>0</td>\n",
              "      <td>0</td>\n",
              "      <td>0</td>\n",
              "      <td>1</td>\n",
              "      <td>0</td>\n",
              "      <td>0</td>\n",
              "    </tr>\n",
              "    <tr>\n",
              "      <th>189041</th>\n",
              "      <td>2019-09-20T16:33:59.000Z</td>\n",
              "      <td>144968</td>\n",
              "      <td>378569033032</td>\n",
              "      <td>3.600120e+11</td>\n",
              "      <td>1.403345e+08</td>\n",
              "      <td>1.0</td>\n",
              "      <td>0.0</td>\n",
              "      <td>378569033032</td>\n",
              "      <td>2019-03-18T20:21:53.000Z</td>\n",
              "      <td>moderate</td>\n",
              "      <td>None</td>\n",
              "      <td>4</td>\n",
              "      <td>1</td>\n",
              "      <td>0</td>\n",
              "      <td>0</td>\n",
              "      <td>0</td>\n",
              "      <td>0</td>\n",
              "      <td>1</td>\n",
              "      <td>0</td>\n",
              "      <td>0</td>\n",
              "      <td>186</td>\n",
              "      <td>0</td>\n",
              "      <td>0</td>\n",
              "      <td>0</td>\n",
              "      <td>0</td>\n",
              "      <td>0</td>\n",
              "      <td>1</td>\n",
              "    </tr>\n",
              "    <tr>\n",
              "      <th>207873</th>\n",
              "      <td>2019-12-09T13:54:47.000Z</td>\n",
              "      <td>144968</td>\n",
              "      <td>367450009112</td>\n",
              "      <td>3.600124e+11</td>\n",
              "      <td>3.600242e+11</td>\n",
              "      <td>0.0</td>\n",
              "      <td>0.0</td>\n",
              "      <td>367450009112</td>\n",
              "      <td>2018-07-25T06:41:31.000Z</td>\n",
              "      <td>None</td>\n",
              "      <td>None</td>\n",
              "      <td>0</td>\n",
              "      <td>0</td>\n",
              "      <td>0</td>\n",
              "      <td>0</td>\n",
              "      <td>0</td>\n",
              "      <td>0</td>\n",
              "      <td>1</td>\n",
              "      <td>0</td>\n",
              "      <td>0</td>\n",
              "      <td>502</td>\n",
              "      <td>0</td>\n",
              "      <td>0</td>\n",
              "      <td>0</td>\n",
              "      <td>1</td>\n",
              "      <td>0</td>\n",
              "      <td>0</td>\n",
              "    </tr>\n",
              "  </tbody>\n",
              "</table>\n",
              "</div>"
            ],
            "text/plain": [
              "                      created_at  ...  requester_platform-skills-intermediate\n",
              "id                                ...                                        \n",
              "162875  2019-05-29T11:47:31.000Z  ...                                       0\n",
              "166035  2019-06-12T15:23:14.000Z  ...                                       0\n",
              "182449  2019-08-23T21:13:47.000Z  ...                                       0\n",
              "189041  2019-09-20T16:33:59.000Z  ...                                       1\n",
              "207873  2019-12-09T13:54:47.000Z  ...                                       0\n",
              "\n",
              "[5 rows x 27 columns]"
            ]
          },
          "metadata": {
            "tags": []
          },
          "execution_count": 27
        }
      ]
    },
    {
      "cell_type": "markdown",
      "metadata": {
        "id": "cnKXU2gPfX1M"
      },
      "source": [
        "#### 'is_operating'"
      ]
    },
    {
      "cell_type": "code",
      "metadata": {
        "colab": {
          "base_uri": "https://localhost:8080/"
        },
        "id": "_CRJufbQc8IP",
        "outputId": "a3602870-d1d3-46f4-94a5-c97877130622"
      },
      "source": [
        "tickets['is_operating'].unique()"
      ],
      "execution_count": 28,
      "outputs": [
        {
          "output_type": "execute_result",
          "data": {
            "text/plain": [
              "array([None, 'sf-account-isoperating-true',\n",
              "       'sf-account-isoperating-false'], dtype=object)"
            ]
          },
          "metadata": {
            "tags": []
          },
          "execution_count": 28
        }
      ]
    },
    {
      "cell_type": "code",
      "metadata": {
        "id": "sz0Z1vxpeluG"
      },
      "source": [
        "# Tratando valores em 'is_operating'\n",
        "\n",
        "tickets['is_operating'] = tickets['is_operating'].replace({'sf-account-isoperating-true': 1, 'sf-account-isoperating-false': 0})"
      ],
      "execution_count": 29,
      "outputs": []
    },
    {
      "cell_type": "code",
      "metadata": {
        "colab": {
          "base_uri": "https://localhost:8080/",
          "height": 357
        },
        "id": "6cptAxsSh30c",
        "outputId": "fe6cab4e-afba-46bf-f4f2-0523a7789c34"
      },
      "source": [
        "tickets.head()"
      ],
      "execution_count": 30,
      "outputs": [
        {
          "output_type": "execute_result",
          "data": {
            "text/html": [
              "<div>\n",
              "<style scoped>\n",
              "    .dataframe tbody tr th:only-of-type {\n",
              "        vertical-align: middle;\n",
              "    }\n",
              "\n",
              "    .dataframe tbody tr th {\n",
              "        vertical-align: top;\n",
              "    }\n",
              "\n",
              "    .dataframe thead th {\n",
              "        text-align: right;\n",
              "    }\n",
              "</style>\n",
              "<table border=\"1\" class=\"dataframe\">\n",
              "  <thead>\n",
              "    <tr style=\"text-align: right;\">\n",
              "      <th></th>\n",
              "      <th>created_at</th>\n",
              "      <th>brand_id</th>\n",
              "      <th>submitter_id</th>\n",
              "      <th>group_id</th>\n",
              "      <th>organization_id</th>\n",
              "      <th>has_partner</th>\n",
              "      <th>has_success_manager</th>\n",
              "      <th>requester_id</th>\n",
              "      <th>requester_created_at</th>\n",
              "      <th>complexity</th>\n",
              "      <th>is_operating</th>\n",
              "      <th>weekday</th>\n",
              "      <th>type_incident</th>\n",
              "      <th>type_problem</th>\n",
              "      <th>type_question</th>\n",
              "      <th>type_task</th>\n",
              "      <th>priority_low</th>\n",
              "      <th>priority_normal</th>\n",
              "      <th>priority_urgent</th>\n",
              "      <th>requester_equal_submitter</th>\n",
              "      <th>requester_duration_days</th>\n",
              "      <th>requester_nps-detractor</th>\n",
              "      <th>requester_nps-passive</th>\n",
              "      <th>requester_nps-promoter</th>\n",
              "      <th>requester_platform-skills-advanced</th>\n",
              "      <th>requester_platform-skills-beginner</th>\n",
              "      <th>requester_platform-skills-intermediate</th>\n",
              "    </tr>\n",
              "    <tr>\n",
              "      <th>id</th>\n",
              "      <th></th>\n",
              "      <th></th>\n",
              "      <th></th>\n",
              "      <th></th>\n",
              "      <th></th>\n",
              "      <th></th>\n",
              "      <th></th>\n",
              "      <th></th>\n",
              "      <th></th>\n",
              "      <th></th>\n",
              "      <th></th>\n",
              "      <th></th>\n",
              "      <th></th>\n",
              "      <th></th>\n",
              "      <th></th>\n",
              "      <th></th>\n",
              "      <th></th>\n",
              "      <th></th>\n",
              "      <th></th>\n",
              "      <th></th>\n",
              "      <th></th>\n",
              "      <th></th>\n",
              "      <th></th>\n",
              "      <th></th>\n",
              "      <th></th>\n",
              "      <th></th>\n",
              "      <th></th>\n",
              "    </tr>\n",
              "  </thead>\n",
              "  <tbody>\n",
              "    <tr>\n",
              "      <th>162875</th>\n",
              "      <td>2019-05-29T11:47:31.000Z</td>\n",
              "      <td>144968</td>\n",
              "      <td>8958433768</td>\n",
              "      <td>3.600088e+11</td>\n",
              "      <td>3.601459e+11</td>\n",
              "      <td>0.0</td>\n",
              "      <td>0.0</td>\n",
              "      <td>8958433768</td>\n",
              "      <td>2016-08-03T15:18:13.000Z</td>\n",
              "      <td>high</td>\n",
              "      <td>NaN</td>\n",
              "      <td>2</td>\n",
              "      <td>1</td>\n",
              "      <td>0</td>\n",
              "      <td>0</td>\n",
              "      <td>0</td>\n",
              "      <td>0</td>\n",
              "      <td>0</td>\n",
              "      <td>0</td>\n",
              "      <td>0</td>\n",
              "      <td>1029</td>\n",
              "      <td>1</td>\n",
              "      <td>0</td>\n",
              "      <td>0</td>\n",
              "      <td>1</td>\n",
              "      <td>0</td>\n",
              "      <td>0</td>\n",
              "    </tr>\n",
              "    <tr>\n",
              "      <th>166035</th>\n",
              "      <td>2019-06-12T15:23:14.000Z</td>\n",
              "      <td>144968</td>\n",
              "      <td>8958433768</td>\n",
              "      <td>3.600139e+11</td>\n",
              "      <td>3.601459e+11</td>\n",
              "      <td>0.0</td>\n",
              "      <td>0.0</td>\n",
              "      <td>8958433768</td>\n",
              "      <td>2016-08-03T15:18:13.000Z</td>\n",
              "      <td>very_high</td>\n",
              "      <td>NaN</td>\n",
              "      <td>2</td>\n",
              "      <td>1</td>\n",
              "      <td>0</td>\n",
              "      <td>0</td>\n",
              "      <td>0</td>\n",
              "      <td>0</td>\n",
              "      <td>0</td>\n",
              "      <td>0</td>\n",
              "      <td>0</td>\n",
              "      <td>1043</td>\n",
              "      <td>1</td>\n",
              "      <td>0</td>\n",
              "      <td>0</td>\n",
              "      <td>1</td>\n",
              "      <td>0</td>\n",
              "      <td>0</td>\n",
              "    </tr>\n",
              "    <tr>\n",
              "      <th>182449</th>\n",
              "      <td>2019-08-23T21:13:47.000Z</td>\n",
              "      <td>144968</td>\n",
              "      <td>379450971772</td>\n",
              "      <td>3.600155e+11</td>\n",
              "      <td>2.559354e+08</td>\n",
              "      <td>0.0</td>\n",
              "      <td>0.0</td>\n",
              "      <td>379450971772</td>\n",
              "      <td>2019-04-04T13:34:21.000Z</td>\n",
              "      <td>very_high</td>\n",
              "      <td>NaN</td>\n",
              "      <td>4</td>\n",
              "      <td>0</td>\n",
              "      <td>0</td>\n",
              "      <td>1</td>\n",
              "      <td>0</td>\n",
              "      <td>0</td>\n",
              "      <td>1</td>\n",
              "      <td>0</td>\n",
              "      <td>0</td>\n",
              "      <td>141</td>\n",
              "      <td>0</td>\n",
              "      <td>0</td>\n",
              "      <td>0</td>\n",
              "      <td>1</td>\n",
              "      <td>0</td>\n",
              "      <td>0</td>\n",
              "    </tr>\n",
              "    <tr>\n",
              "      <th>189041</th>\n",
              "      <td>2019-09-20T16:33:59.000Z</td>\n",
              "      <td>144968</td>\n",
              "      <td>378569033032</td>\n",
              "      <td>3.600120e+11</td>\n",
              "      <td>1.403345e+08</td>\n",
              "      <td>1.0</td>\n",
              "      <td>0.0</td>\n",
              "      <td>378569033032</td>\n",
              "      <td>2019-03-18T20:21:53.000Z</td>\n",
              "      <td>moderate</td>\n",
              "      <td>NaN</td>\n",
              "      <td>4</td>\n",
              "      <td>1</td>\n",
              "      <td>0</td>\n",
              "      <td>0</td>\n",
              "      <td>0</td>\n",
              "      <td>0</td>\n",
              "      <td>1</td>\n",
              "      <td>0</td>\n",
              "      <td>0</td>\n",
              "      <td>186</td>\n",
              "      <td>0</td>\n",
              "      <td>0</td>\n",
              "      <td>0</td>\n",
              "      <td>0</td>\n",
              "      <td>0</td>\n",
              "      <td>1</td>\n",
              "    </tr>\n",
              "    <tr>\n",
              "      <th>207873</th>\n",
              "      <td>2019-12-09T13:54:47.000Z</td>\n",
              "      <td>144968</td>\n",
              "      <td>367450009112</td>\n",
              "      <td>3.600124e+11</td>\n",
              "      <td>3.600242e+11</td>\n",
              "      <td>0.0</td>\n",
              "      <td>0.0</td>\n",
              "      <td>367450009112</td>\n",
              "      <td>2018-07-25T06:41:31.000Z</td>\n",
              "      <td>None</td>\n",
              "      <td>NaN</td>\n",
              "      <td>0</td>\n",
              "      <td>0</td>\n",
              "      <td>0</td>\n",
              "      <td>0</td>\n",
              "      <td>0</td>\n",
              "      <td>0</td>\n",
              "      <td>1</td>\n",
              "      <td>0</td>\n",
              "      <td>0</td>\n",
              "      <td>502</td>\n",
              "      <td>0</td>\n",
              "      <td>0</td>\n",
              "      <td>0</td>\n",
              "      <td>1</td>\n",
              "      <td>0</td>\n",
              "      <td>0</td>\n",
              "    </tr>\n",
              "  </tbody>\n",
              "</table>\n",
              "</div>"
            ],
            "text/plain": [
              "                      created_at  ...  requester_platform-skills-intermediate\n",
              "id                                ...                                        \n",
              "162875  2019-05-29T11:47:31.000Z  ...                                       0\n",
              "166035  2019-06-12T15:23:14.000Z  ...                                       0\n",
              "182449  2019-08-23T21:13:47.000Z  ...                                       0\n",
              "189041  2019-09-20T16:33:59.000Z  ...                                       1\n",
              "207873  2019-12-09T13:54:47.000Z  ...                                       0\n",
              "\n",
              "[5 rows x 27 columns]"
            ]
          },
          "metadata": {
            "tags": []
          },
          "execution_count": 30
        }
      ]
    },
    {
      "cell_type": "markdown",
      "metadata": {
        "id": "w9t7oQSHiWYD"
      },
      "source": [
        "### Criando variável 'created_at_business_hours'"
      ]
    },
    {
      "cell_type": "code",
      "metadata": {
        "id": "ff46FuB1iVxm"
      },
      "source": [
        "# Intenção é tratar os dados de 'created_at' para identificar se foram criados entre às 09h e 18h\n",
        "\n",
        "variavel = []\n",
        "\n",
        "for i in tickets['created_at']:\n",
        "  variavel.append(datetime.strptime(i, '%Y-%m-%dT%H:%M:%S.000Z'))"
      ],
      "execution_count": 31,
      "outputs": []
    },
    {
      "cell_type": "code",
      "metadata": {
        "id": "uNZ6Jh7Kl1CU"
      },
      "source": [
        "# 0 para tickets criados fora do horário comercial\n",
        "# 1 para tickets criados dentro do horário comercial\n",
        "# OBS: tickets criados no sábado ou no domingo também são considerados fora do horário comercial\n",
        "\n",
        "business_hours = []\n",
        "horaInicial = (datetime.strptime('09:00:00', '%H:%M:%S').time())\n",
        "horaFinal = (datetime.strptime('18:00:00', '%H:%M:%S').time())\n",
        "\n",
        "for i in variavel:\n",
        "  if i.weekday() == 5 or i.weekday() == 6:\n",
        "    business_hours.append(0)\n",
        "  else:\n",
        "    if i.time() >= horaInicial and i.time() <= horaFinal:\n",
        "      business_hours.append(1)\n",
        "    else:\n",
        "      business_hours.append(0)"
      ],
      "execution_count": 32,
      "outputs": []
    },
    {
      "cell_type": "code",
      "metadata": {
        "colab": {
          "base_uri": "https://localhost:8080/",
          "height": 270
        },
        "id": "iFb5rClbqYYY",
        "outputId": "91bcfcc9-4d4e-456a-cfc0-8ff0ad63bd74"
      },
      "source": [
        "# Incluindo nova variável no dataframe e excluíndo entradas de data originais\n",
        "\n",
        "tickets['is_business_hours'] = business_hours\n",
        "tickets = tickets.drop(['created_at','requester_created_at'], axis=1)\n",
        "tickets.head()"
      ],
      "execution_count": 33,
      "outputs": [
        {
          "output_type": "execute_result",
          "data": {
            "text/html": [
              "<div>\n",
              "<style scoped>\n",
              "    .dataframe tbody tr th:only-of-type {\n",
              "        vertical-align: middle;\n",
              "    }\n",
              "\n",
              "    .dataframe tbody tr th {\n",
              "        vertical-align: top;\n",
              "    }\n",
              "\n",
              "    .dataframe thead th {\n",
              "        text-align: right;\n",
              "    }\n",
              "</style>\n",
              "<table border=\"1\" class=\"dataframe\">\n",
              "  <thead>\n",
              "    <tr style=\"text-align: right;\">\n",
              "      <th></th>\n",
              "      <th>brand_id</th>\n",
              "      <th>submitter_id</th>\n",
              "      <th>group_id</th>\n",
              "      <th>organization_id</th>\n",
              "      <th>has_partner</th>\n",
              "      <th>has_success_manager</th>\n",
              "      <th>requester_id</th>\n",
              "      <th>complexity</th>\n",
              "      <th>is_operating</th>\n",
              "      <th>weekday</th>\n",
              "      <th>type_incident</th>\n",
              "      <th>type_problem</th>\n",
              "      <th>type_question</th>\n",
              "      <th>type_task</th>\n",
              "      <th>priority_low</th>\n",
              "      <th>priority_normal</th>\n",
              "      <th>priority_urgent</th>\n",
              "      <th>requester_equal_submitter</th>\n",
              "      <th>requester_duration_days</th>\n",
              "      <th>requester_nps-detractor</th>\n",
              "      <th>requester_nps-passive</th>\n",
              "      <th>requester_nps-promoter</th>\n",
              "      <th>requester_platform-skills-advanced</th>\n",
              "      <th>requester_platform-skills-beginner</th>\n",
              "      <th>requester_platform-skills-intermediate</th>\n",
              "      <th>is_business_hours</th>\n",
              "    </tr>\n",
              "    <tr>\n",
              "      <th>id</th>\n",
              "      <th></th>\n",
              "      <th></th>\n",
              "      <th></th>\n",
              "      <th></th>\n",
              "      <th></th>\n",
              "      <th></th>\n",
              "      <th></th>\n",
              "      <th></th>\n",
              "      <th></th>\n",
              "      <th></th>\n",
              "      <th></th>\n",
              "      <th></th>\n",
              "      <th></th>\n",
              "      <th></th>\n",
              "      <th></th>\n",
              "      <th></th>\n",
              "      <th></th>\n",
              "      <th></th>\n",
              "      <th></th>\n",
              "      <th></th>\n",
              "      <th></th>\n",
              "      <th></th>\n",
              "      <th></th>\n",
              "      <th></th>\n",
              "      <th></th>\n",
              "      <th></th>\n",
              "    </tr>\n",
              "  </thead>\n",
              "  <tbody>\n",
              "    <tr>\n",
              "      <th>162875</th>\n",
              "      <td>144968</td>\n",
              "      <td>8958433768</td>\n",
              "      <td>3.600088e+11</td>\n",
              "      <td>3.601459e+11</td>\n",
              "      <td>0.0</td>\n",
              "      <td>0.0</td>\n",
              "      <td>8958433768</td>\n",
              "      <td>high</td>\n",
              "      <td>NaN</td>\n",
              "      <td>2</td>\n",
              "      <td>1</td>\n",
              "      <td>0</td>\n",
              "      <td>0</td>\n",
              "      <td>0</td>\n",
              "      <td>0</td>\n",
              "      <td>0</td>\n",
              "      <td>0</td>\n",
              "      <td>0</td>\n",
              "      <td>1029</td>\n",
              "      <td>1</td>\n",
              "      <td>0</td>\n",
              "      <td>0</td>\n",
              "      <td>1</td>\n",
              "      <td>0</td>\n",
              "      <td>0</td>\n",
              "      <td>1</td>\n",
              "    </tr>\n",
              "    <tr>\n",
              "      <th>166035</th>\n",
              "      <td>144968</td>\n",
              "      <td>8958433768</td>\n",
              "      <td>3.600139e+11</td>\n",
              "      <td>3.601459e+11</td>\n",
              "      <td>0.0</td>\n",
              "      <td>0.0</td>\n",
              "      <td>8958433768</td>\n",
              "      <td>very_high</td>\n",
              "      <td>NaN</td>\n",
              "      <td>2</td>\n",
              "      <td>1</td>\n",
              "      <td>0</td>\n",
              "      <td>0</td>\n",
              "      <td>0</td>\n",
              "      <td>0</td>\n",
              "      <td>0</td>\n",
              "      <td>0</td>\n",
              "      <td>0</td>\n",
              "      <td>1043</td>\n",
              "      <td>1</td>\n",
              "      <td>0</td>\n",
              "      <td>0</td>\n",
              "      <td>1</td>\n",
              "      <td>0</td>\n",
              "      <td>0</td>\n",
              "      <td>1</td>\n",
              "    </tr>\n",
              "    <tr>\n",
              "      <th>182449</th>\n",
              "      <td>144968</td>\n",
              "      <td>379450971772</td>\n",
              "      <td>3.600155e+11</td>\n",
              "      <td>2.559354e+08</td>\n",
              "      <td>0.0</td>\n",
              "      <td>0.0</td>\n",
              "      <td>379450971772</td>\n",
              "      <td>very_high</td>\n",
              "      <td>NaN</td>\n",
              "      <td>4</td>\n",
              "      <td>0</td>\n",
              "      <td>0</td>\n",
              "      <td>1</td>\n",
              "      <td>0</td>\n",
              "      <td>0</td>\n",
              "      <td>1</td>\n",
              "      <td>0</td>\n",
              "      <td>0</td>\n",
              "      <td>141</td>\n",
              "      <td>0</td>\n",
              "      <td>0</td>\n",
              "      <td>0</td>\n",
              "      <td>1</td>\n",
              "      <td>0</td>\n",
              "      <td>0</td>\n",
              "      <td>0</td>\n",
              "    </tr>\n",
              "    <tr>\n",
              "      <th>189041</th>\n",
              "      <td>144968</td>\n",
              "      <td>378569033032</td>\n",
              "      <td>3.600120e+11</td>\n",
              "      <td>1.403345e+08</td>\n",
              "      <td>1.0</td>\n",
              "      <td>0.0</td>\n",
              "      <td>378569033032</td>\n",
              "      <td>moderate</td>\n",
              "      <td>NaN</td>\n",
              "      <td>4</td>\n",
              "      <td>1</td>\n",
              "      <td>0</td>\n",
              "      <td>0</td>\n",
              "      <td>0</td>\n",
              "      <td>0</td>\n",
              "      <td>1</td>\n",
              "      <td>0</td>\n",
              "      <td>0</td>\n",
              "      <td>186</td>\n",
              "      <td>0</td>\n",
              "      <td>0</td>\n",
              "      <td>0</td>\n",
              "      <td>0</td>\n",
              "      <td>0</td>\n",
              "      <td>1</td>\n",
              "      <td>1</td>\n",
              "    </tr>\n",
              "    <tr>\n",
              "      <th>207873</th>\n",
              "      <td>144968</td>\n",
              "      <td>367450009112</td>\n",
              "      <td>3.600124e+11</td>\n",
              "      <td>3.600242e+11</td>\n",
              "      <td>0.0</td>\n",
              "      <td>0.0</td>\n",
              "      <td>367450009112</td>\n",
              "      <td>None</td>\n",
              "      <td>NaN</td>\n",
              "      <td>0</td>\n",
              "      <td>0</td>\n",
              "      <td>0</td>\n",
              "      <td>0</td>\n",
              "      <td>0</td>\n",
              "      <td>0</td>\n",
              "      <td>1</td>\n",
              "      <td>0</td>\n",
              "      <td>0</td>\n",
              "      <td>502</td>\n",
              "      <td>0</td>\n",
              "      <td>0</td>\n",
              "      <td>0</td>\n",
              "      <td>1</td>\n",
              "      <td>0</td>\n",
              "      <td>0</td>\n",
              "      <td>1</td>\n",
              "    </tr>\n",
              "  </tbody>\n",
              "</table>\n",
              "</div>"
            ],
            "text/plain": [
              "        brand_id  ...  is_business_hours\n",
              "id                ...                   \n",
              "162875    144968  ...                  1\n",
              "166035    144968  ...                  1\n",
              "182449    144968  ...                  0\n",
              "189041    144968  ...                  1\n",
              "207873    144968  ...                  1\n",
              "\n",
              "[5 rows x 26 columns]"
            ]
          },
          "metadata": {
            "tags": []
          },
          "execution_count": 33
        }
      ]
    },
    {
      "cell_type": "markdown",
      "metadata": {
        "id": "0q2sJHmgzZKo"
      },
      "source": [
        "# Análise Exploratória"
      ]
    },
    {
      "cell_type": "code",
      "metadata": {
        "id": "IT7fd9rNzcLi"
      },
      "source": [
        "# Importação dos pacotes\n",
        "\n",
        "# import random\n",
        "# import matplotlib.pyplot as plt\n",
        "# import seaborn as sns\n",
        "# %matplotlib inline\n",
        "\n",
        "# Seed para reprodução de resultados\n",
        "seed = 1\n",
        "random.seed(seed)\n",
        "np.random.seed(seed)"
      ],
      "execution_count": 34,
      "outputs": []
    },
    {
      "cell_type": "code",
      "metadata": {
        "id": "_26TkL-BztYP",
        "colab": {
          "base_uri": "https://localhost:8080/",
          "height": 270
        },
        "outputId": "bbe9f960-3a38-40c0-a19e-11911140f8d2"
      },
      "source": [
        "tickets.head()"
      ],
      "execution_count": 35,
      "outputs": [
        {
          "output_type": "execute_result",
          "data": {
            "text/html": [
              "<div>\n",
              "<style scoped>\n",
              "    .dataframe tbody tr th:only-of-type {\n",
              "        vertical-align: middle;\n",
              "    }\n",
              "\n",
              "    .dataframe tbody tr th {\n",
              "        vertical-align: top;\n",
              "    }\n",
              "\n",
              "    .dataframe thead th {\n",
              "        text-align: right;\n",
              "    }\n",
              "</style>\n",
              "<table border=\"1\" class=\"dataframe\">\n",
              "  <thead>\n",
              "    <tr style=\"text-align: right;\">\n",
              "      <th></th>\n",
              "      <th>brand_id</th>\n",
              "      <th>submitter_id</th>\n",
              "      <th>group_id</th>\n",
              "      <th>organization_id</th>\n",
              "      <th>has_partner</th>\n",
              "      <th>has_success_manager</th>\n",
              "      <th>requester_id</th>\n",
              "      <th>complexity</th>\n",
              "      <th>is_operating</th>\n",
              "      <th>weekday</th>\n",
              "      <th>type_incident</th>\n",
              "      <th>type_problem</th>\n",
              "      <th>type_question</th>\n",
              "      <th>type_task</th>\n",
              "      <th>priority_low</th>\n",
              "      <th>priority_normal</th>\n",
              "      <th>priority_urgent</th>\n",
              "      <th>requester_equal_submitter</th>\n",
              "      <th>requester_duration_days</th>\n",
              "      <th>requester_nps-detractor</th>\n",
              "      <th>requester_nps-passive</th>\n",
              "      <th>requester_nps-promoter</th>\n",
              "      <th>requester_platform-skills-advanced</th>\n",
              "      <th>requester_platform-skills-beginner</th>\n",
              "      <th>requester_platform-skills-intermediate</th>\n",
              "      <th>is_business_hours</th>\n",
              "    </tr>\n",
              "    <tr>\n",
              "      <th>id</th>\n",
              "      <th></th>\n",
              "      <th></th>\n",
              "      <th></th>\n",
              "      <th></th>\n",
              "      <th></th>\n",
              "      <th></th>\n",
              "      <th></th>\n",
              "      <th></th>\n",
              "      <th></th>\n",
              "      <th></th>\n",
              "      <th></th>\n",
              "      <th></th>\n",
              "      <th></th>\n",
              "      <th></th>\n",
              "      <th></th>\n",
              "      <th></th>\n",
              "      <th></th>\n",
              "      <th></th>\n",
              "      <th></th>\n",
              "      <th></th>\n",
              "      <th></th>\n",
              "      <th></th>\n",
              "      <th></th>\n",
              "      <th></th>\n",
              "      <th></th>\n",
              "      <th></th>\n",
              "    </tr>\n",
              "  </thead>\n",
              "  <tbody>\n",
              "    <tr>\n",
              "      <th>162875</th>\n",
              "      <td>144968</td>\n",
              "      <td>8958433768</td>\n",
              "      <td>3.600088e+11</td>\n",
              "      <td>3.601459e+11</td>\n",
              "      <td>0.0</td>\n",
              "      <td>0.0</td>\n",
              "      <td>8958433768</td>\n",
              "      <td>high</td>\n",
              "      <td>NaN</td>\n",
              "      <td>2</td>\n",
              "      <td>1</td>\n",
              "      <td>0</td>\n",
              "      <td>0</td>\n",
              "      <td>0</td>\n",
              "      <td>0</td>\n",
              "      <td>0</td>\n",
              "      <td>0</td>\n",
              "      <td>0</td>\n",
              "      <td>1029</td>\n",
              "      <td>1</td>\n",
              "      <td>0</td>\n",
              "      <td>0</td>\n",
              "      <td>1</td>\n",
              "      <td>0</td>\n",
              "      <td>0</td>\n",
              "      <td>1</td>\n",
              "    </tr>\n",
              "    <tr>\n",
              "      <th>166035</th>\n",
              "      <td>144968</td>\n",
              "      <td>8958433768</td>\n",
              "      <td>3.600139e+11</td>\n",
              "      <td>3.601459e+11</td>\n",
              "      <td>0.0</td>\n",
              "      <td>0.0</td>\n",
              "      <td>8958433768</td>\n",
              "      <td>very_high</td>\n",
              "      <td>NaN</td>\n",
              "      <td>2</td>\n",
              "      <td>1</td>\n",
              "      <td>0</td>\n",
              "      <td>0</td>\n",
              "      <td>0</td>\n",
              "      <td>0</td>\n",
              "      <td>0</td>\n",
              "      <td>0</td>\n",
              "      <td>0</td>\n",
              "      <td>1043</td>\n",
              "      <td>1</td>\n",
              "      <td>0</td>\n",
              "      <td>0</td>\n",
              "      <td>1</td>\n",
              "      <td>0</td>\n",
              "      <td>0</td>\n",
              "      <td>1</td>\n",
              "    </tr>\n",
              "    <tr>\n",
              "      <th>182449</th>\n",
              "      <td>144968</td>\n",
              "      <td>379450971772</td>\n",
              "      <td>3.600155e+11</td>\n",
              "      <td>2.559354e+08</td>\n",
              "      <td>0.0</td>\n",
              "      <td>0.0</td>\n",
              "      <td>379450971772</td>\n",
              "      <td>very_high</td>\n",
              "      <td>NaN</td>\n",
              "      <td>4</td>\n",
              "      <td>0</td>\n",
              "      <td>0</td>\n",
              "      <td>1</td>\n",
              "      <td>0</td>\n",
              "      <td>0</td>\n",
              "      <td>1</td>\n",
              "      <td>0</td>\n",
              "      <td>0</td>\n",
              "      <td>141</td>\n",
              "      <td>0</td>\n",
              "      <td>0</td>\n",
              "      <td>0</td>\n",
              "      <td>1</td>\n",
              "      <td>0</td>\n",
              "      <td>0</td>\n",
              "      <td>0</td>\n",
              "    </tr>\n",
              "    <tr>\n",
              "      <th>189041</th>\n",
              "      <td>144968</td>\n",
              "      <td>378569033032</td>\n",
              "      <td>3.600120e+11</td>\n",
              "      <td>1.403345e+08</td>\n",
              "      <td>1.0</td>\n",
              "      <td>0.0</td>\n",
              "      <td>378569033032</td>\n",
              "      <td>moderate</td>\n",
              "      <td>NaN</td>\n",
              "      <td>4</td>\n",
              "      <td>1</td>\n",
              "      <td>0</td>\n",
              "      <td>0</td>\n",
              "      <td>0</td>\n",
              "      <td>0</td>\n",
              "      <td>1</td>\n",
              "      <td>0</td>\n",
              "      <td>0</td>\n",
              "      <td>186</td>\n",
              "      <td>0</td>\n",
              "      <td>0</td>\n",
              "      <td>0</td>\n",
              "      <td>0</td>\n",
              "      <td>0</td>\n",
              "      <td>1</td>\n",
              "      <td>1</td>\n",
              "    </tr>\n",
              "    <tr>\n",
              "      <th>207873</th>\n",
              "      <td>144968</td>\n",
              "      <td>367450009112</td>\n",
              "      <td>3.600124e+11</td>\n",
              "      <td>3.600242e+11</td>\n",
              "      <td>0.0</td>\n",
              "      <td>0.0</td>\n",
              "      <td>367450009112</td>\n",
              "      <td>None</td>\n",
              "      <td>NaN</td>\n",
              "      <td>0</td>\n",
              "      <td>0</td>\n",
              "      <td>0</td>\n",
              "      <td>0</td>\n",
              "      <td>0</td>\n",
              "      <td>0</td>\n",
              "      <td>1</td>\n",
              "      <td>0</td>\n",
              "      <td>0</td>\n",
              "      <td>502</td>\n",
              "      <td>0</td>\n",
              "      <td>0</td>\n",
              "      <td>0</td>\n",
              "      <td>1</td>\n",
              "      <td>0</td>\n",
              "      <td>0</td>\n",
              "      <td>1</td>\n",
              "    </tr>\n",
              "  </tbody>\n",
              "</table>\n",
              "</div>"
            ],
            "text/plain": [
              "        brand_id  ...  is_business_hours\n",
              "id                ...                   \n",
              "162875    144968  ...                  1\n",
              "166035    144968  ...                  1\n",
              "182449    144968  ...                  0\n",
              "189041    144968  ...                  1\n",
              "207873    144968  ...                  1\n",
              "\n",
              "[5 rows x 26 columns]"
            ]
          },
          "metadata": {
            "tags": []
          },
          "execution_count": 35
        }
      ]
    },
    {
      "cell_type": "code",
      "metadata": {
        "id": "nEfCXEOs0BS_",
        "colab": {
          "base_uri": "https://localhost:8080/"
        },
        "outputId": "ec34dc32-e60d-47b5-f2a2-e5875671e320"
      },
      "source": [
        "# Tamanho da amostra\n",
        "\n",
        "tickets.shape"
      ],
      "execution_count": 36,
      "outputs": [
        {
          "output_type": "execute_result",
          "data": {
            "text/plain": [
              "(19406, 26)"
            ]
          },
          "metadata": {
            "tags": []
          },
          "execution_count": 36
        }
      ]
    },
    {
      "cell_type": "code",
      "metadata": {
        "id": "fqMhQm230D6Q",
        "colab": {
          "base_uri": "https://localhost:8080/",
          "height": 331
        },
        "outputId": "eea5fc28-767d-42dd-b735-aba965c43784"
      },
      "source": [
        "tickets.describe()"
      ],
      "execution_count": 37,
      "outputs": [
        {
          "output_type": "execute_result",
          "data": {
            "text/html": [
              "<div>\n",
              "<style scoped>\n",
              "    .dataframe tbody tr th:only-of-type {\n",
              "        vertical-align: middle;\n",
              "    }\n",
              "\n",
              "    .dataframe tbody tr th {\n",
              "        vertical-align: top;\n",
              "    }\n",
              "\n",
              "    .dataframe thead th {\n",
              "        text-align: right;\n",
              "    }\n",
              "</style>\n",
              "<table border=\"1\" class=\"dataframe\">\n",
              "  <thead>\n",
              "    <tr style=\"text-align: right;\">\n",
              "      <th></th>\n",
              "      <th>brand_id</th>\n",
              "      <th>submitter_id</th>\n",
              "      <th>group_id</th>\n",
              "      <th>organization_id</th>\n",
              "      <th>has_partner</th>\n",
              "      <th>has_success_manager</th>\n",
              "      <th>requester_id</th>\n",
              "      <th>is_operating</th>\n",
              "      <th>weekday</th>\n",
              "      <th>type_incident</th>\n",
              "      <th>type_problem</th>\n",
              "      <th>type_question</th>\n",
              "      <th>type_task</th>\n",
              "      <th>priority_low</th>\n",
              "      <th>priority_normal</th>\n",
              "      <th>priority_urgent</th>\n",
              "      <th>requester_equal_submitter</th>\n",
              "      <th>requester_duration_days</th>\n",
              "      <th>requester_nps-detractor</th>\n",
              "      <th>requester_nps-passive</th>\n",
              "      <th>requester_nps-promoter</th>\n",
              "      <th>requester_platform-skills-advanced</th>\n",
              "      <th>requester_platform-skills-beginner</th>\n",
              "      <th>requester_platform-skills-intermediate</th>\n",
              "      <th>is_business_hours</th>\n",
              "    </tr>\n",
              "  </thead>\n",
              "  <tbody>\n",
              "    <tr>\n",
              "      <th>count</th>\n",
              "      <td>19406.0</td>\n",
              "      <td>1.940600e+04</td>\n",
              "      <td>1.930400e+04</td>\n",
              "      <td>1.565900e+04</td>\n",
              "      <td>15659.000000</td>\n",
              "      <td>15659.000000</td>\n",
              "      <td>1.940600e+04</td>\n",
              "      <td>18802.000000</td>\n",
              "      <td>19406.000000</td>\n",
              "      <td>19406.000000</td>\n",
              "      <td>19406.000000</td>\n",
              "      <td>19406.000000</td>\n",
              "      <td>19406.000000</td>\n",
              "      <td>19406.000000</td>\n",
              "      <td>19406.000000</td>\n",
              "      <td>19406.000000</td>\n",
              "      <td>19406.000000</td>\n",
              "      <td>19406.000000</td>\n",
              "      <td>19406.000000</td>\n",
              "      <td>19406.000000</td>\n",
              "      <td>19406.000000</td>\n",
              "      <td>19406.000000</td>\n",
              "      <td>19406.000000</td>\n",
              "      <td>19406.000000</td>\n",
              "      <td>19406.000000</td>\n",
              "    </tr>\n",
              "    <tr>\n",
              "      <th>mean</th>\n",
              "      <td>144968.0</td>\n",
              "      <td>3.717021e+11</td>\n",
              "      <td>3.595234e+11</td>\n",
              "      <td>2.516407e+11</td>\n",
              "      <td>0.159333</td>\n",
              "      <td>0.094131</td>\n",
              "      <td>3.712252e+11</td>\n",
              "      <td>0.674769</td>\n",
              "      <td>2.044059</td>\n",
              "      <td>0.042461</td>\n",
              "      <td>0.002164</td>\n",
              "      <td>0.605534</td>\n",
              "      <td>0.105174</td>\n",
              "      <td>0.420334</td>\n",
              "      <td>0.341338</td>\n",
              "      <td>0.050757</td>\n",
              "      <td>0.027826</td>\n",
              "      <td>415.791044</td>\n",
              "      <td>0.031073</td>\n",
              "      <td>0.036690</td>\n",
              "      <td>0.052252</td>\n",
              "      <td>0.118520</td>\n",
              "      <td>0.224003</td>\n",
              "      <td>0.393280</td>\n",
              "      <td>0.541740</td>\n",
              "    </tr>\n",
              "    <tr>\n",
              "      <th>std</th>\n",
              "      <td>0.0</td>\n",
              "      <td>8.731646e+10</td>\n",
              "      <td>1.320262e+10</td>\n",
              "      <td>1.589842e+11</td>\n",
              "      <td>0.365998</td>\n",
              "      <td>0.292020</td>\n",
              "      <td>8.798376e+10</td>\n",
              "      <td>0.468474</td>\n",
              "      <td>1.471245</td>\n",
              "      <td>0.201644</td>\n",
              "      <td>0.046473</td>\n",
              "      <td>0.488748</td>\n",
              "      <td>0.306785</td>\n",
              "      <td>0.493625</td>\n",
              "      <td>0.474171</td>\n",
              "      <td>0.219508</td>\n",
              "      <td>0.164480</td>\n",
              "      <td>425.256529</td>\n",
              "      <td>0.173519</td>\n",
              "      <td>0.188004</td>\n",
              "      <td>0.222540</td>\n",
              "      <td>0.323231</td>\n",
              "      <td>0.416935</td>\n",
              "      <td>0.488491</td>\n",
              "      <td>0.498268</td>\n",
              "    </tr>\n",
              "    <tr>\n",
              "      <th>min</th>\n",
              "      <td>144968.0</td>\n",
              "      <td>8.332444e+08</td>\n",
              "      <td>2.595627e+07</td>\n",
              "      <td>4.153510e+07</td>\n",
              "      <td>0.000000</td>\n",
              "      <td>0.000000</td>\n",
              "      <td>8.766956e+08</td>\n",
              "      <td>0.000000</td>\n",
              "      <td>0.000000</td>\n",
              "      <td>0.000000</td>\n",
              "      <td>0.000000</td>\n",
              "      <td>0.000000</td>\n",
              "      <td>0.000000</td>\n",
              "      <td>0.000000</td>\n",
              "      <td>0.000000</td>\n",
              "      <td>0.000000</td>\n",
              "      <td>0.000000</td>\n",
              "      <td>-55.000000</td>\n",
              "      <td>0.000000</td>\n",
              "      <td>0.000000</td>\n",
              "      <td>0.000000</td>\n",
              "      <td>0.000000</td>\n",
              "      <td>0.000000</td>\n",
              "      <td>0.000000</td>\n",
              "      <td>0.000000</td>\n",
              "    </tr>\n",
              "    <tr>\n",
              "      <th>25%</th>\n",
              "      <td>144968.0</td>\n",
              "      <td>3.831173e+11</td>\n",
              "      <td>3.600047e+11</td>\n",
              "      <td>1.439846e+10</td>\n",
              "      <td>0.000000</td>\n",
              "      <td>0.000000</td>\n",
              "      <td>3.827546e+11</td>\n",
              "      <td>0.000000</td>\n",
              "      <td>1.000000</td>\n",
              "      <td>0.000000</td>\n",
              "      <td>0.000000</td>\n",
              "      <td>0.000000</td>\n",
              "      <td>0.000000</td>\n",
              "      <td>0.000000</td>\n",
              "      <td>0.000000</td>\n",
              "      <td>0.000000</td>\n",
              "      <td>0.000000</td>\n",
              "      <td>92.000000</td>\n",
              "      <td>0.000000</td>\n",
              "      <td>0.000000</td>\n",
              "      <td>0.000000</td>\n",
              "      <td>0.000000</td>\n",
              "      <td>0.000000</td>\n",
              "      <td>0.000000</td>\n",
              "      <td>0.000000</td>\n",
              "    </tr>\n",
              "    <tr>\n",
              "      <th>50%</th>\n",
              "      <td>144968.0</td>\n",
              "      <td>3.982885e+11</td>\n",
              "      <td>3.600088e+11</td>\n",
              "      <td>3.604749e+11</td>\n",
              "      <td>0.000000</td>\n",
              "      <td>0.000000</td>\n",
              "      <td>3.982020e+11</td>\n",
              "      <td>1.000000</td>\n",
              "      <td>2.000000</td>\n",
              "      <td>0.000000</td>\n",
              "      <td>0.000000</td>\n",
              "      <td>1.000000</td>\n",
              "      <td>0.000000</td>\n",
              "      <td>0.000000</td>\n",
              "      <td>0.000000</td>\n",
              "      <td>0.000000</td>\n",
              "      <td>0.000000</td>\n",
              "      <td>267.000000</td>\n",
              "      <td>0.000000</td>\n",
              "      <td>0.000000</td>\n",
              "      <td>0.000000</td>\n",
              "      <td>0.000000</td>\n",
              "      <td>0.000000</td>\n",
              "      <td>0.000000</td>\n",
              "      <td>1.000000</td>\n",
              "    </tr>\n",
              "    <tr>\n",
              "      <th>75%</th>\n",
              "      <td>144968.0</td>\n",
              "      <td>4.063185e+11</td>\n",
              "      <td>3.600120e+11</td>\n",
              "      <td>3.610705e+11</td>\n",
              "      <td>0.000000</td>\n",
              "      <td>0.000000</td>\n",
              "      <td>4.062662e+11</td>\n",
              "      <td>1.000000</td>\n",
              "      <td>3.000000</td>\n",
              "      <td>0.000000</td>\n",
              "      <td>0.000000</td>\n",
              "      <td>1.000000</td>\n",
              "      <td>0.000000</td>\n",
              "      <td>1.000000</td>\n",
              "      <td>1.000000</td>\n",
              "      <td>0.000000</td>\n",
              "      <td>0.000000</td>\n",
              "      <td>620.000000</td>\n",
              "      <td>0.000000</td>\n",
              "      <td>0.000000</td>\n",
              "      <td>0.000000</td>\n",
              "      <td>0.000000</td>\n",
              "      <td>0.000000</td>\n",
              "      <td>1.000000</td>\n",
              "      <td>1.000000</td>\n",
              "    </tr>\n",
              "    <tr>\n",
              "      <th>max</th>\n",
              "      <td>144968.0</td>\n",
              "      <td>4.130392e+11</td>\n",
              "      <td>3.600161e+11</td>\n",
              "      <td>3.613654e+11</td>\n",
              "      <td>1.000000</td>\n",
              "      <td>1.000000</td>\n",
              "      <td>4.130392e+11</td>\n",
              "      <td>1.000000</td>\n",
              "      <td>6.000000</td>\n",
              "      <td>1.000000</td>\n",
              "      <td>1.000000</td>\n",
              "      <td>1.000000</td>\n",
              "      <td>1.000000</td>\n",
              "      <td>1.000000</td>\n",
              "      <td>1.000000</td>\n",
              "      <td>1.000000</td>\n",
              "      <td>1.000000</td>\n",
              "      <td>2150.000000</td>\n",
              "      <td>1.000000</td>\n",
              "      <td>1.000000</td>\n",
              "      <td>1.000000</td>\n",
              "      <td>1.000000</td>\n",
              "      <td>1.000000</td>\n",
              "      <td>1.000000</td>\n",
              "      <td>1.000000</td>\n",
              "    </tr>\n",
              "  </tbody>\n",
              "</table>\n",
              "</div>"
            ],
            "text/plain": [
              "       brand_id  ...  is_business_hours\n",
              "count   19406.0  ...       19406.000000\n",
              "mean   144968.0  ...           0.541740\n",
              "std         0.0  ...           0.498268\n",
              "min    144968.0  ...           0.000000\n",
              "25%    144968.0  ...           0.000000\n",
              "50%    144968.0  ...           1.000000\n",
              "75%    144968.0  ...           1.000000\n",
              "max    144968.0  ...           1.000000\n",
              "\n",
              "[8 rows x 25 columns]"
            ]
          },
          "metadata": {
            "tags": []
          },
          "execution_count": 37
        }
      ]
    },
    {
      "cell_type": "code",
      "metadata": {
        "id": "WewXQgb70Gmn",
        "colab": {
          "base_uri": "https://localhost:8080/",
          "height": 296
        },
        "outputId": "9131c063-b6aa-46a9-a816-8f80ed8160d4"
      },
      "source": [
        "# Análise balanceamento\n",
        "\n",
        "sns.countplot(data=tickets, x='complexity')\n",
        "plt.rcParams['figure.figsize'] = (11,7)\n",
        "plt.title('Complexity Distribution')\n",
        "plt.show()"
      ],
      "execution_count": 38,
      "outputs": [
        {
          "output_type": "display_data",
          "data": {
            "image/png": "[encoded data removed]",
            "text/plain": [
              "<Figure size 432x288 with 1 Axes>"
            ]
          },
          "metadata": {
            "tags": [],
            "needs_background": "light"
          }
        }
      ]
    },
    {
      "cell_type": "code",
      "metadata": {
        "id": "Ax008_dH0aSL",
        "colab": {
          "base_uri": "https://localhost:8080/"
        },
        "outputId": "b74ceacd-2395-4976-ec83-b57e28436cc6"
      },
      "source": [
        "# Analisando somatório de valores nulls na base de dados\n",
        "\n",
        "tickets.isnull().sum()"
      ],
      "execution_count": 39,
      "outputs": [
        {
          "output_type": "execute_result",
          "data": {
            "text/plain": [
              "brand_id                                     0\n",
              "submitter_id                                 0\n",
              "group_id                                   102\n",
              "organization_id                           3747\n",
              "has_partner                               3747\n",
              "has_success_manager                       3747\n",
              "requester_id                                 0\n",
              "complexity                                9884\n",
              "is_operating                               604\n",
              "weekday                                      0\n",
              "type_incident                                0\n",
              "type_problem                                 0\n",
              "type_question                                0\n",
              "type_task                                    0\n",
              "priority_low                                 0\n",
              "priority_normal                              0\n",
              "priority_urgent                              0\n",
              "requester_equal_submitter                    0\n",
              "requester_duration_days                      0\n",
              "requester_nps-detractor                      0\n",
              "requester_nps-passive                        0\n",
              "requester_nps-promoter                       0\n",
              "requester_platform-skills-advanced           0\n",
              "requester_platform-skills-beginner           0\n",
              "requester_platform-skills-intermediate       0\n",
              "is_business_hours                            0\n",
              "dtype: int64"
            ]
          },
          "metadata": {
            "tags": []
          },
          "execution_count": 39
        }
      ]
    },
    {
      "cell_type": "code",
      "metadata": {
        "id": "CVj1WR7X0ocS"
      },
      "source": [
        "# Limpando dados nulos da coluna de classificação\n",
        "\n",
        "tickets = tickets.dropna(subset=['complexity'])"
      ],
      "execution_count": 40,
      "outputs": []
    },
    {
      "cell_type": "code",
      "metadata": {
        "id": "RE_KntFN1BvN",
        "colab": {
          "base_uri": "https://localhost:8080/"
        },
        "outputId": "db1e7797-c9b5-4456-f5e7-4ff99429ac59"
      },
      "source": [
        "# Validando número de campos nulos na variável categórica\n",
        "\n",
        "tickets['complexity'].isnull().sum()"
      ],
      "execution_count": 41,
      "outputs": [
        {
          "output_type": "execute_result",
          "data": {
            "text/plain": [
              "0"
            ]
          },
          "metadata": {
            "tags": []
          },
          "execution_count": 41
        }
      ]
    },
    {
      "cell_type": "code",
      "metadata": {
        "colab": {
          "base_uri": "https://localhost:8080/"
        },
        "id": "2wj2Z_vsrvMO",
        "outputId": "eb29370f-55b9-426c-99f2-abe9d0ebccf3"
      },
      "source": [
        "# Contagem das classes de saída\n",
        "\n",
        "unique, counts = np.unique(tickets['complexity'], return_counts=True)\n",
        "print(f'Total de valores nulos: {counts[0]}')\n",
        "print(f'Total de {unique[1]}: {counts[1]}')\n",
        "print(f'Total de {unique[2]}: {counts[2]}')\n",
        "print(f'Total de {unique[3]}: {counts[3]}')\n",
        "print(f'Total de {unique[4]}: {counts[4]}')"
      ],
      "execution_count": 42,
      "outputs": [
        {
          "output_type": "stream",
          "text": [
            "Total de valores nulos: 130\n",
            "Total de high: 613\n",
            "Total de low: 5821\n",
            "Total de moderate: 2845\n",
            "Total de very_high: 113\n"
          ],
          "name": "stdout"
        }
      ]
    },
    {
      "cell_type": "code",
      "metadata": {
        "id": "8LvLaZmVgg6v"
      },
      "source": [
        "# Descartando entradas com classe de saída nula\n",
        "\n",
        "tickets = tickets[tickets['complexity'] != '']"
      ],
      "execution_count": 43,
      "outputs": []
    },
    {
      "cell_type": "code",
      "metadata": {
        "colab": {
          "base_uri": "https://localhost:8080/"
        },
        "id": "NJxtgzZZhG-Z",
        "outputId": "a6f63f9e-3145-4035-f2a2-260fcf395b72"
      },
      "source": [
        "tickets.shape"
      ],
      "execution_count": 44,
      "outputs": [
        {
          "output_type": "execute_result",
          "data": {
            "text/plain": [
              "(9392, 26)"
            ]
          },
          "metadata": {
            "tags": []
          },
          "execution_count": 44
        }
      ]
    },
    {
      "cell_type": "code",
      "metadata": {
        "colab": {
          "base_uri": "https://localhost:8080/"
        },
        "id": "kJzGwdkPiBJW",
        "outputId": "cc137663-d9a5-49cc-98da-5d59408f2967"
      },
      "source": [
        "# Contagem das classes de saída\n",
        "\n",
        "unique, counts = np.unique(tickets['complexity'], return_counts=True)\n",
        "# print(f'Total de valores nulos: {counts[0]}')\n",
        "print(f'Total de {unique[0]}: {counts[0]}')\n",
        "print(f'Total de {unique[1]}: {counts[1]}')\n",
        "print(f'Total de {unique[2]}: {counts[2]}')\n",
        "print(f'Total de {unique[3]}: {counts[3]}')\n",
        "\n",
        "# print(unique)"
      ],
      "execution_count": 45,
      "outputs": [
        {
          "output_type": "stream",
          "text": [
            "Total de high: 613\n",
            "Total de low: 5821\n",
            "Total de moderate: 2845\n",
            "Total de very_high: 113\n"
          ],
          "name": "stdout"
        }
      ]
    },
    {
      "cell_type": "code",
      "metadata": {
        "colab": {
          "base_uri": "https://localhost:8080/",
          "height": 514
        },
        "id": "cUoeIvYBsrgH",
        "outputId": "5abc4025-8067-4134-d658-b1d25f8a3d62"
      },
      "source": [
        "sns.countplot(tickets['complexity'])\n",
        "plt.rcParams['figure.figsize'] = (11,7)\n",
        "plt.title('Complexity Distribution')\n",
        "plt.show()"
      ],
      "execution_count": 46,
      "outputs": [
        {
          "output_type": "stream",
          "text": [
            "/usr/local/lib/python3.7/dist-packages/seaborn/_decorators.py:43: FutureWarning: Pass the following variable as a keyword arg: x. From version 0.12, the only valid positional argument will be `data`, and passing other arguments without an explicit keyword will result in an error or misinterpretation.\n",
            "  FutureWarning\n"
          ],
          "name": "stderr"
        },
        {
          "output_type": "display_data",
          "data": {
            "image/png": "[encoded data removed]",
            "text/plain": [
              "<Figure size 792x504 with 1 Axes>"
            ]
          },
          "metadata": {
            "tags": [],
            "needs_background": "light"
          }
        }
      ]
    },
    {
      "cell_type": "code",
      "metadata": {
        "id": "SfCMmiLi2Unf",
        "colab": {
          "base_uri": "https://localhost:8080/",
          "height": 513
        },
        "outputId": "f290ff37-f550-4625-e569-86143f0b51bd"
      },
      "source": [
        "# Plotando gráfico da distribuição de tickets por dia da semana\n",
        "\n",
        "sns.countplot(tickets['weekday'])\n",
        "plt.rcParams['figure.figsize'] = (11,7)\n",
        "plt.title('Tickets Distribution by Weekday')\n",
        "plt.show()"
      ],
      "execution_count": 47,
      "outputs": [
        {
          "output_type": "stream",
          "text": [
            "/usr/local/lib/python3.7/dist-packages/seaborn/_decorators.py:43: FutureWarning: Pass the following variable as a keyword arg: x. From version 0.12, the only valid positional argument will be `data`, and passing other arguments without an explicit keyword will result in an error or misinterpretation.\n",
            "  FutureWarning\n"
          ],
          "name": "stderr"
        },
        {
          "output_type": "display_data",
          "data": {
            "image/png": "[encoded data removed]",
            "text/plain": [
              "<Figure size 792x504 with 1 Axes>"
            ]
          },
          "metadata": {
            "tags": [],
            "needs_background": "light"
          }
        }
      ]
    },
    {
      "cell_type": "code",
      "metadata": {
        "colab": {
          "base_uri": "https://localhost:8080/",
          "height": 514
        },
        "id": "6hzTzrHLux3b",
        "outputId": "63eed673-51f4-49d3-9e7c-a4e97af323ac"
      },
      "source": [
        "# Plotando gráfico da distribuição de tickets por variável de business_hours\n",
        "\n",
        "sns.countplot(tickets['is_business_hours'])\n",
        "plt.rcParams['figure.figsize'] = (11,7)\n",
        "plt.title('Tickets Distribution by Business Hours')\n",
        "plt.show()"
      ],
      "execution_count": 48,
      "outputs": [
        {
          "output_type": "stream",
          "text": [
            "/usr/local/lib/python3.7/dist-packages/seaborn/_decorators.py:43: FutureWarning: Pass the following variable as a keyword arg: x. From version 0.12, the only valid positional argument will be `data`, and passing other arguments without an explicit keyword will result in an error or misinterpretation.\n",
            "  FutureWarning\n"
          ],
          "name": "stderr"
        },
        {
          "output_type": "display_data",
          "data": {
            "image/png": "[encoded data removed]",
            "text/plain": [
              "<Figure size 792x504 with 1 Axes>"
            ]
          },
          "metadata": {
            "tags": [],
            "needs_background": "light"
          }
        }
      ]
    },
    {
      "cell_type": "markdown",
      "metadata": {
        "id": "_kFwfU3I2hM0"
      },
      "source": [
        "# Separando Input e Output"
      ]
    },
    {
      "cell_type": "code",
      "metadata": {
        "id": "JHZ4wbLL2bgT",
        "colab": {
          "base_uri": "https://localhost:8080/"
        },
        "outputId": "0d27835b-1ebb-4016-b1e1-4d96a2211411"
      },
      "source": [
        "# semente para reprodução de resultados\n",
        "seed=10000\n",
        "\n",
        "# Separando base de treino e de teste\n",
        "# from sklearn.model_selection import train_test_split\n",
        "x_train, x_test, y_train, y_test = train_test_split(tickets.loc[:,tickets.columns != 'complexity'],\n",
        "                                                    tickets['complexity'], test_size=0.2, stratify=tickets['complexity'],\n",
        "                                                    random_state=seed)\n",
        "\n",
        "print('shape input de treino: ', x_train.shape)\n",
        "print('shape input de teste: ', x_test.shape)\n",
        "print('shape output de treino: ', y_train.shape)\n",
        "print('shape output de teste: ', y_test.shape)"
      ],
      "execution_count": 49,
      "outputs": [
        {
          "output_type": "stream",
          "text": [
            "shape input de treino:  (7513, 25)\n",
            "shape input de teste:  (1879, 25)\n",
            "shape output de treino:  (7513,)\n",
            "shape output de teste:  (1879,)\n"
          ],
          "name": "stdout"
        }
      ]
    },
    {
      "cell_type": "code",
      "metadata": {
        "id": "yVufrEa-2lLa",
        "colab": {
          "base_uri": "https://localhost:8080/"
        },
        "outputId": "80458713-4f67-4f25-f048-7aa3fc13c314"
      },
      "source": [
        "# Verificar proporções. Amostragem estratificada\n",
        "\n",
        "tickets['complexity'].value_counts()"
      ],
      "execution_count": 50,
      "outputs": [
        {
          "output_type": "execute_result",
          "data": {
            "text/plain": [
              "low          5821\n",
              "moderate     2845\n",
              "high          613\n",
              "very_high     113\n",
              "Name: complexity, dtype: int64"
            ]
          },
          "metadata": {
            "tags": []
          },
          "execution_count": 50
        }
      ]
    },
    {
      "cell_type": "code",
      "metadata": {
        "id": "zaJ_cOR62nhu",
        "colab": {
          "base_uri": "https://localhost:8080/"
        },
        "outputId": "55b8ba3d-3398-466a-c727-2364e4aee78a"
      },
      "source": [
        "#treino\n",
        "print(0.8 * tickets['complexity'].value_counts()[0])\n",
        "print(0.8 * tickets['complexity'].value_counts()[1])\n",
        "print(0.8 * tickets['complexity'].value_counts()[2])\n",
        "print(0.8 * tickets['complexity'].value_counts()[3])\n",
        "\n",
        "#teste\n",
        "print(0.2 * tickets['complexity'].value_counts()[0])\n",
        "print(0.2 * tickets['complexity'].value_counts()[1])\n",
        "print(0.2 * tickets['complexity'].value_counts()[2])\n",
        "print(0.2 * tickets['complexity'].value_counts()[3])"
      ],
      "execution_count": 51,
      "outputs": [
        {
          "output_type": "stream",
          "text": [
            "4656.8\n",
            "2276.0\n",
            "490.40000000000003\n",
            "90.4\n",
            "1164.2\n",
            "569.0\n",
            "122.60000000000001\n",
            "22.6\n"
          ],
          "name": "stdout"
        }
      ]
    },
    {
      "cell_type": "code",
      "metadata": {
        "id": "jKfqsdOy2qZ4",
        "colab": {
          "base_uri": "https://localhost:8080/"
        },
        "outputId": "a7d29410-74ea-4fc0-97d2-20d2bf6df3fd"
      },
      "source": [
        "y_train.value_counts()"
      ],
      "execution_count": 52,
      "outputs": [
        {
          "output_type": "execute_result",
          "data": {
            "text/plain": [
              "low          4657\n",
              "moderate     2276\n",
              "high          490\n",
              "very_high      90\n",
              "Name: complexity, dtype: int64"
            ]
          },
          "metadata": {
            "tags": []
          },
          "execution_count": 52
        }
      ]
    },
    {
      "cell_type": "code",
      "metadata": {
        "id": "fNahcP012tiN",
        "colab": {
          "base_uri": "https://localhost:8080/"
        },
        "outputId": "1ec8ad47-5154-46c6-d550-052700aa1c8a"
      },
      "source": [
        "y_test.value_counts()"
      ],
      "execution_count": 53,
      "outputs": [
        {
          "output_type": "execute_result",
          "data": {
            "text/plain": [
              "low          1164\n",
              "moderate      569\n",
              "high          123\n",
              "very_high      23\n",
              "Name: complexity, dtype: int64"
            ]
          },
          "metadata": {
            "tags": []
          },
          "execution_count": 53
        }
      ]
    },
    {
      "cell_type": "markdown",
      "metadata": {
        "id": "fxRUkn5t2ybz"
      },
      "source": [
        "# Pré-Processamento"
      ]
    },
    {
      "cell_type": "markdown",
      "metadata": {
        "id": "sVYzPdQ_Sl2G"
      },
      "source": [
        "#### x_train"
      ]
    },
    {
      "cell_type": "code",
      "metadata": {
        "id": "OhjiYSId244g",
        "colab": {
          "base_uri": "https://localhost:8080/",
          "height": 433
        },
        "outputId": "21d5bb0f-744a-4e59-e3e7-7169dddcbd98"
      },
      "source": [
        "# Visualizar missing\n",
        "\n",
        "# import missingno as msno\n",
        "msno.matrix(x_train, figsize=(25,5));"
      ],
      "execution_count": 54,
      "outputs": [
        {
          "output_type": "display_data",
          "data": {
            "image/png": "[encoded data removed]",
            "text/plain": [
              "<Figure size 1800x360 with 2 Axes>"
            ]
          },
          "metadata": {
            "tags": [],
            "needs_background": "light"
          }
        }
      ]
    },
    {
      "cell_type": "code",
      "metadata": {
        "id": "fpd67Lr929sO",
        "colab": {
          "base_uri": "https://localhost:8080/",
          "height": 233
        },
        "outputId": "92273d72-f9b8-4874-d0fa-a1cad0a0af4c"
      },
      "source": [
        "# Verificar missing por linha\n",
        "\n",
        "percent_missing_rows = x_train.apply(lambda x: x.isnull().sum() * 100 / len(x_train), axis=1).sort_values(ascending=False)\n",
        "df = pd.DataFrame({'percent_missing': percent_missing_rows})\n",
        "df.head()"
      ],
      "execution_count": 60,
      "outputs": [
        {
          "output_type": "execute_result",
          "data": {
            "text/html": [
              "<div>\n",
              "<style scoped>\n",
              "    .dataframe tbody tr th:only-of-type {\n",
              "        vertical-align: middle;\n",
              "    }\n",
              "\n",
              "    .dataframe tbody tr th {\n",
              "        vertical-align: top;\n",
              "    }\n",
              "\n",
              "    .dataframe thead th {\n",
              "        text-align: right;\n",
              "    }\n",
              "</style>\n",
              "<table border=\"1\" class=\"dataframe\">\n",
              "  <thead>\n",
              "    <tr style=\"text-align: right;\">\n",
              "      <th></th>\n",
              "      <th>percent_missing</th>\n",
              "    </tr>\n",
              "    <tr>\n",
              "      <th>id</th>\n",
              "      <th></th>\n",
              "    </tr>\n",
              "  </thead>\n",
              "  <tbody>\n",
              "    <tr>\n",
              "      <th>334394</th>\n",
              "      <td>0.053241</td>\n",
              "    </tr>\n",
              "    <tr>\n",
              "      <th>330080</th>\n",
              "      <td>0.053241</td>\n",
              "    </tr>\n",
              "    <tr>\n",
              "      <th>329970</th>\n",
              "      <td>0.053241</td>\n",
              "    </tr>\n",
              "    <tr>\n",
              "      <th>333600</th>\n",
              "      <td>0.053241</td>\n",
              "    </tr>\n",
              "    <tr>\n",
              "      <th>330040</th>\n",
              "      <td>0.053241</td>\n",
              "    </tr>\n",
              "  </tbody>\n",
              "</table>\n",
              "</div>"
            ],
            "text/plain": [
              "        percent_missing\n",
              "id                     \n",
              "334394         0.053241\n",
              "330080         0.053241\n",
              "329970         0.053241\n",
              "333600         0.053241\n",
              "330040         0.053241"
            ]
          },
          "metadata": {
            "tags": []
          },
          "execution_count": 60
        }
      ]
    },
    {
      "cell_type": "code",
      "metadata": {
        "id": "LsxP72-N3CIm",
        "colab": {
          "base_uri": "https://localhost:8080/",
          "height": 202
        },
        "outputId": "33e70dec-88c3-47e5-c366-1130eaba6a09"
      },
      "source": [
        "# Verificar missing por coluna\n",
        "\n",
        "percent_missing = x_train.apply(lambda x: x.isnull().sum() * 100 / len(x_train), axis=0).sort_values(ascending=False)\n",
        "df = pd.DataFrame({'percent_missing': percent_missing})\n",
        "df.head()\n",
        "\n",
        "# Entender porque os nomes das colunas aparecem duas vezes e de forma divergente"
      ],
      "execution_count": 59,
      "outputs": [
        {
          "output_type": "execute_result",
          "data": {
            "text/html": [
              "<div>\n",
              "<style scoped>\n",
              "    .dataframe tbody tr th:only-of-type {\n",
              "        vertical-align: middle;\n",
              "    }\n",
              "\n",
              "    .dataframe tbody tr th {\n",
              "        vertical-align: top;\n",
              "    }\n",
              "\n",
              "    .dataframe thead th {\n",
              "        text-align: right;\n",
              "    }\n",
              "</style>\n",
              "<table border=\"1\" class=\"dataframe\">\n",
              "  <thead>\n",
              "    <tr style=\"text-align: right;\">\n",
              "      <th></th>\n",
              "      <th>percent_missing</th>\n",
              "    </tr>\n",
              "  </thead>\n",
              "  <tbody>\n",
              "    <tr>\n",
              "      <th>organization_id</th>\n",
              "      <td>4.112871</td>\n",
              "    </tr>\n",
              "    <tr>\n",
              "      <th>has_partner</th>\n",
              "      <td>4.112871</td>\n",
              "    </tr>\n",
              "    <tr>\n",
              "      <th>has_success_manager</th>\n",
              "      <td>4.112871</td>\n",
              "    </tr>\n",
              "    <tr>\n",
              "      <th>is_operating</th>\n",
              "      <td>1.850126</td>\n",
              "    </tr>\n",
              "    <tr>\n",
              "      <th>is_business_hours</th>\n",
              "      <td>0.000000</td>\n",
              "    </tr>\n",
              "  </tbody>\n",
              "</table>\n",
              "</div>"
            ],
            "text/plain": [
              "                     percent_missing\n",
              "organization_id             4.112871\n",
              "has_partner                 4.112871\n",
              "has_success_manager         4.112871\n",
              "is_operating                1.850126\n",
              "is_business_hours           0.000000"
            ]
          },
          "metadata": {
            "tags": []
          },
          "execution_count": 59
        }
      ]
    },
    {
      "cell_type": "code",
      "metadata": {
        "id": "20WLDpnj3GDu",
        "colab": {
          "base_uri": "https://localhost:8080/"
        },
        "outputId": "b4251ef7-f896-48fe-f77c-fe5455866f7a"
      },
      "source": [
        "# Classe tem missing?\n",
        "\n",
        "y_train.isnull().sum()"
      ],
      "execution_count": 58,
      "outputs": [
        {
          "output_type": "execute_result",
          "data": {
            "text/plain": [
              "0"
            ]
          },
          "metadata": {
            "tags": []
          },
          "execution_count": 58
        }
      ]
    },
    {
      "cell_type": "code",
      "metadata": {
        "id": "noBYW-pD3Jpo"
      },
      "source": [
        "# Atributos com muitos missing serão deletados\n",
        "\n",
        "# att_to_delete = df[0:3].index.values\n",
        "# att_to_delete"
      ],
      "execution_count": null,
      "outputs": []
    },
    {
      "cell_type": "code",
      "metadata": {
        "id": "V4NTbF6m3Mp0"
      },
      "source": [
        "# Deletar atributos\n",
        "\n",
        "# x_train.drop(att_to_delete, axis=1, inplace=True)\n",
        "# x_train.shape\n",
        "\n",
        "# OBS: Atributos com maiores porcentagens de missing value é de 4% apenas"
      ],
      "execution_count": null,
      "outputs": []
    },
    {
      "cell_type": "code",
      "metadata": {
        "id": "14P8hVi_3lwN"
      },
      "source": [
        "# Imputar dados faltantes\n",
        "from sklearn.impute import SimpleImputer\n",
        "imputer = SimpleImputer(strategy=\"most_frequent\")\n",
        "imputer.fit(x_train)\n",
        "x_train = imputer.transform(x_train)"
      ],
      "execution_count": 61,
      "outputs": []
    },
    {
      "cell_type": "code",
      "metadata": {
        "colab": {
          "base_uri": "https://localhost:8080/"
        },
        "id": "JFODDJG0nlaW",
        "outputId": "00aac7bc-1108-40c3-b462-90dfa285cd8a"
      },
      "source": [
        "# Verificar se temos mais algum missing\n",
        "print(np.isnan(x_train).sum())"
      ],
      "execution_count": 62,
      "outputs": [
        {
          "output_type": "stream",
          "text": [
            "0\n"
          ],
          "name": "stdout"
        }
      ]
    },
    {
      "cell_type": "code",
      "metadata": {
        "colab": {
          "base_uri": "https://localhost:8080/",
          "height": 273
        },
        "id": "vITb3JmJnpT9",
        "outputId": "bdb82f24-aed7-45ed-92c8-7f3e8f2ca464"
      },
      "source": [
        "# visualizar novamente os missing\n",
        "msno.matrix(pd.DataFrame(x_train), figsize=(25,5));"
      ],
      "execution_count": 63,
      "outputs": [
        {
          "output_type": "display_data",
          "data": {
            "image/png": "[encoded data removed]",
            "text/plain": [
              "<Figure size 1800x360 with 2 Axes>"
            ]
          },
          "metadata": {
            "tags": [],
            "needs_background": "light"
          }
        }
      ]
    },
    {
      "cell_type": "code",
      "metadata": {
        "id": "Wu37M5C9oB2z"
      },
      "source": [
        "# remover colunas com variância zero\n",
        "from sklearn.feature_selection import VarianceThreshold\n",
        "zero_var_filter = VarianceThreshold()\n",
        "x_train = zero_var_filter.fit_transform(x_train)"
      ],
      "execution_count": 64,
      "outputs": []
    },
    {
      "cell_type": "code",
      "metadata": {
        "colab": {
          "base_uri": "https://localhost:8080/"
        },
        "id": "eeGp8EnYoSzg",
        "outputId": "796f1a30-0652-498f-8119-7169d728cb81"
      },
      "source": [
        "# colunas com variância zero\n",
        "(zero_var_filter.variances_ == 0).sum()"
      ],
      "execution_count": 65,
      "outputs": [
        {
          "output_type": "execute_result",
          "data": {
            "text/plain": [
              "1"
            ]
          },
          "metadata": {
            "tags": []
          },
          "execution_count": 65
        }
      ]
    },
    {
      "cell_type": "code",
      "metadata": {
        "colab": {
          "base_uri": "https://localhost:8080/"
        },
        "id": "33yQTyDHoWx4",
        "outputId": "3f0794aa-78cd-4f93-b742-7e81ea22aedf"
      },
      "source": [
        "# novo shape\n",
        "pd.DataFrame(x_train).shape"
      ],
      "execution_count": 66,
      "outputs": [
        {
          "output_type": "execute_result",
          "data": {
            "text/plain": [
              "(7513, 24)"
            ]
          },
          "metadata": {
            "tags": []
          },
          "execution_count": 66
        }
      ]
    },
    {
      "cell_type": "markdown",
      "metadata": {
        "id": "Tc0A_3f2SvTK"
      },
      "source": [
        "#### x_test"
      ]
    },
    {
      "cell_type": "code",
      "metadata": {
        "colab": {
          "base_uri": "https://localhost:8080/",
          "height": 433
        },
        "id": "HHe8GmvqSyob",
        "outputId": "33329eb5-d981-4b9c-fd00-f05a41da5cf0"
      },
      "source": [
        "# Visualizar missing\n",
        "\n",
        "msno.matrix(x_test, figsize=(25,5));"
      ],
      "execution_count": 68,
      "outputs": [
        {
          "output_type": "display_data",
          "data": {
            "image/png": "[encoded data removed]",
            "text/plain": [
              "<Figure size 1800x360 with 2 Axes>"
            ]
          },
          "metadata": {
            "tags": [],
            "needs_background": "light"
          }
        }
      ]
    },
    {
      "cell_type": "code",
      "metadata": {
        "id": "Ga6ZTfguTAR3"
      },
      "source": [
        "# Imputar dados faltantes\n",
        "# from sklearn.impute import SimpleImputer\n",
        "# imputer = SimpleImputer(strategy=\"most_frequent\")\n",
        "# imputer.fit(x_train)\n",
        "x_test = imputer.transform(x_test)"
      ],
      "execution_count": 69,
      "outputs": []
    },
    {
      "cell_type": "code",
      "metadata": {
        "colab": {
          "base_uri": "https://localhost:8080/"
        },
        "id": "CFGL0jHhTMnw",
        "outputId": "e5b2fec2-2ff9-4b8c-91cb-df8fd2f19a70"
      },
      "source": [
        "# Verificar se temos mais algum missing\n",
        "print(np.isnan(x_test).sum())"
      ],
      "execution_count": 70,
      "outputs": [
        {
          "output_type": "stream",
          "text": [
            "0\n"
          ],
          "name": "stdout"
        }
      ]
    },
    {
      "cell_type": "code",
      "metadata": {
        "id": "G-lNeTNpTMfQ"
      },
      "source": [
        "# Remover colunas com variância zero\n",
        "\n",
        "x_test = zero_var_filter.fit_transform(x_test)"
      ],
      "execution_count": 71,
      "outputs": []
    },
    {
      "cell_type": "code",
      "metadata": {
        "colab": {
          "base_uri": "https://localhost:8080/"
        },
        "id": "2bibv2MCTlKo",
        "outputId": "68d0dbc3-0601-4791-f9e1-0e852722fc9a"
      },
      "source": [
        "# novo shape\n",
        "pd.DataFrame(x_test).shape"
      ],
      "execution_count": 72,
      "outputs": [
        {
          "output_type": "execute_result",
          "data": {
            "text/plain": [
              "(1879, 24)"
            ]
          },
          "metadata": {
            "tags": []
          },
          "execution_count": 72
        }
      ]
    },
    {
      "cell_type": "markdown",
      "metadata": {
        "id": "ED2P53D8opeR"
      },
      "source": [
        "# Árvore de Decisão"
      ]
    },
    {
      "cell_type": "code",
      "metadata": {
        "id": "_DC8ZR62oZGV"
      },
      "source": [
        "# treinar modelo\n",
        "from sklearn.tree import DecisionTreeClassifier\n",
        "\n",
        "def train(x_train, y_train, seed):\n",
        "  model = DecisionTreeClassifier(min_samples_leaf=5, random_state=seed) # tente mudar parâmetro para evitar overfitting\n",
        "  model.fit(x_train, y_train);\n",
        "  return model\n",
        "\n",
        "model = train(x_train, y_train, seed)"
      ],
      "execution_count": 73,
      "outputs": []
    },
    {
      "cell_type": "code",
      "metadata": {
        "colab": {
          "base_uri": "https://localhost:8080/",
          "height": 575
        },
        "id": "0gEseGY6oy-l",
        "outputId": "2f7c1d3f-b9a4-4751-88f9-74a3a7032fe6"
      },
      "source": [
        "# Visualização gráfica da árvore de decisão\n",
        "from sklearn import tree\n",
        "fig, ax = plt.subplots(figsize=(20, 10)) # Definir tamanho da imagem a ser gerada\n",
        "tree.plot_tree(model, class_names=['High', 'Very High', 'Moderate', 'Low'], filled=True, rounded=True); # plota a árvore"
      ],
      "execution_count": 74,
      "outputs": [
        {
          "output_type": "display_data",
          "data": {
            "image/png": "[encoded data removed]",
            "text/plain": [
              "<Figure size 1440x720 with 1 Axes>"
            ]
          },
          "metadata": {
            "tags": [],
            "needs_background": "light"
          }
        }
      ]
    },
    {
      "cell_type": "code",
      "metadata": {
        "colab": {
          "base_uri": "https://localhost:8080/",
          "height": 510
        },
        "id": "IDi1JzvrpQ6A",
        "outputId": "9986d900-70a2-4180-ced5-e51cda73a7bb"
      },
      "source": [
        "def predict_and_evaluate(x_test, y_test):\n",
        "\n",
        "  y_pred = model.predict(x_test) #inferência do teste\n",
        "\n",
        "  # Acurácia\n",
        "  from sklearn.metrics import accuracy_score\n",
        "  accuracy = accuracy_score(y_test, y_pred)\n",
        "  print('Acurácia: ', accuracy)\n",
        "\n",
        "  # Kappa\n",
        "  from sklearn.metrics import cohen_kappa_score\n",
        "  kappa = cohen_kappa_score(y_test, y_pred)\n",
        "  print('Kappa: ', kappa)\n",
        "\n",
        "  # F1\n",
        "  from sklearn.metrics import f1_score\n",
        "  f1 = f1_score(y_test, y_pred, average = 'weighted')\n",
        "  print('F1: ', f1)\n",
        "\n",
        "  # Matriz de confusão\n",
        "  from sklearn.metrics import confusion_matrix\n",
        "  confMatrix = confusion_matrix(y_pred, y_test)\n",
        "\n",
        "  ax = plt.subplot()\n",
        "  sns.heatmap(confMatrix, annot=True, fmt=\".0f\")\n",
        "  plt.xlabel('Real')\n",
        "  plt.ylabel('Previsto')\n",
        "  plt.title('Matriz de Confusão')\n",
        "\n",
        "  # Colocar os nomes\n",
        "  ax.xaxis.set_ticklabels(['High', 'Very High', 'Moderate', 'Low']) \n",
        "  ax.yaxis.set_ticklabels(['High', 'Very High', 'Moderate', 'Low'])\n",
        "  plt.show()\n",
        "\n",
        "predict_and_evaluate(x_test, y_test)"
      ],
      "execution_count": 76,
      "outputs": [
        {
          "output_type": "stream",
          "text": [
            "Acurácia:  0.5635976583288983\n",
            "Kappa:  0.1278077166923286\n",
            "F1:  0.5528424506911377\n"
          ],
          "name": "stdout"
        },
        {
          "output_type": "display_data",
          "data": {
            "image/png": "[encoded data removed]",
            "text/plain": [
              "<Figure size 792x504 with 2 Axes>"
            ]
          },
          "metadata": {
            "tags": [],
            "needs_background": "light"
          }
        }
      ]
    },
    {
      "cell_type": "code",
      "metadata": {
        "id": "iDBZI0v_tUv8"
      },
      "source": [
        ""
      ],
      "execution_count": null,
      "outputs": []
    }
  ]
}